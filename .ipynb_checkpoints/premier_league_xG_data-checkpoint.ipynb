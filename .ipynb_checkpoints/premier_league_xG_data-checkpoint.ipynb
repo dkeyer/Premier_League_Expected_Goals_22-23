{
 "cells": [
  {
   "cell_type": "code",
   "execution_count": 456,
   "id": "2437f5ac",
   "metadata": {},
   "outputs": [],
   "source": [
    "import pandas as pd\n",
    "import numpy as np\n",
    "import seaborn as sns\n",
    "import matplotlib.pyplot as plt\n",
    "import requests\n",
    "from bs4 import BeautifulSoup\n",
    "from __future__ import print_function\n",
    "import json\n",
    "\n",
    "from datetime import date\n",
    "import datetime\n",
    "#imports"
   ]
  },
  {
   "cell_type": "markdown",
   "id": "1af3afb7",
   "metadata": {},
   "source": [
    "There are 20 teams in the PL, each plays 38 matches for a total of 760. The first game in the 2022-2023 season is number 18202, and it counts up one by one from there, so the total range will be 18,202 to 18,961. Then we will take only the completed games from there."
   ]
  },
  {
   "cell_type": "code",
   "execution_count": 457,
   "id": "db038f48",
   "metadata": {},
   "outputs": [],
   "source": [
    "# d = range(18202,18962)\n",
    "match_range = range(18202,18242)"
   ]
  },
  {
   "cell_type": "code",
   "execution_count": 458,
   "id": "7703cfd5",
   "metadata": {},
   "outputs": [
    {
     "data": {
      "text/plain": [
       "40"
      ]
     },
     "execution_count": 458,
     "metadata": {},
     "output_type": "execute_result"
    }
   ],
   "source": [
    "len(match_range)"
   ]
  },
  {
   "cell_type": "code",
   "execution_count": 459,
   "id": "921d89ce",
   "metadata": {},
   "outputs": [],
   "source": [
    "urls = []\n",
    "for i in match_range:\n",
    "    base_url = f'https://understat.com/match/{i}'\n",
    "    urls.append(base_url)"
   ]
  },
  {
   "cell_type": "code",
   "execution_count": 460,
   "id": "c3022589",
   "metadata": {},
   "outputs": [],
   "source": [
    "resington = []\n",
    "all_res_data = []\n",
    "for i in urls:\n",
    "    res = requests.get(i)\n",
    "    soup = BeautifulSoup(res.content, 'lxml')\n",
    "    scripts = soup.find_all('script')\n",
    "#     for s in all_res_data:\n",
    "#         if \n",
    "    all_res_data.append(scripts)\n",
    "    resington.append(soup)\n",
    "    #Here we can append only the ones that have 'script'"
   ]
  },
  {
   "cell_type": "markdown",
   "id": "c676804c",
   "metadata": {},
   "source": [
    "liv vs u is 18231"
   ]
  },
  {
   "cell_type": "code",
   "execution_count": 448,
   "id": "3a899c16",
   "metadata": {},
   "outputs": [],
   "source": [
    "# res = requests.get(urls)\n",
    "# soup = BeautifulSoup(res.content, 'lxml')\n",
    "# scripts = soup.find_all('script')"
   ]
  },
  {
   "cell_type": "markdown",
   "id": "2e562e1f",
   "metadata": {},
   "source": [
    "Below we could potentially run a loop that checks for length of script and stops once the length of \"scripts\" is zero\n",
    "\n",
    "The only case that one of the \"scripts\" lists would be zero is if a game had not yet been played"
   ]
  },
  {
   "cell_type": "code",
   "execution_count": 461,
   "id": "9ef4e7a9",
   "metadata": {},
   "outputs": [
    {
     "data": {
      "text/plain": [
       "<!DOCTYPE html>\n",
       "<html lang=\"en\">\n",
       "<head>\n",
       "<link href=\"/css/errors.css\" media=\"screen\" rel=\"stylesheet\"/>\n",
       "<meta charset=\"utf-8\"/>\n",
       "<title>404 Page Not Found</title>\n",
       "</head>\n",
       "<body class=\"theme-dark\">\n",
       "<div id=\"shirt-container\">\n",
       "<span class=\"error-code\">404</span>\n",
       "<p>The page you requested was not found.</p> <div class=\"shirt\"></div>\n",
       "</div>\n",
       "</body>\n",
       "</html>"
      ]
     },
     "execution_count": 461,
     "metadata": {},
     "output_type": "execute_result"
    }
   ],
   "source": [
    "resington[35]\n",
    "\n",
    "#NO SCRIPT IN HERE SO WE CAN LOOP THROUGH ABOVE AND ONLY APPEND THE ONES THAT HAVE 'script'"
   ]
  },
  {
   "cell_type": "code",
   "execution_count": null,
   "id": "a0039952",
   "metadata": {},
   "outputs": [],
   "source": [
    "strings = scripts[1].string"
   ]
  },
  {
   "cell_type": "code",
   "execution_count": null,
   "id": "b76db28f",
   "metadata": {},
   "outputs": [],
   "source": [
    "# strip unnecessary symbols and get only JSON data \n",
    "ind_start = strings.index(\"('\")+2 \n",
    "ind_end = strings.index(\"')\") \n",
    "json_data = strings[ind_start:ind_end] \n",
    "json_data = json_data.encode('utf8').decode('unicode_escape')\n",
    "\n",
    "#convert string to json format\n",
    "data = json.loads(json_data)"
   ]
  },
  {
   "cell_type": "code",
   "execution_count": null,
   "id": "8b0e150b",
   "metadata": {},
   "outputs": [],
   "source": [
    "match_id = [] \n",
    "x = []\n",
    "y = []\n",
    "home_score = []\n",
    "away_score = []\n",
    "player = []\n",
    "xG = []\n",
    "h_a = []\n",
    "result = []\n",
    "team = []\n",
    "minute = []\n",
    "data_away = data['a']\n",
    "data_home = data['h']\n",
    "\n",
    "for index in range(len(data_home)):\n",
    "    for key in data_home[index]:\n",
    "        if key == 'X':\n",
    "            x.append(data_home[index][key])\n",
    "        if key == 'Y':\n",
    "            y.append(data_home[index][key])\n",
    "        if key == 'h_team':\n",
    "            team.append(data_home[index][key])\n",
    "        if key == 'xG':\n",
    "            xG.append(data_home[index][key])\n",
    "        if key == 'result':\n",
    "            result.append(data_home[index][key])\n",
    "        if key == 'h_goals':\n",
    "            home_score.append(data_home[index][key])\n",
    "        if key == 'a_goals':\n",
    "            away_score.append(data_home[index][key])\n",
    "        if key == 'minute':\n",
    "            minute.append(data_home[index][key]) \n",
    "        if key == 'player':\n",
    "            player.append(data_home[index][key])\n",
    "        if key == 'match_id':\n",
    "            match_id.append(data_home[index][key])\n",
    "        if key == 'h_a':\n",
    "            h_a.append(data_home[index][key]) \n",
    "\n",
    "for index in range(len(data_away)):\n",
    "    for key in data_away[index]:\n",
    "        if key == 'X':\n",
    "            x.append(data_away[index][key])\n",
    "        if key == 'Y':\n",
    "            y.append(data_away[index][key])\n",
    "        if key == 'a_team':\n",
    "            team.append(data_away[index][key])\n",
    "        if key == 'xG':\n",
    "            xG.append(data_away[index][key])\n",
    "        if key == 'result':\n",
    "            result.append(data_away[index][key])\n",
    "        if key == 'h_goals':\n",
    "            home_score.append(data_away[index][key])\n",
    "        if key == 'a_goals':\n",
    "            away_score.append(data_away[index][key])\n",
    "        if key == 'minute':\n",
    "            minute.append(data_away[index][key])\n",
    "        if key == 'player':\n",
    "            player.append(data_away[index][key])\n",
    "        if key == 'match_id':\n",
    "            match_id.append(data_away[index][key])\n",
    "        if key == 'h_a':\n",
    "            h_a.append(data_away[index][key]) "
   ]
  },
  {
   "cell_type": "code",
   "execution_count": null,
   "id": "b7335eba",
   "metadata": {},
   "outputs": [],
   "source": [
    "col_names = ['match_id','x','y','xG','minute','result','team','h_a','player','home_score','away_score']\n",
    "df = pd.DataFrame([match_id,x,y,xG,minute,result,team,h_a,player,home_score,away_score],index=col_names)\n",
    "df = df.T\n",
    "df = df.astype({'minute':'int'})\n",
    "df = df.sort_values(by=['match_id','minute'])"
   ]
  },
  {
   "cell_type": "code",
   "execution_count": null,
   "id": "c515dead",
   "metadata": {},
   "outputs": [],
   "source": [
    "df['away_score'] = 0\n",
    "df['home_score'] = 0"
   ]
  },
  {
   "cell_type": "code",
   "execution_count": null,
   "id": "f33e516b",
   "metadata": {},
   "outputs": [],
   "source": [
    "df.loc[df['result'] == 'Goal', 'away_score'] = 10"
   ]
  }
 ],
 "metadata": {
  "kernelspec": {
   "display_name": "Python 3 (ipykernel)",
   "language": "python",
   "name": "python3"
  },
  "language_info": {
   "codemirror_mode": {
    "name": "ipython",
    "version": 3
   },
   "file_extension": ".py",
   "mimetype": "text/x-python",
   "name": "python",
   "nbconvert_exporter": "python",
   "pygments_lexer": "ipython3",
   "version": "3.9.7"
  }
 },
 "nbformat": 4,
 "nbformat_minor": 5
}
