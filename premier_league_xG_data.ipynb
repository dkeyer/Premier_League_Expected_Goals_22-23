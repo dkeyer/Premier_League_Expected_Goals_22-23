{
 "cells": [
  {
   "cell_type": "code",
   "execution_count": 151,
   "id": "98b7ac45",
   "metadata": {},
   "outputs": [],
   "source": [
    "import pandas as pd\n",
    "import numpy as np\n",
    "import seaborn as sns\n",
    "import matplotlib.pyplot as plt\n",
    "import requests\n",
    "from bs4 import BeautifulSoup\n",
    "from __future__ import print_function\n",
    "import json\n",
    "\n",
    "from datetime import date\n",
    "import datetime\n",
    "#imports"
   ]
  },
  {
   "cell_type": "markdown",
   "id": "011bb6b2",
   "metadata": {},
   "source": [
    "There are 20 teams in the PL, each plays 38 matches for a total of 760. The first game in the 2022-2023 season is number 18202, and it counts up one by one from there, so the total range will be 18,202 to 18,961. Then we will take only the completed games from there."
   ]
  },
  {
   "cell_type": "markdown",
   "id": "17cf7370",
   "metadata": {},
   "source": [
    "NEXT: Will add something to get all of the players from the match, and then count the defensive players to determine back 4 or back 5\n",
    "\n",
    "Code will be -- take all of the elements where the class \"player-position\" is DC... get a count, if it's two then the team will be in a back four, if there are 3 then it's a back five with wingbacks"
   ]
  },
  {
   "cell_type": "code",
   "execution_count": 152,
   "id": "acffa7ac",
   "metadata": {},
   "outputs": [],
   "source": [
    "# d = range(18202,18962)\n",
    "match_range = range(18202,18400)"
   ]
  },
  {
   "cell_type": "code",
   "execution_count": 153,
   "id": "c0ae3fae",
   "metadata": {},
   "outputs": [],
   "source": [
    "urls = []\n",
    "for i in match_range:\n",
    "    base_url = f'https://understat.com/match/{i}'\n",
    "    urls.append(base_url)"
   ]
  },
  {
   "cell_type": "code",
   "execution_count": 154,
   "id": "4cf2f34c",
   "metadata": {},
   "outputs": [],
   "source": [
    "all_res_data = []\n",
    "for i in urls:\n",
    "    res = requests.get(i)\n",
    "    soup = BeautifulSoup(res.content, 'lxml')\n",
    "    scripts = soup.find_all('script')\n",
    "#     positions = soup.find_all(\"span\", {\"class\": \"player-position\"})\n",
    "\n",
    "    all_res_data.append(scripts)\n",
    "    #Here we can append only the ones that have 'script'"
   ]
  },
  {
   "cell_type": "code",
   "execution_count": 155,
   "id": "8526b65b",
   "metadata": {},
   "outputs": [],
   "source": [
    "backup_all_res_data = all_res_data\n",
    "#Adding a backup unless we need it and so we don't need to scrape again"
   ]
  },
  {
   "cell_type": "code",
   "execution_count": 156,
   "id": "45e66012",
   "metadata": {},
   "outputs": [],
   "source": [
    "all_res_data = backup_all_res_data"
   ]
  },
  {
   "cell_type": "code",
   "execution_count": 157,
   "id": "d4db7cb6",
   "metadata": {},
   "outputs": [],
   "source": [
    "scripts = []\n",
    "for i in all_res_data:\n",
    "    if len(i) > 1:\n",
    "        scripts.append(i)\n",
    "    else:\n",
    "        pass\n",
    "#All of the incomplete games in all_res_data will have a length of zero, so this is how we will filter out the unplayed games\n",
    "#if necessary"
   ]
  },
  {
   "cell_type": "code",
   "execution_count": 158,
   "id": "3d467ad2",
   "metadata": {},
   "outputs": [],
   "source": [
    "script_list = []\n",
    "for i in scripts:\n",
    "    script_list.append(i[1])\n",
    "#The [1] element is the one with all of the shot data"
   ]
  },
  {
   "cell_type": "code",
   "execution_count": 159,
   "id": "cc703ba9",
   "metadata": {},
   "outputs": [],
   "source": [
    "for i in range(0, len(script_list)):\n",
    "    script_list[i] = str(script_list[i])\n",
    "#turning all of our data into strings"
   ]
  },
  {
   "cell_type": "code",
   "execution_count": 160,
   "id": "8522601d",
   "metadata": {},
   "outputs": [],
   "source": [
    "data_list = []\n",
    "\n",
    "# strip unnecessary symbols and get only JSON data \n",
    "for i in range(0, len(script_list)):\n",
    "    ind_start = script_list[i].index(\"('\")+2 \n",
    "    ind_end = script_list[i].index(\"')\") \n",
    "    json_data = script_list[i][ind_start:ind_end] \n",
    "    json_data = json_data.encode('utf8').decode('unicode_escape')\n",
    "\n",
    "#convert string to json format\n",
    "    data = json.loads(json_data)\n",
    "    data_list.append(data)"
   ]
  },
  {
   "cell_type": "code",
   "execution_count": 161,
   "id": "1b687b77",
   "metadata": {},
   "outputs": [],
   "source": [
    "all_data = []\n",
    "match_id_list = []\n",
    "x_list = []\n",
    "y_list = []\n",
    "home_score_list = []\n",
    "away_score_list = []\n",
    "player_list = []\n",
    "xG_list = []\n",
    "h_a_list = []\n",
    "situation_list = []\n",
    "result_list = []\n",
    "team_list = []\n",
    "opposing_team_list = []\n",
    "minute_list = []\n",
    "length = len(data_list)\n",
    "for i in range(length):\n",
    "    match_id = [] \n",
    "    x = []\n",
    "    y = []\n",
    "    home_score = []\n",
    "    away_score = []\n",
    "    player = []\n",
    "    xG = []\n",
    "    h_a = []\n",
    "    situation = []\n",
    "    result = []\n",
    "    team = []\n",
    "    opposing_team = []\n",
    "    minute = []\n",
    "    data_away = data_list[i]['a']\n",
    "    data_home = data_list[i]['h']\n",
    "\n",
    "    for index in range(len(data_home)):\n",
    "        for key in data_home[index]:\n",
    "            if key == 'X':\n",
    "                x.append(data_home[index][key])\n",
    "            if key == 'Y':\n",
    "                y.append(data_home[index][key])\n",
    "            if key == 'h_team':\n",
    "                team.append(data_home[index][key])\n",
    "            if key == 'a_team':\n",
    "                opposing_team.append(data_home[index][key])\n",
    "            if key == 'xG':\n",
    "                xG.append(data_home[index][key])\n",
    "            if key == 'situation':\n",
    "                situation.append(data_home[index][key])\n",
    "            if key == 'result':\n",
    "                result.append(data_home[index][key])\n",
    "            if key == 'h_goals':\n",
    "                home_score.append(data_home[index][key])\n",
    "            if key == 'a_goals':\n",
    "                away_score.append(data_home[index][key])\n",
    "            if key == 'minute':\n",
    "                minute.append(data_home[index][key]) \n",
    "            if key == 'player':\n",
    "                player.append(data_home[index][key])\n",
    "            if key == 'match_id':\n",
    "                match_id.append(data_home[index][key])\n",
    "            if key == 'h_a':\n",
    "                h_a.append(data_home[index][key])\n",
    "        \n",
    "        #NEED TO APPEND EVERYTHING TO ALL_DATA\n",
    "\n",
    "    for index in range(len(data_away)):\n",
    "        for key in data_away[index]:\n",
    "            if key == 'X':\n",
    "                x.append(data_away[index][key])\n",
    "            if key == 'Y':\n",
    "                y.append(data_away[index][key])\n",
    "            if key == 'a_team':\n",
    "                team.append(data_away[index][key])\n",
    "            if key == 'h_team':\n",
    "                opposing_team.append(data_away[index][key])\n",
    "            if key == 'xG':\n",
    "                xG.append(data_away[index][key])\n",
    "            if key == 'situation':\n",
    "                situation.append(data_away[index][key])\n",
    "            if key == 'result':\n",
    "                result.append(data_away[index][key])\n",
    "            if key == 'h_goals':\n",
    "                home_score.append(data_away[index][key])\n",
    "            if key == 'a_goals':\n",
    "                away_score.append(data_away[index][key])\n",
    "            if key == 'minute':\n",
    "                minute.append(data_away[index][key])\n",
    "            if key == 'player':\n",
    "                player.append(data_away[index][key])\n",
    "            if key == 'match_id':\n",
    "                match_id.append(data_away[index][key])\n",
    "            if key == 'h_a':\n",
    "                h_a.append(data_away[index][key]) \n",
    "                \n",
    "    match_id_list.append(match_id)\n",
    "    x_list.append(x)\n",
    "    y_list.append(y)\n",
    "    team_list.append(team)\n",
    "    opposing_team_list.append(opposing_team)\n",
    "    xG_list.append(xG)\n",
    "    situation_list.append(situation)\n",
    "    result_list.append(result)\n",
    "    home_score_list.append(home_score)\n",
    "    away_score_list.append(away_score)\n",
    "    minute_list.append(minute)\n",
    "    player_list.append(player)\n",
    "    h_a_list.append(h_a)"
   ]
  },
  {
   "cell_type": "code",
   "execution_count": 162,
   "id": "2370573a",
   "metadata": {},
   "outputs": [],
   "source": [
    "match_id_list = [val for sublist in match_id_list for val in sublist]\n",
    "x_list = [val for sublist in x_list for val in sublist]\n",
    "y_list = [val for sublist in y_list for val in sublist]\n",
    "team_list = [val for sublist in team_list for val in sublist]\n",
    "opposing_team_list = [val for sublist in opposing_team_list for val in sublist]\n",
    "xG_list = [val for sublist in xG_list for val in sublist]\n",
    "situation_list = [val for sublist in situation_list for val in sublist]\n",
    "result_list = [val for sublist in result_list for val in sublist]\n",
    "home_score_list = [val for sublist in home_score_list for val in sublist]\n",
    "away_score_list = [val for sublist in away_score_list for val in sublist]\n",
    "minute_list = [val for sublist in minute_list for val in sublist]\n",
    "player_list = [val for sublist in player_list for val in sublist]\n",
    "h_a_list = [val for sublist in h_a_list for val in sublist]\n",
    "#Flattening nested lists"
   ]
  },
  {
   "cell_type": "code",
   "execution_count": 163,
   "id": "c297ab9c",
   "metadata": {},
   "outputs": [],
   "source": [
    "col_names = ['match_id','x','y','xG','minute','situation','result','team','opposing_team','h_a','player','home_score','away_score']\n",
    "df = pd.DataFrame([match_id_list,x_list,y_list,xG_list,minute_list,situation_list,result_list,team_list,opposing_team_list,h_a_list,player_list,home_score_list,away_score_list],index=col_names)\n",
    "df = df.T\n",
    "df = df.astype({'minute':'int'})\n",
    "df = df.sort_values(by=['match_id','minute'])\n",
    "df = df.reset_index()"
   ]
  },
  {
   "cell_type": "code",
   "execution_count": 170,
   "id": "6efe68e7",
   "metadata": {},
   "outputs": [],
   "source": [
    "df['away_score'] = (df['away_goal_scored'] == 1).cumsum()\n",
    "df['home_score'] = (df['home_goal_scored'] == 1).cumsum()\n",
    "#This sums for every time a goal is scored in the entire df -- need to do it for each individual match_id"
   ]
  },
  {
   "cell_type": "code",
   "execution_count": 196,
   "id": "db1c06a2",
   "metadata": {},
   "outputs": [
    {
     "data": {
      "text/plain": [
       "index               0\n",
       "match_id            0\n",
       "x                   0\n",
       "y                   0\n",
       "xG                  0\n",
       "minute              0\n",
       "situation           0\n",
       "result              0\n",
       "team                0\n",
       "opposing_team       0\n",
       "h_a                 0\n",
       "player              0\n",
       "home_score          0\n",
       "away_score          0\n",
       "home_goal_scored    0\n",
       "away_goal_scored    0\n",
       "dtype: int64"
      ]
     },
     "execution_count": 196,
     "metadata": {},
     "output_type": "execute_result"
    }
   ],
   "source": [
    "df.isna().sum()\n",
    "#Checking for null values"
   ]
  },
  {
   "cell_type": "markdown",
   "id": "2317a113",
   "metadata": {},
   "source": [
    "# Non Pen xG"
   ]
  },
  {
   "cell_type": "code",
   "execution_count": null,
   "id": "7443f3f5",
   "metadata": {},
   "outputs": [],
   "source": []
  },
  {
   "cell_type": "code",
   "execution_count": 176,
   "id": "df608093",
   "metadata": {},
   "outputs": [],
   "source": [
    "# test_home_list = np.where((df['result'] == 'Goal') & (df['h_a'] == 'h') | (df['result'] == 'OwnGoal') & (df['h_a'] == 'a'), 1, 0)"
   ]
  },
  {
   "cell_type": "code",
   "execution_count": 177,
   "id": "5f00cc2e",
   "metadata": {},
   "outputs": [],
   "source": [
    "df['xG'] = df['xG'].astype(float)\n",
    "df['match_id'] = df['match_id'].astype(int)"
   ]
  },
  {
   "cell_type": "code",
   "execution_count": 178,
   "id": "32e978bf",
   "metadata": {},
   "outputs": [],
   "source": [
    "xg_total = df.groupby('team')['xG'].sum()\n",
    "#Count total xG for every team"
   ]
  },
  {
   "cell_type": "code",
   "execution_count": 180,
   "id": "f1942724",
   "metadata": {},
   "outputs": [],
   "source": [
    "xg_total = pd.DataFrame(data=xg_total)\n",
    "# xg_total = xg_total.reset_index(level=0)"
   ]
  },
  {
   "cell_type": "code",
   "execution_count": 181,
   "id": "31d6a1c8",
   "metadata": {},
   "outputs": [],
   "source": [
    "xg_total['xGA'] = df.groupby('opposing_team')['xG'].sum()"
   ]
  },
  {
   "cell_type": "code",
   "execution_count": 182,
   "id": "52fd1537",
   "metadata": {},
   "outputs": [],
   "source": [
    "xg_total['xG_difference'] = xg_total['xG'] - xg_total['xGA']"
   ]
  },
  {
   "cell_type": "code",
   "execution_count": 183,
   "id": "cc9365de",
   "metadata": {
    "scrolled": true
   },
   "outputs": [],
   "source": [
    "xg_total['matches_played'] = df.groupby('team')['match_id'].nunique()\n",
    "#Get number of matches played for each team"
   ]
  },
  {
   "cell_type": "code",
   "execution_count": 184,
   "id": "4fbbd38c",
   "metadata": {},
   "outputs": [],
   "source": [
    "xg_total = xg_total.reset_index(level=0)"
   ]
  },
  {
   "cell_type": "code",
   "execution_count": 185,
   "id": "00bf5eab",
   "metadata": {},
   "outputs": [],
   "source": [
    "xg_total['avg_xG_diff'] = round(xg_total['xG_difference'] / xg_total['matches_played'], 2)\n",
    "xg_total['avg_xG_for'] = round(xg_total['xG'] / xg_total['matches_played'], 2)\n",
    "xg_total['avg_xGA'] = round(xg_total['xGA'] / xg_total['matches_played'], 2)"
   ]
  },
  {
   "cell_type": "markdown",
   "id": "570525f8",
   "metadata": {},
   "source": [
    "# Non Pen xG"
   ]
  },
  {
   "cell_type": "code",
   "execution_count": 186,
   "id": "223b82fc",
   "metadata": {},
   "outputs": [
    {
     "data": {
      "text/plain": [
       "team\n",
       "Arsenal                    14.448916\n",
       "Aston Villa                 6.240447\n",
       "Bournemouth                 3.352932\n",
       "Brentford                  10.591798\n",
       "Brighton                    9.007801\n",
       "Chelsea                     7.655113\n",
       "Crystal Palace              7.281679\n",
       "Everton                     8.046968\n",
       "Fulham                      7.637309\n",
       "Leeds                       9.558559\n",
       "Leicester                   5.867586\n",
       "Liverpool                  14.153699\n",
       "Manchester City            16.841678\n",
       "Manchester United           9.599411\n",
       "Newcastle United           10.606812\n",
       "Nottingham Forest           6.770749\n",
       "Southampton                 7.267867\n",
       "Tottenham                  12.119758\n",
       "West Ham                    6.284111\n",
       "Wolverhampton Wanderers     6.841702\n",
       "dtype: float64"
      ]
     },
     "execution_count": 186,
     "metadata": {},
     "output_type": "execute_result"
    }
   ],
   "source": [
    "g = df.groupby('team')\n",
    "g.apply(lambda x: x[x['situation'] != 'Penalty']['xG'].sum())\n",
    "#Getting non pen xG and adding to df\n",
    "#Not working because this groupby result does not have a name so can't go into a df"
   ]
  },
  {
   "cell_type": "code",
   "execution_count": null,
   "id": "305380fd",
   "metadata": {},
   "outputs": [],
   "source": [
    "xg_total = xg_total.sort_values(by='avg_xG_diff', ascending=False).reset_index(drop=True)"
   ]
  },
  {
   "cell_type": "markdown",
   "id": "6e723619",
   "metadata": {},
   "source": [
    "Extra Code"
   ]
  },
  {
   "cell_type": "code",
   "execution_count": 193,
   "id": "85ddaeb0",
   "metadata": {},
   "outputs": [],
   "source": [
    "# for i in range(len(df)):\n",
    "#     df['home_current_score'][i+1] = new_home[i]\n",
    "#     df['away_current_score'][i+1] = new_away[i]\n",
    "    \n",
    "#Setting the value one after the goal scored as equal to one, because technically at the time of the goalscoring shot, the \n",
    "#score would not have changed yet -- so we want to change the one after"
   ]
  },
  {
   "cell_type": "code",
   "execution_count": null,
   "id": "285f2c06",
   "metadata": {},
   "outputs": [],
   "source": []
  },
  {
   "cell_type": "code",
   "execution_count": null,
   "id": "596a2b9e",
   "metadata": {},
   "outputs": [],
   "source": [
    "# xg_total.to_excel(\"prem_xG_data.xlsx\")"
   ]
  },
  {
   "cell_type": "code",
   "execution_count": null,
   "id": "e1a0af49",
   "metadata": {},
   "outputs": [],
   "source": []
  }
 ],
 "metadata": {
  "kernelspec": {
   "display_name": "Python 3 (ipykernel)",
   "language": "python",
   "name": "python3"
  },
  "language_info": {
   "codemirror_mode": {
    "name": "ipython",
    "version": 3
   },
   "file_extension": ".py",
   "mimetype": "text/x-python",
   "name": "python",
   "nbconvert_exporter": "python",
   "pygments_lexer": "ipython3",
   "version": "3.9.7"
  }
 },
 "nbformat": 4,
 "nbformat_minor": 5
}
