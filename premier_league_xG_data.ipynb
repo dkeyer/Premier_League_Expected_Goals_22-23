{
 "cells": [
  {
   "cell_type": "code",
   "execution_count": 44,
   "id": "98b7ac45",
   "metadata": {},
   "outputs": [],
   "source": [
    "import pandas as pd\n",
    "import numpy as np\n",
    "import seaborn as sns\n",
    "import matplotlib.pyplot as plt\n",
    "import requests\n",
    "from bs4 import BeautifulSoup\n",
    "from __future__ import print_function\n",
    "import json\n",
    "\n",
    "from datetime import date\n",
    "import datetime\n",
    "#imports"
   ]
  },
  {
   "cell_type": "markdown",
   "id": "011bb6b2",
   "metadata": {},
   "source": [
    "There are 20 teams in the PL, each plays 38 matches for a total of 760. The first game in the 2022-2023 season is number 18202, and it counts up one by one from there, so the total range will be 18,202 to 18,961. Then we will take only the completed games from there."
   ]
  },
  {
   "cell_type": "markdown",
   "id": "17cf7370",
   "metadata": {},
   "source": [
    "NEXT: Will add something to get all of the players from the match, and then count the defensive players to determine back 4 or back 5\n",
    "\n",
    "Code will be -- take all of the elements where the class \"player-position\" is DC... get a count, if it's two then the team will be in a back four, if there are 3 then it's a back five with wingbacks"
   ]
  },
  {
   "cell_type": "code",
   "execution_count": 45,
   "id": "acffa7ac",
   "metadata": {},
   "outputs": [],
   "source": [
    "# d = range(18202,18962)\n",
    "match_range = range(18202,18400)"
   ]
  },
  {
   "cell_type": "code",
   "execution_count": 46,
   "id": "c0ae3fae",
   "metadata": {},
   "outputs": [],
   "source": [
    "urls = []\n",
    "for i in match_range:\n",
    "    base_url = f'https://understat.com/match/{i}'\n",
    "    urls.append(base_url)"
   ]
  },
  {
   "cell_type": "code",
   "execution_count": 47,
   "id": "4cf2f34c",
   "metadata": {},
   "outputs": [],
   "source": [
    "all_res_data = []\n",
    "for i in urls:\n",
    "    res = requests.get(i)\n",
    "    soup = BeautifulSoup(res.content, 'lxml')\n",
    "    scripts = soup.find_all('script')\n",
    "#     positions = soup.find_all(\"span\", {\"class\": \"player-position\"})\n",
    "\n",
    "    all_res_data.append(scripts)\n",
    "    #Here we can append only the ones that have 'script'"
   ]
  },
  {
   "cell_type": "code",
   "execution_count": 49,
   "id": "8526b65b",
   "metadata": {},
   "outputs": [],
   "source": [
    "backup_all_res_data = all_res_data\n",
    "#Adding a backup unless we need it and so we don't need to scrape again"
   ]
  },
  {
   "cell_type": "code",
   "execution_count": 50,
   "id": "45e66012",
   "metadata": {},
   "outputs": [],
   "source": [
    "all_res_data = backup_all_res_data"
   ]
  },
  {
   "cell_type": "code",
   "execution_count": 82,
   "id": "7b1ebb00",
   "metadata": {
    "scrolled": true
   },
   "outputs": [
    {
     "data": {
      "text/plain": [
       "<Response [404]>"
      ]
     },
     "execution_count": 82,
     "metadata": {},
     "output_type": "execute_result"
    }
   ],
   "source": [
    "res"
   ]
  },
  {
   "cell_type": "code",
   "execution_count": 52,
   "id": "d4db7cb6",
   "metadata": {},
   "outputs": [],
   "source": [
    "scripts = []\n",
    "for i in all_res_data:\n",
    "    if len(i) > 1:\n",
    "        scripts.append(i)\n",
    "    else:\n",
    "        pass\n",
    "#All of the incomplete games in all_res_data will have a length of zero, so this is how we will filter out the unplayed games\n",
    "#if necessary"
   ]
  },
  {
   "cell_type": "code",
   "execution_count": 53,
   "id": "3d467ad2",
   "metadata": {},
   "outputs": [],
   "source": [
    "script_list = []\n",
    "for i in scripts:\n",
    "    script_list.append(i[1])\n",
    "#The [1] element is the one with all of the shot data"
   ]
  },
  {
   "cell_type": "code",
   "execution_count": 54,
   "id": "cc703ba9",
   "metadata": {},
   "outputs": [],
   "source": [
    "for i in range(0, len(script_list)):\n",
    "    script_list[i] = str(script_list[i])\n",
    "#turning all of our data into strings"
   ]
  },
  {
   "cell_type": "code",
   "execution_count": 55,
   "id": "8522601d",
   "metadata": {},
   "outputs": [],
   "source": [
    "data_list = []\n",
    "\n",
    "# strip unnecessary symbols and get only JSON data \n",
    "for i in range(0, len(script_list)):\n",
    "    ind_start = script_list[i].index(\"('\")+2 \n",
    "    ind_end = script_list[i].index(\"')\") \n",
    "    json_data = script_list[i][ind_start:ind_end] \n",
    "    json_data = json_data.encode('utf8').decode('unicode_escape')\n",
    "\n",
    "#convert string to json format\n",
    "    data = json.loads(json_data)\n",
    "    data_list.append(data)"
   ]
  },
  {
   "cell_type": "code",
   "execution_count": 56,
   "id": "1b687b77",
   "metadata": {},
   "outputs": [],
   "source": [
    "all_data = []\n",
    "match_id_list = []\n",
    "x_list = []\n",
    "y_list = []\n",
    "home_score_list = []\n",
    "away_score_list = []\n",
    "player_list = []\n",
    "xG_list = []\n",
    "h_a_list = []\n",
    "result_list = []\n",
    "team_list = []\n",
    "opposing_team_list = []\n",
    "minute_list = []\n",
    "length = len(data_list)\n",
    "for i in range(length):\n",
    "    match_id = [] \n",
    "    x = []\n",
    "    y = []\n",
    "    home_score = []\n",
    "    away_score = []\n",
    "    player = []\n",
    "    xG = []\n",
    "    h_a = []\n",
    "    result = []\n",
    "    team = []\n",
    "    opposing_team = []\n",
    "    minute = []\n",
    "    data_away = data_list[i]['a']\n",
    "    data_home = data_list[i]['h']\n",
    "\n",
    "    for index in range(len(data_home)):\n",
    "        for key in data_home[index]:\n",
    "            if key == 'X':\n",
    "                x.append(data_home[index][key])\n",
    "            if key == 'Y':\n",
    "                y.append(data_home[index][key])\n",
    "            if key == 'h_team':\n",
    "                team.append(data_home[index][key])\n",
    "            if key == 'a_team':\n",
    "                opposing_team.append(data_home[index][key])\n",
    "            if key == 'xG':\n",
    "                xG.append(data_home[index][key])\n",
    "            if key == 'result':\n",
    "                result.append(data_home[index][key])\n",
    "            if key == 'h_goals':\n",
    "                home_score.append(data_home[index][key])\n",
    "            if key == 'a_goals':\n",
    "                away_score.append(data_home[index][key])\n",
    "            if key == 'minute':\n",
    "                minute.append(data_home[index][key]) \n",
    "            if key == 'player':\n",
    "                player.append(data_home[index][key])\n",
    "            if key == 'match_id':\n",
    "                match_id.append(data_home[index][key])\n",
    "            if key == 'h_a':\n",
    "                h_a.append(data_home[index][key])\n",
    "        \n",
    "        #NEED TO APPEND EVERYTHING TO ALL_DATA\n",
    "\n",
    "    for index in range(len(data_away)):\n",
    "        for key in data_away[index]:\n",
    "            if key == 'X':\n",
    "                x.append(data_away[index][key])\n",
    "            if key == 'Y':\n",
    "                y.append(data_away[index][key])\n",
    "            if key == 'a_team':\n",
    "                team.append(data_away[index][key])\n",
    "            if key == 'h_team':\n",
    "                opposing_team.append(data_away[index][key])\n",
    "            if key == 'xG':\n",
    "                xG.append(data_away[index][key])\n",
    "            if key == 'result':\n",
    "                result.append(data_away[index][key])\n",
    "            if key == 'h_goals':\n",
    "                home_score.append(data_away[index][key])\n",
    "            if key == 'a_goals':\n",
    "                away_score.append(data_away[index][key])\n",
    "            if key == 'minute':\n",
    "                minute.append(data_away[index][key])\n",
    "            if key == 'player':\n",
    "                player.append(data_away[index][key])\n",
    "            if key == 'match_id':\n",
    "                match_id.append(data_away[index][key])\n",
    "            if key == 'h_a':\n",
    "                h_a.append(data_away[index][key]) \n",
    "                \n",
    "    match_id_list.append(match_id)\n",
    "    x_list.append(x)\n",
    "    y_list.append(y)\n",
    "    team_list.append(team)\n",
    "    opposing_team_list.append(opposing_team)\n",
    "    xG_list.append(xG)\n",
    "    result_list.append(result)\n",
    "    home_score_list.append(home_score)\n",
    "    away_score_list.append(away_score)\n",
    "    minute_list.append(minute)\n",
    "    player_list.append(player)\n",
    "    h_a_list.append(h_a)"
   ]
  },
  {
   "cell_type": "code",
   "execution_count": 57,
   "id": "2370573a",
   "metadata": {},
   "outputs": [],
   "source": [
    "match_id_list = [val for sublist in match_id_list for val in sublist]\n",
    "x_list = [val for sublist in x_list for val in sublist]\n",
    "y_list = [val for sublist in y_list for val in sublist]\n",
    "team_list = [val for sublist in team_list for val in sublist]\n",
    "opposing_team_list = [val for sublist in opposing_team_list for val in sublist]\n",
    "xG_list = [val for sublist in xG_list for val in sublist]\n",
    "result_list = [val for sublist in result_list for val in sublist]\n",
    "home_score_list = [val for sublist in home_score_list for val in sublist]\n",
    "away_score_list = [val for sublist in away_score_list for val in sublist]\n",
    "minute_list = [val for sublist in minute_list for val in sublist]\n",
    "player_list = [val for sublist in player_list for val in sublist]\n",
    "h_a_list = [val for sublist in h_a_list for val in sublist]\n",
    "\n",
    "#Flattening nested lists"
   ]
  },
  {
   "cell_type": "code",
   "execution_count": 58,
   "id": "c297ab9c",
   "metadata": {},
   "outputs": [],
   "source": [
    "col_names = ['match_id','x','y','xG','minute','result','team','opposing_team','h_a','player','home_score','away_score']\n",
    "df = pd.DataFrame([match_id_list,x_list,y_list,xG_list,minute_list,result_list,team_list,opposing_team_list,h_a_list,player_list,home_score_list,away_score_list],index=col_names)\n",
    "# df = pd.DataFrame([all_data[0],all_data[1],all_data[2],all_data[3],all_data[4],all_data[5],all_data[6],all_data[7],all_data[8],all_data[9],all_data[10]],index=col_names)\n",
    "df = df.T\n",
    "df = df.astype({'minute':'int'})\n",
    "df = df.sort_values(by=['match_id','minute'])\n",
    "df = df.reset_index()"
   ]
  },
  {
   "cell_type": "code",
   "execution_count": 59,
   "id": "cbed8c97",
   "metadata": {},
   "outputs": [],
   "source": [
    "df['away_score'] = 0\n",
    "df['home_score'] = 0"
   ]
  },
  {
   "cell_type": "markdown",
   "id": "c4e0d820",
   "metadata": {},
   "source": [
    "Up next, need to figure out how to add score once we see goal, and keep it there for all of the subsequent rows for that game"
   ]
  },
  {
   "cell_type": "code",
   "execution_count": 60,
   "id": "152237f7",
   "metadata": {},
   "outputs": [],
   "source": [
    "df['home_goal_scored'] = ''\n",
    "df['away_goal_scored'] = ''"
   ]
  },
  {
   "cell_type": "code",
   "execution_count": 61,
   "id": "3b1b2bd8",
   "metadata": {},
   "outputs": [],
   "source": [
    "df['home_goal_scored'] = np.where((df['result'] == 'Goal') & (df['h_a'] == 'h') | (df['result'] == 'OwnGoal') & (df['h_a'] == 'a'), 1, 0)\n",
    "df['away_goal_scored'] = np.where((df['result'] == 'Goal') & (df['h_a'] == 'a') | (df['result'] == 'OwnGoal') & (df['h_a'] == 'h'), 1, 0)"
   ]
  },
  {
   "cell_type": "code",
   "execution_count": 62,
   "id": "4c40e1f4",
   "metadata": {},
   "outputs": [],
   "source": [
    "away_count = 0"
   ]
  },
  {
   "cell_type": "code",
   "execution_count": 63,
   "id": "37774ad9",
   "metadata": {},
   "outputs": [],
   "source": [
    "# df['home_score'] = np.where((df['result'] == 'Goal') & (df['h_a'] == 'h') | (df['result'] == 'OwnGoal') & (df['h_a'] == 'a'), 1, 0)\n",
    "# df['away_score'] = np.where((df['result'] == 'Goal') & (df['h_a'] == 'a') | (df['result'] == 'OwnGoal') & (df['h_a'] == 'h'), 1, 0)\n",
    "# #Increment the score for each goal or own goal"
   ]
  },
  {
   "cell_type": "code",
   "execution_count": 64,
   "id": "120e0e35",
   "metadata": {},
   "outputs": [],
   "source": [
    "unique_match_id = df['match_id'].unique()"
   ]
  },
  {
   "cell_type": "code",
   "execution_count": 65,
   "id": "6efe68e7",
   "metadata": {},
   "outputs": [],
   "source": [
    "df['away_score'] = (df['away_goal_scored'] == 1).cumsum()\n",
    "df['home_score'] = (df['home_goal_scored'] == 1).cumsum()\n",
    "#This sums for every time a goal is scored in the entire df -- need to do it for each individual match_id"
   ]
  },
  {
   "cell_type": "code",
   "execution_count": 66,
   "id": "c13834be",
   "metadata": {},
   "outputs": [],
   "source": [
    "df['home_current_score'] = ''\n",
    "df['away_current_score'] = ''"
   ]
  },
  {
   "cell_type": "code",
   "execution_count": 67,
   "id": "7077141f",
   "metadata": {},
   "outputs": [],
   "source": [
    "for i in range(len(df)):\n",
    "    new_home = np.where((df['result'] == 'Goal') & (df['h_a'] == 'h') | (df['result'] == 'OwnGoal') & (df['h_a'] == 'a'), 1, 0)\n",
    "    new_away = np.where((df['result'] == 'Goal') & (df['h_a'] == 'a') | (df['result'] == 'OwnGoal') & (df['h_a'] == 'h'), 1, 0)"
   ]
  },
  {
   "cell_type": "code",
   "execution_count": 68,
   "id": "5fbf4eb4",
   "metadata": {},
   "outputs": [
    {
     "name": "stderr",
     "output_type": "stream",
     "text": [
      "C:\\Users\\User\\AppData\\Local\\Temp/ipykernel_12044/917744379.py:2: SettingWithCopyWarning: \n",
      "A value is trying to be set on a copy of a slice from a DataFrame\n",
      "\n",
      "See the caveats in the documentation: https://pandas.pydata.org/pandas-docs/stable/user_guide/indexing.html#returning-a-view-versus-a-copy\n",
      "  df['home_current_score'][i+1] = new_home[i]\n",
      "C:\\Users\\User\\AppData\\Local\\Temp/ipykernel_12044/917744379.py:3: SettingWithCopyWarning: \n",
      "A value is trying to be set on a copy of a slice from a DataFrame\n",
      "\n",
      "See the caveats in the documentation: https://pandas.pydata.org/pandas-docs/stable/user_guide/indexing.html#returning-a-view-versus-a-copy\n",
      "  df['away_current_score'][i+1] = new_away[i]\n"
     ]
    }
   ],
   "source": [
    "for i in range(len(df)):\n",
    "    df['home_current_score'][i+1] = new_home[i]\n",
    "    df['away_current_score'][i+1] = new_away[i]\n",
    "    \n",
    "#Setting the value one after the goal scored as equal to one, because technically at the time of the goalscoring shot, the \n",
    "#score would not have changed yet -- so we want to change the one after"
   ]
  },
  {
   "cell_type": "code",
   "execution_count": 69,
   "id": "df608093",
   "metadata": {},
   "outputs": [],
   "source": [
    "test_home_list = np.where((df['result'] == 'Goal') & (df['h_a'] == 'h') | (df['result'] == 'OwnGoal') & (df['h_a'] == 'a'), 1, 0)"
   ]
  },
  {
   "cell_type": "code",
   "execution_count": 70,
   "id": "5f00cc2e",
   "metadata": {},
   "outputs": [],
   "source": [
    "df['xG'] = df['xG'].astype(float)\n",
    "df['match_id'] = df['match_id'].astype(int)"
   ]
  },
  {
   "cell_type": "code",
   "execution_count": 71,
   "id": "32e978bf",
   "metadata": {},
   "outputs": [],
   "source": [
    "xg_total = df.groupby('team')['xG'].sum()\n",
    "#Count total xG for every team"
   ]
  },
  {
   "cell_type": "code",
   "execution_count": 72,
   "id": "f1942724",
   "metadata": {},
   "outputs": [],
   "source": [
    "xg_total = pd.DataFrame(data=xg_total)\n",
    "# xg_total = xg_total.reset_index(level=0)"
   ]
  },
  {
   "cell_type": "code",
   "execution_count": 73,
   "id": "31d6a1c8",
   "metadata": {},
   "outputs": [],
   "source": [
    "xg_total['xGA'] = df.groupby('opposing_team')['xG'].sum()"
   ]
  },
  {
   "cell_type": "code",
   "execution_count": 74,
   "id": "52fd1537",
   "metadata": {},
   "outputs": [],
   "source": [
    "xg_total['xG_difference'] = xg_total['xG'] - xg_total['xGA']"
   ]
  },
  {
   "cell_type": "code",
   "execution_count": 75,
   "id": "cc9365de",
   "metadata": {
    "scrolled": true
   },
   "outputs": [],
   "source": [
    "xg_total['matches_played'] = df.groupby('team')['match_id'].nunique()\n",
    "#Get number of matches played for each team"
   ]
  },
  {
   "cell_type": "code",
   "execution_count": 76,
   "id": "4fbbd38c",
   "metadata": {},
   "outputs": [],
   "source": [
    "xg_total = xg_total.reset_index(level=0)"
   ]
  },
  {
   "cell_type": "code",
   "execution_count": 77,
   "id": "00bf5eab",
   "metadata": {},
   "outputs": [],
   "source": [
    "xg_total['avg_xG_diff'] = round(xg_total['xG_difference'] / xg_total['matches_played'], 2)\n",
    "xg_total['avg_xG_for'] = round(xg_total['xG'] / xg_total['matches_played'], 2)\n",
    "xg_total['avg_xGA'] = round(xg_total['xGA'] / xg_total['matches_played'], 2)"
   ]
  },
  {
   "cell_type": "code",
   "execution_count": 78,
   "id": "305380fd",
   "metadata": {},
   "outputs": [],
   "source": [
    "xg_total = xg_total.sort_values(by='avg_xG_diff', ascending=False).reset_index(drop=True)"
   ]
  },
  {
   "cell_type": "code",
   "execution_count": 79,
   "id": "51c152b4",
   "metadata": {},
   "outputs": [
    {
     "data": {
      "text/html": [
       "<div>\n",
       "<style scoped>\n",
       "    .dataframe tbody tr th:only-of-type {\n",
       "        vertical-align: middle;\n",
       "    }\n",
       "\n",
       "    .dataframe tbody tr th {\n",
       "        vertical-align: top;\n",
       "    }\n",
       "\n",
       "    .dataframe thead th {\n",
       "        text-align: right;\n",
       "    }\n",
       "</style>\n",
       "<table border=\"1\" class=\"dataframe\">\n",
       "  <thead>\n",
       "    <tr style=\"text-align: right;\">\n",
       "      <th></th>\n",
       "      <th>team</th>\n",
       "      <th>xG</th>\n",
       "      <th>xGA</th>\n",
       "      <th>xG_difference</th>\n",
       "      <th>matches_played</th>\n",
       "      <th>avg_xG_diff</th>\n",
       "      <th>avg_xG_for</th>\n",
       "      <th>avg_xGA</th>\n",
       "    </tr>\n",
       "  </thead>\n",
       "  <tbody>\n",
       "    <tr>\n",
       "      <th>0</th>\n",
       "      <td>Manchester City</td>\n",
       "      <td>17.602847</td>\n",
       "      <td>3.994953</td>\n",
       "      <td>13.607894</td>\n",
       "      <td>7</td>\n",
       "      <td>1.94</td>\n",
       "      <td>2.51</td>\n",
       "      <td>0.57</td>\n",
       "    </tr>\n",
       "    <tr>\n",
       "      <th>1</th>\n",
       "      <td>Arsenal</td>\n",
       "      <td>14.448916</td>\n",
       "      <td>5.911167</td>\n",
       "      <td>8.537749</td>\n",
       "      <td>7</td>\n",
       "      <td>1.22</td>\n",
       "      <td>2.06</td>\n",
       "      <td>0.84</td>\n",
       "    </tr>\n",
       "    <tr>\n",
       "      <th>2</th>\n",
       "      <td>Liverpool</td>\n",
       "      <td>14.153699</td>\n",
       "      <td>7.186824</td>\n",
       "      <td>6.966876</td>\n",
       "      <td>6</td>\n",
       "      <td>1.16</td>\n",
       "      <td>2.36</td>\n",
       "      <td>1.20</td>\n",
       "    </tr>\n",
       "    <tr>\n",
       "      <th>3</th>\n",
       "      <td>Brighton</td>\n",
       "      <td>11.291308</td>\n",
       "      <td>5.681505</td>\n",
       "      <td>5.609803</td>\n",
       "      <td>6</td>\n",
       "      <td>0.93</td>\n",
       "      <td>1.88</td>\n",
       "      <td>0.95</td>\n",
       "    </tr>\n",
       "    <tr>\n",
       "      <th>4</th>\n",
       "      <td>Tottenham</td>\n",
       "      <td>12.880927</td>\n",
       "      <td>7.219784</td>\n",
       "      <td>5.661143</td>\n",
       "      <td>7</td>\n",
       "      <td>0.81</td>\n",
       "      <td>1.84</td>\n",
       "      <td>1.03</td>\n",
       "    </tr>\n",
       "    <tr>\n",
       "      <th>5</th>\n",
       "      <td>Manchester United</td>\n",
       "      <td>9.599411</td>\n",
       "      <td>8.078713</td>\n",
       "      <td>1.520699</td>\n",
       "      <td>6</td>\n",
       "      <td>0.25</td>\n",
       "      <td>1.60</td>\n",
       "      <td>1.35</td>\n",
       "    </tr>\n",
       "    <tr>\n",
       "      <th>6</th>\n",
       "      <td>Brentford</td>\n",
       "      <td>11.352967</td>\n",
       "      <td>9.970925</td>\n",
       "      <td>1.382042</td>\n",
       "      <td>7</td>\n",
       "      <td>0.20</td>\n",
       "      <td>1.62</td>\n",
       "      <td>1.42</td>\n",
       "    </tr>\n",
       "    <tr>\n",
       "      <th>7</th>\n",
       "      <td>Newcastle United</td>\n",
       "      <td>11.367981</td>\n",
       "      <td>10.322543</td>\n",
       "      <td>1.045438</td>\n",
       "      <td>7</td>\n",
       "      <td>0.15</td>\n",
       "      <td>1.62</td>\n",
       "      <td>1.47</td>\n",
       "    </tr>\n",
       "    <tr>\n",
       "      <th>8</th>\n",
       "      <td>Leeds</td>\n",
       "      <td>9.558559</td>\n",
       "      <td>8.774671</td>\n",
       "      <td>0.783888</td>\n",
       "      <td>6</td>\n",
       "      <td>0.13</td>\n",
       "      <td>1.59</td>\n",
       "      <td>1.46</td>\n",
       "    </tr>\n",
       "    <tr>\n",
       "      <th>9</th>\n",
       "      <td>Chelsea</td>\n",
       "      <td>8.416282</td>\n",
       "      <td>9.604870</td>\n",
       "      <td>-1.188588</td>\n",
       "      <td>6</td>\n",
       "      <td>-0.20</td>\n",
       "      <td>1.40</td>\n",
       "      <td>1.60</td>\n",
       "    </tr>\n",
       "    <tr>\n",
       "      <th>10</th>\n",
       "      <td>West Ham</td>\n",
       "      <td>7.045280</td>\n",
       "      <td>8.618292</td>\n",
       "      <td>-1.573011</td>\n",
       "      <td>7</td>\n",
       "      <td>-0.22</td>\n",
       "      <td>1.01</td>\n",
       "      <td>1.23</td>\n",
       "    </tr>\n",
       "    <tr>\n",
       "      <th>11</th>\n",
       "      <td>Wolverhampton Wanderers</td>\n",
       "      <td>6.841702</td>\n",
       "      <td>8.442516</td>\n",
       "      <td>-1.600814</td>\n",
       "      <td>7</td>\n",
       "      <td>-0.23</td>\n",
       "      <td>0.98</td>\n",
       "      <td>1.21</td>\n",
       "    </tr>\n",
       "    <tr>\n",
       "      <th>12</th>\n",
       "      <td>Southampton</td>\n",
       "      <td>7.267867</td>\n",
       "      <td>10.019294</td>\n",
       "      <td>-2.751427</td>\n",
       "      <td>7</td>\n",
       "      <td>-0.39</td>\n",
       "      <td>1.04</td>\n",
       "      <td>1.43</td>\n",
       "    </tr>\n",
       "    <tr>\n",
       "      <th>13</th>\n",
       "      <td>Everton</td>\n",
       "      <td>8.046968</td>\n",
       "      <td>11.132744</td>\n",
       "      <td>-3.085775</td>\n",
       "      <td>7</td>\n",
       "      <td>-0.44</td>\n",
       "      <td>1.15</td>\n",
       "      <td>1.59</td>\n",
       "    </tr>\n",
       "    <tr>\n",
       "      <th>14</th>\n",
       "      <td>Crystal Palace</td>\n",
       "      <td>8.042848</td>\n",
       "      <td>11.541426</td>\n",
       "      <td>-3.498578</td>\n",
       "      <td>6</td>\n",
       "      <td>-0.58</td>\n",
       "      <td>1.34</td>\n",
       "      <td>1.92</td>\n",
       "    </tr>\n",
       "    <tr>\n",
       "      <th>15</th>\n",
       "      <td>Aston Villa</td>\n",
       "      <td>6.240447</td>\n",
       "      <td>10.663953</td>\n",
       "      <td>-4.423506</td>\n",
       "      <td>7</td>\n",
       "      <td>-0.63</td>\n",
       "      <td>0.89</td>\n",
       "      <td>1.52</td>\n",
       "    </tr>\n",
       "    <tr>\n",
       "      <th>16</th>\n",
       "      <td>Fulham</td>\n",
       "      <td>9.159646</td>\n",
       "      <td>13.609938</td>\n",
       "      <td>-4.450292</td>\n",
       "      <td>7</td>\n",
       "      <td>-0.64</td>\n",
       "      <td>1.31</td>\n",
       "      <td>1.94</td>\n",
       "    </tr>\n",
       "    <tr>\n",
       "      <th>17</th>\n",
       "      <td>Leicester</td>\n",
       "      <td>6.628755</td>\n",
       "      <td>12.812728</td>\n",
       "      <td>-6.183973</td>\n",
       "      <td>7</td>\n",
       "      <td>-0.88</td>\n",
       "      <td>0.95</td>\n",
       "      <td>1.83</td>\n",
       "    </tr>\n",
       "    <tr>\n",
       "      <th>18</th>\n",
       "      <td>Nottingham Forest</td>\n",
       "      <td>7.531918</td>\n",
       "      <td>13.942187</td>\n",
       "      <td>-6.410269</td>\n",
       "      <td>7</td>\n",
       "      <td>-0.92</td>\n",
       "      <td>1.08</td>\n",
       "      <td>1.99</td>\n",
       "    </tr>\n",
       "    <tr>\n",
       "      <th>19</th>\n",
       "      <td>Bournemouth</td>\n",
       "      <td>3.352932</td>\n",
       "      <td>13.302230</td>\n",
       "      <td>-9.949299</td>\n",
       "      <td>7</td>\n",
       "      <td>-1.42</td>\n",
       "      <td>0.48</td>\n",
       "      <td>1.90</td>\n",
       "    </tr>\n",
       "  </tbody>\n",
       "</table>\n",
       "</div>"
      ],
      "text/plain": [
       "                       team         xG        xGA  xG_difference  \\\n",
       "0           Manchester City  17.602847   3.994953      13.607894   \n",
       "1                   Arsenal  14.448916   5.911167       8.537749   \n",
       "2                 Liverpool  14.153699   7.186824       6.966876   \n",
       "3                  Brighton  11.291308   5.681505       5.609803   \n",
       "4                 Tottenham  12.880927   7.219784       5.661143   \n",
       "5         Manchester United   9.599411   8.078713       1.520699   \n",
       "6                 Brentford  11.352967   9.970925       1.382042   \n",
       "7          Newcastle United  11.367981  10.322543       1.045438   \n",
       "8                     Leeds   9.558559   8.774671       0.783888   \n",
       "9                   Chelsea   8.416282   9.604870      -1.188588   \n",
       "10                 West Ham   7.045280   8.618292      -1.573011   \n",
       "11  Wolverhampton Wanderers   6.841702   8.442516      -1.600814   \n",
       "12              Southampton   7.267867  10.019294      -2.751427   \n",
       "13                  Everton   8.046968  11.132744      -3.085775   \n",
       "14           Crystal Palace   8.042848  11.541426      -3.498578   \n",
       "15              Aston Villa   6.240447  10.663953      -4.423506   \n",
       "16                   Fulham   9.159646  13.609938      -4.450292   \n",
       "17                Leicester   6.628755  12.812728      -6.183973   \n",
       "18        Nottingham Forest   7.531918  13.942187      -6.410269   \n",
       "19              Bournemouth   3.352932  13.302230      -9.949299   \n",
       "\n",
       "    matches_played  avg_xG_diff  avg_xG_for  avg_xGA  \n",
       "0                7         1.94        2.51     0.57  \n",
       "1                7         1.22        2.06     0.84  \n",
       "2                6         1.16        2.36     1.20  \n",
       "3                6         0.93        1.88     0.95  \n",
       "4                7         0.81        1.84     1.03  \n",
       "5                6         0.25        1.60     1.35  \n",
       "6                7         0.20        1.62     1.42  \n",
       "7                7         0.15        1.62     1.47  \n",
       "8                6         0.13        1.59     1.46  \n",
       "9                6        -0.20        1.40     1.60  \n",
       "10               7        -0.22        1.01     1.23  \n",
       "11               7        -0.23        0.98     1.21  \n",
       "12               7        -0.39        1.04     1.43  \n",
       "13               7        -0.44        1.15     1.59  \n",
       "14               6        -0.58        1.34     1.92  \n",
       "15               7        -0.63        0.89     1.52  \n",
       "16               7        -0.64        1.31     1.94  \n",
       "17               7        -0.88        0.95     1.83  \n",
       "18               7        -0.92        1.08     1.99  \n",
       "19               7        -1.42        0.48     1.90  "
      ]
     },
     "execution_count": 79,
     "metadata": {},
     "output_type": "execute_result"
    }
   ],
   "source": [
    "xg_total"
   ]
  },
  {
   "cell_type": "code",
   "execution_count": 80,
   "id": "596a2b9e",
   "metadata": {},
   "outputs": [],
   "source": [
    "xg_total.to_excel(\"prem_xG_data.xlsx\")"
   ]
  },
  {
   "cell_type": "code",
   "execution_count": null,
   "id": "e1a0af49",
   "metadata": {},
   "outputs": [],
   "source": []
  }
 ],
 "metadata": {
  "kernelspec": {
   "display_name": "Python 3 (ipykernel)",
   "language": "python",
   "name": "python3"
  },
  "language_info": {
   "codemirror_mode": {
    "name": "ipython",
    "version": 3
   },
   "file_extension": ".py",
   "mimetype": "text/x-python",
   "name": "python",
   "nbconvert_exporter": "python",
   "pygments_lexer": "ipython3",
   "version": "3.9.7"
  }
 },
 "nbformat": 4,
 "nbformat_minor": 5
}
