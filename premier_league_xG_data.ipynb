{
 "cells": [
  {
   "cell_type": "code",
   "execution_count": 1,
   "id": "98b7ac45",
   "metadata": {},
   "outputs": [],
   "source": [
    "import pandas as pd\n",
    "import numpy as np\n",
    "import seaborn as sns\n",
    "import matplotlib.pyplot as plt\n",
    "import requests\n",
    "from bs4 import BeautifulSoup\n",
    "from __future__ import print_function\n",
    "import json\n",
    "\n",
    "from datetime import date\n",
    "import datetime\n",
    "#imports"
   ]
  },
  {
   "cell_type": "markdown",
   "id": "011bb6b2",
   "metadata": {},
   "source": [
    "There are 20 teams in the PL, each plays 38 matches for a total of 760. The first game in the 2022-2023 season is number 18202, and it counts up one by one from there, so the total range will be 18,202 to 18,961. Then we will take only the completed games from there."
   ]
  },
  {
   "cell_type": "code",
   "execution_count": 2,
   "id": "acffa7ac",
   "metadata": {},
   "outputs": [],
   "source": [
    "# d = range(18202,18962)\n",
    "match_range = range(18202,18242)"
   ]
  },
  {
   "cell_type": "code",
   "execution_count": 3,
   "id": "c0ae3fae",
   "metadata": {},
   "outputs": [],
   "source": [
    "urls = []\n",
    "for i in match_range:\n",
    "    base_url = f'https://understat.com/match/{i}'\n",
    "    urls.append(base_url)"
   ]
  },
  {
   "cell_type": "code",
   "execution_count": 4,
   "id": "4cf2f34c",
   "metadata": {},
   "outputs": [],
   "source": [
    "all_res_data = []\n",
    "for i in urls:\n",
    "    res = requests.get(i)\n",
    "    soup = BeautifulSoup(res.content, 'lxml')\n",
    "    scripts = soup.find_all('script')\n",
    "\n",
    "    all_res_data.append(scripts)\n",
    "    #Here we can append only the ones that have 'script'"
   ]
  },
  {
   "cell_type": "code",
   "execution_count": 79,
   "id": "8526b65b",
   "metadata": {},
   "outputs": [],
   "source": [
    "backup_all_res_data = all_res_data\n",
    "#Adding a backup unless we need it and so we don't need to scrape again"
   ]
  },
  {
   "cell_type": "code",
   "execution_count": 80,
   "id": "45e66012",
   "metadata": {},
   "outputs": [],
   "source": [
    "all_res_data = backup_all_res_data"
   ]
  },
  {
   "cell_type": "code",
   "execution_count": 81,
   "id": "d4db7cb6",
   "metadata": {},
   "outputs": [],
   "source": [
    "scripts = []\n",
    "for i in all_res_data:\n",
    "    if len(i) > 1:\n",
    "        scripts.append(i)\n",
    "    else:\n",
    "        pass\n",
    "#All of the incomplete games in all_res_data will have a length of zero, so this is how we will filter out the unplayed games\n",
    "#if necessary"
   ]
  },
  {
   "cell_type": "code",
   "execution_count": 82,
   "id": "3d467ad2",
   "metadata": {},
   "outputs": [],
   "source": [
    "script_list = []\n",
    "for i in scripts:\n",
    "    script_list.append(i[1])\n",
    "#The [1] element is the one with all of the shot data"
   ]
  },
  {
   "cell_type": "code",
   "execution_count": 83,
   "id": "cc703ba9",
   "metadata": {},
   "outputs": [],
   "source": [
    "for i in range(0, len(script_list)):\n",
    "    script_list[i] = str(script_list[i])\n",
    "#turning all of our data into strings"
   ]
  },
  {
   "cell_type": "code",
   "execution_count": 84,
   "id": "8522601d",
   "metadata": {},
   "outputs": [],
   "source": [
    "data_list = []\n",
    "\n",
    "# strip unnecessary symbols and get only JSON data \n",
    "for i in range(0, len(script_list)):\n",
    "    ind_start = script_list[i].index(\"('\")+2 \n",
    "    ind_end = script_list[i].index(\"')\") \n",
    "    json_data = script_list[i][ind_start:ind_end] \n",
    "    json_data = json_data.encode('utf8').decode('unicode_escape')\n",
    "\n",
    "#convert string to json format\n",
    "    data = json.loads(json_data)\n",
    "    data_list.append(data)"
   ]
  },
  {
   "cell_type": "code",
   "execution_count": 85,
   "id": "1b687b77",
   "metadata": {},
   "outputs": [],
   "source": [
    "all_data = []\n",
    "match_id_list = []\n",
    "x_list = []\n",
    "y_list = []\n",
    "home_score_list = []\n",
    "away_score_list = []\n",
    "player_list = []\n",
    "xG_list = []\n",
    "h_a_list = []\n",
    "result_list = []\n",
    "team_list = []\n",
    "minute_list = []\n",
    "length = len(data_list)\n",
    "for i in range(length):\n",
    "    match_id = [] \n",
    "    x = []\n",
    "    y = []\n",
    "    home_score = []\n",
    "    away_score = []\n",
    "    player = []\n",
    "    xG = []\n",
    "    h_a = []\n",
    "    result = []\n",
    "    team = []\n",
    "    minute = []\n",
    "    data_away = data_list[i]['a']\n",
    "    data_home = data_list[i]['h']\n",
    "\n",
    "    for index in range(len(data_home)):\n",
    "        for key in data_home[index]:\n",
    "            if key == 'X':\n",
    "                x.append(data_home[index][key])\n",
    "            if key == 'Y':\n",
    "                y.append(data_home[index][key])\n",
    "            if key == 'h_team':\n",
    "                team.append(data_home[index][key])\n",
    "            if key == 'xG':\n",
    "                xG.append(data_home[index][key])\n",
    "            if key == 'result':\n",
    "                result.append(data_home[index][key])\n",
    "            if key == 'h_goals':\n",
    "                home_score.append(data_home[index][key])\n",
    "            if key == 'a_goals':\n",
    "                away_score.append(data_home[index][key])\n",
    "            if key == 'minute':\n",
    "                minute.append(data_home[index][key]) \n",
    "            if key == 'player':\n",
    "                player.append(data_home[index][key])\n",
    "            if key == 'match_id':\n",
    "                match_id.append(data_home[index][key])\n",
    "            if key == 'h_a':\n",
    "                h_a.append(data_home[index][key])\n",
    "        \n",
    "        #NEED TO APPEND EVERYTHING TO ALL_DATA\n",
    "\n",
    "    for index in range(len(data_away)):\n",
    "        for key in data_away[index]:\n",
    "            if key == 'X':\n",
    "                x.append(data_away[index][key])\n",
    "            if key == 'Y':\n",
    "                y.append(data_away[index][key])\n",
    "            if key == 'a_team':\n",
    "                team.append(data_away[index][key])\n",
    "            if key == 'xG':\n",
    "                xG.append(data_away[index][key])\n",
    "            if key == 'result':\n",
    "                result.append(data_away[index][key])\n",
    "            if key == 'h_goals':\n",
    "                home_score.append(data_away[index][key])\n",
    "            if key == 'a_goals':\n",
    "                away_score.append(data_away[index][key])\n",
    "            if key == 'minute':\n",
    "                minute.append(data_away[index][key])\n",
    "            if key == 'player':\n",
    "                player.append(data_away[index][key])\n",
    "            if key == 'match_id':\n",
    "                match_id.append(data_away[index][key])\n",
    "            if key == 'h_a':\n",
    "                h_a.append(data_away[index][key]) \n",
    "                \n",
    "    match_id_list.append(match_id)\n",
    "    x_list.append(x)\n",
    "    y_list.append(y)\n",
    "    team_list.append(team)\n",
    "    xG_list.append(xG)\n",
    "    result_list.append(result)\n",
    "    home_score_list.append(home_score)\n",
    "    away_score_list.append(away_score)\n",
    "    minute_list.append(minute)\n",
    "    player_list.append(player)\n",
    "    h_a_list.append(h_a)"
   ]
  },
  {
   "cell_type": "code",
   "execution_count": 86,
   "id": "2370573a",
   "metadata": {},
   "outputs": [],
   "source": [
    "match_id_list = [val for sublist in match_id_list for val in sublist]\n",
    "x_list = [val for sublist in x_list for val in sublist]\n",
    "y_list = [val for sublist in y_list for val in sublist]\n",
    "team_list = [val for sublist in team_list for val in sublist]\n",
    "xG_list = [val for sublist in xG_list for val in sublist]\n",
    "result_list = [val for sublist in result_list for val in sublist]\n",
    "home_score_list = [val for sublist in home_score_list for val in sublist]\n",
    "away_score_list = [val for sublist in away_score_list for val in sublist]\n",
    "minute_list = [val for sublist in minute_list for val in sublist]\n",
    "player_list = [val for sublist in player_list for val in sublist]\n",
    "h_a_list = [val for sublist in h_a_list for val in sublist]\n",
    "\n",
    "#Flattening nested lists"
   ]
  },
  {
   "cell_type": "code",
   "execution_count": 87,
   "id": "c297ab9c",
   "metadata": {},
   "outputs": [],
   "source": [
    "col_names = ['match_id','x','y','xG','minute','result','team','h_a','player','home_score','away_score']\n",
    "df = pd.DataFrame([match_id_list,x_list,y_list,xG_list,minute_list,result_list,team_list,h_a_list,player_list,home_score_list,away_score_list],index=col_names)\n",
    "# df = pd.DataFrame([all_data[0],all_data[1],all_data[2],all_data[3],all_data[4],all_data[5],all_data[6],all_data[7],all_data[8],all_data[9],all_data[10]],index=col_names)\n",
    "df = df.T\n",
    "df = df.astype({'minute':'int'})\n",
    "df = df.sort_values(by=['match_id','minute'])\n",
    "df = df.reset_index()"
   ]
  },
  {
   "cell_type": "code",
   "execution_count": 88,
   "id": "cbed8c97",
   "metadata": {},
   "outputs": [],
   "source": [
    "df['away_score'] = 0\n",
    "df['home_score'] = 0"
   ]
  },
  {
   "cell_type": "markdown",
   "id": "c4e0d820",
   "metadata": {},
   "source": [
    "Up next, need to figure out how to add score once we see goal, and keep it there for all of the subsequent rows for that game"
   ]
  },
  {
   "cell_type": "code",
   "execution_count": 89,
   "id": "152237f7",
   "metadata": {},
   "outputs": [],
   "source": [
    "df['goal_scored'] = ''"
   ]
  },
  {
   "cell_type": "code",
   "execution_count": 90,
   "id": "3b1b2bd8",
   "metadata": {},
   "outputs": [],
   "source": [
    "df['goal_scored'] = np.where((df['result'] == 'Goal') | (df['result'] == 'OwnGoal'), 1, 0)"
   ]
  },
  {
   "cell_type": "code",
   "execution_count": 91,
   "id": "4c40e1f4",
   "metadata": {},
   "outputs": [],
   "source": [
    "away_count = 0"
   ]
  },
  {
   "cell_type": "code",
   "execution_count": 92,
   "id": "37774ad9",
   "metadata": {},
   "outputs": [],
   "source": [
    "# df['home_score'] = np.where((df['result'] == 'Goal') & (df['h_a'] == 'h') | (df['result'] == 'OwnGoal') & (df['h_a'] == 'a'), 1, 0)\n",
    "# df['away_score'] = np.where((df['result'] == 'Goal') & (df['h_a'] == 'a') | (df['result'] == 'OwnGoal') & (df['h_a'] == 'h'), 1, 0)\n",
    "# #Increment the score for each goal or own goal"
   ]
  },
  {
   "cell_type": "code",
   "execution_count": 93,
   "id": "120e0e35",
   "metadata": {},
   "outputs": [],
   "source": [
    "unique_match_id = df['match_id'].unique()"
   ]
  },
  {
   "cell_type": "code",
   "execution_count": 94,
   "id": "67396547",
   "metadata": {},
   "outputs": [],
   "source": [
    "# df.groupby('match_id')['goal_scored'].sum()"
   ]
  },
  {
   "cell_type": "code",
   "execution_count": 95,
   "id": "9d2347c9",
   "metadata": {},
   "outputs": [],
   "source": [
    "df = df.drop(['index'], axis=1)\n",
    "#Dropping unnecessary column"
   ]
  },
  {
   "cell_type": "code",
   "execution_count": 100,
   "id": "077b5e7b",
   "metadata": {},
   "outputs": [],
   "source": [
    "df['away_score'] = (df['val'] == 1).cumsum()"
   ]
  },
  {
   "cell_type": "code",
   "execution_count": 101,
   "id": "381824b2",
   "metadata": {},
   "outputs": [],
   "source": [
    "df.loc[df['goal_scored'] == 1, 'away_score'] = count"
   ]
  },
  {
   "cell_type": "code",
   "execution_count": 102,
   "id": "ce195dfc",
   "metadata": {},
   "outputs": [
    {
     "data": {
      "text/html": [
       "<div>\n",
       "<style scoped>\n",
       "    .dataframe tbody tr th:only-of-type {\n",
       "        vertical-align: middle;\n",
       "    }\n",
       "\n",
       "    .dataframe tbody tr th {\n",
       "        vertical-align: top;\n",
       "    }\n",
       "\n",
       "    .dataframe thead th {\n",
       "        text-align: right;\n",
       "    }\n",
       "</style>\n",
       "<table border=\"1\" class=\"dataframe\">\n",
       "  <thead>\n",
       "    <tr style=\"text-align: right;\">\n",
       "      <th></th>\n",
       "      <th>match_id</th>\n",
       "      <th>x</th>\n",
       "      <th>y</th>\n",
       "      <th>xG</th>\n",
       "      <th>minute</th>\n",
       "      <th>result</th>\n",
       "      <th>team</th>\n",
       "      <th>h_a</th>\n",
       "      <th>player</th>\n",
       "      <th>home_score</th>\n",
       "      <th>away_score</th>\n",
       "      <th>goal_scored</th>\n",
       "    </tr>\n",
       "  </thead>\n",
       "  <tbody>\n",
       "    <tr>\n",
       "      <th>0</th>\n",
       "      <td>18202</td>\n",
       "      <td>0.8830000305175781</td>\n",
       "      <td>0.5070000076293946</td>\n",
       "      <td>0.18183407187461853</td>\n",
       "      <td>3</td>\n",
       "      <td>BlockedShot</td>\n",
       "      <td>Arsenal</td>\n",
       "      <td>a</td>\n",
       "      <td>Gabriel Jesus</td>\n",
       "      <td>0</td>\n",
       "      <td>False</td>\n",
       "      <td>0</td>\n",
       "    </tr>\n",
       "    <tr>\n",
       "      <th>1</th>\n",
       "      <td>18202</td>\n",
       "      <td>0.935</td>\n",
       "      <td>0.6120000076293945</td>\n",
       "      <td>0.3404459059238434</td>\n",
       "      <td>3</td>\n",
       "      <td>MissedShots</td>\n",
       "      <td>Arsenal</td>\n",
       "      <td>a</td>\n",
       "      <td>Gabriel Martinelli</td>\n",
       "      <td>0</td>\n",
       "      <td>False</td>\n",
       "      <td>0</td>\n",
       "    </tr>\n",
       "    <tr>\n",
       "      <th>2</th>\n",
       "      <td>18202</td>\n",
       "      <td>0.875</td>\n",
       "      <td>0.710999984741211</td>\n",
       "      <td>0.04480058327317238</td>\n",
       "      <td>7</td>\n",
       "      <td>SavedShot</td>\n",
       "      <td>Arsenal</td>\n",
       "      <td>a</td>\n",
       "      <td>Oleksandr Zinchenko</td>\n",
       "      <td>0</td>\n",
       "      <td>False</td>\n",
       "      <td>0</td>\n",
       "    </tr>\n",
       "    <tr>\n",
       "      <th>3</th>\n",
       "      <td>18202</td>\n",
       "      <td>0.8169999694824219</td>\n",
       "      <td>0.5640000152587891</td>\n",
       "      <td>0.04902607202529907</td>\n",
       "      <td>8</td>\n",
       "      <td>BlockedShot</td>\n",
       "      <td>Arsenal</td>\n",
       "      <td>a</td>\n",
       "      <td>Thomas Partey</td>\n",
       "      <td>0</td>\n",
       "      <td>False</td>\n",
       "      <td>0</td>\n",
       "    </tr>\n",
       "    <tr>\n",
       "      <th>4</th>\n",
       "      <td>18202</td>\n",
       "      <td>0.975</td>\n",
       "      <td>0.46900001525878904</td>\n",
       "      <td>0.5384948253631592</td>\n",
       "      <td>19</td>\n",
       "      <td>Goal</td>\n",
       "      <td>Arsenal</td>\n",
       "      <td>a</td>\n",
       "      <td>Gabriel Martinelli</td>\n",
       "      <td>0</td>\n",
       "      <td>0</td>\n",
       "      <td>1</td>\n",
       "    </tr>\n",
       "    <tr>\n",
       "      <th>...</th>\n",
       "      <td>...</td>\n",
       "      <td>...</td>\n",
       "      <td>...</td>\n",
       "      <td>...</td>\n",
       "      <td>...</td>\n",
       "      <td>...</td>\n",
       "      <td>...</td>\n",
       "      <td>...</td>\n",
       "      <td>...</td>\n",
       "      <td>...</td>\n",
       "      <td>...</td>\n",
       "      <td>...</td>\n",
       "    </tr>\n",
       "    <tr>\n",
       "      <th>1036</th>\n",
       "      <td>18241</td>\n",
       "      <td>0.9209999847412109</td>\n",
       "      <td>0.41</td>\n",
       "      <td>0.11410751938819885</td>\n",
       "      <td>91</td>\n",
       "      <td>BlockedShot</td>\n",
       "      <td>Tottenham</td>\n",
       "      <td>a</td>\n",
       "      <td>Djed Spence</td>\n",
       "      <td>0</td>\n",
       "      <td>True</td>\n",
       "      <td>0</td>\n",
       "    </tr>\n",
       "    <tr>\n",
       "      <th>1037</th>\n",
       "      <td>18241</td>\n",
       "      <td>0.8059999847412109</td>\n",
       "      <td>0.725999984741211</td>\n",
       "      <td>0.06215503811836243</td>\n",
       "      <td>94</td>\n",
       "      <td>BlockedShot</td>\n",
       "      <td>Nottingham Forest</td>\n",
       "      <td>h</td>\n",
       "      <td>Emmanuel Dennis</td>\n",
       "      <td>0</td>\n",
       "      <td>True</td>\n",
       "      <td>0</td>\n",
       "    </tr>\n",
       "    <tr>\n",
       "      <th>1038</th>\n",
       "      <td>18241</td>\n",
       "      <td>0.8480000305175781</td>\n",
       "      <td>0.5479999923706055</td>\n",
       "      <td>0.04771732911467552</td>\n",
       "      <td>96</td>\n",
       "      <td>MissedShots</td>\n",
       "      <td>Nottingham Forest</td>\n",
       "      <td>h</td>\n",
       "      <td>Remo Freuler</td>\n",
       "      <td>0</td>\n",
       "      <td>True</td>\n",
       "      <td>0</td>\n",
       "    </tr>\n",
       "    <tr>\n",
       "      <th>1039</th>\n",
       "      <td>18241</td>\n",
       "      <td>0.9069999694824219</td>\n",
       "      <td>0.39799999237060546</td>\n",
       "      <td>0.08542998135089874</td>\n",
       "      <td>96</td>\n",
       "      <td>MissedShots</td>\n",
       "      <td>Nottingham Forest</td>\n",
       "      <td>h</td>\n",
       "      <td>Joe Worrall</td>\n",
       "      <td>0</td>\n",
       "      <td>True</td>\n",
       "      <td>0</td>\n",
       "    </tr>\n",
       "    <tr>\n",
       "      <th>1040</th>\n",
       "      <td>18241</td>\n",
       "      <td>0.8159999847412109</td>\n",
       "      <td>0.3129999923706055</td>\n",
       "      <td>0.030202800408005714</td>\n",
       "      <td>97</td>\n",
       "      <td>BlockedShot</td>\n",
       "      <td>Nottingham Forest</td>\n",
       "      <td>h</td>\n",
       "      <td>Neco Williams</td>\n",
       "      <td>0</td>\n",
       "      <td>True</td>\n",
       "      <td>0</td>\n",
       "    </tr>\n",
       "  </tbody>\n",
       "</table>\n",
       "<p>1041 rows × 12 columns</p>\n",
       "</div>"
      ],
      "text/plain": [
       "     match_id                   x                    y                    xG  \\\n",
       "0       18202  0.8830000305175781   0.5070000076293946   0.18183407187461853   \n",
       "1       18202               0.935   0.6120000076293945    0.3404459059238434   \n",
       "2       18202               0.875    0.710999984741211   0.04480058327317238   \n",
       "3       18202  0.8169999694824219   0.5640000152587891   0.04902607202529907   \n",
       "4       18202               0.975  0.46900001525878904    0.5384948253631592   \n",
       "...       ...                 ...                  ...                   ...   \n",
       "1036    18241  0.9209999847412109                 0.41   0.11410751938819885   \n",
       "1037    18241  0.8059999847412109    0.725999984741211   0.06215503811836243   \n",
       "1038    18241  0.8480000305175781   0.5479999923706055   0.04771732911467552   \n",
       "1039    18241  0.9069999694824219  0.39799999237060546   0.08542998135089874   \n",
       "1040    18241  0.8159999847412109   0.3129999923706055  0.030202800408005714   \n",
       "\n",
       "      minute       result               team h_a               player  \\\n",
       "0          3  BlockedShot            Arsenal   a        Gabriel Jesus   \n",
       "1          3  MissedShots            Arsenal   a   Gabriel Martinelli   \n",
       "2          7    SavedShot            Arsenal   a  Oleksandr Zinchenko   \n",
       "3          8  BlockedShot            Arsenal   a        Thomas Partey   \n",
       "4         19         Goal            Arsenal   a   Gabriel Martinelli   \n",
       "...      ...          ...                ...  ..                  ...   \n",
       "1036      91  BlockedShot          Tottenham   a          Djed Spence   \n",
       "1037      94  BlockedShot  Nottingham Forest   h      Emmanuel Dennis   \n",
       "1038      96  MissedShots  Nottingham Forest   h         Remo Freuler   \n",
       "1039      96  MissedShots  Nottingham Forest   h          Joe Worrall   \n",
       "1040      97  BlockedShot  Nottingham Forest   h        Neco Williams   \n",
       "\n",
       "      home_score away_score  goal_scored  \n",
       "0              0      False            0  \n",
       "1              0      False            0  \n",
       "2              0      False            0  \n",
       "3              0      False            0  \n",
       "4              0          0            1  \n",
       "...          ...        ...          ...  \n",
       "1036           0       True            0  \n",
       "1037           0       True            0  \n",
       "1038           0       True            0  \n",
       "1039           0       True            0  \n",
       "1040           0       True            0  \n",
       "\n",
       "[1041 rows x 12 columns]"
      ]
     },
     "execution_count": 102,
     "metadata": {},
     "output_type": "execute_result"
    }
   ],
   "source": [
    "df"
   ]
  },
  {
   "cell_type": "code",
   "execution_count": 76,
   "id": "86bb9799",
   "metadata": {},
   "outputs": [
    {
     "data": {
      "text/plain": [
       "0    1041\n",
       "Name: away_score, dtype: int64"
      ]
     },
     "execution_count": 76,
     "metadata": {},
     "output_type": "execute_result"
    }
   ],
   "source": [
    "df['away_score'].value_counts()"
   ]
  },
  {
   "cell_type": "code",
   "execution_count": 58,
   "id": "8c69a3df",
   "metadata": {},
   "outputs": [],
   "source": [
    "count = 0\n",
    "def goal_counter(match_id_list):\n",
    "    for i in match_id_list:\n",
    "        if df['match_id'] == i & df['goal_scored'] == 1:\n",
    "            count += 1\n",
    "        else:\n",
    "            pass\n",
    "        df['test_home_score'] = count"
   ]
  },
  {
   "cell_type": "code",
   "execution_count": 59,
   "id": "1797c39d",
   "metadata": {},
   "outputs": [
    {
     "ename": "TypeError",
     "evalue": "Cannot perform 'rand_' with a dtyped [int32] array and scalar of type [bool]",
     "output_type": "error",
     "traceback": [
      "\u001b[1;31m---------------------------------------------------------------------------\u001b[0m",
      "\u001b[1;31mTypeError\u001b[0m                                 Traceback (most recent call last)",
      "\u001b[1;32m~\\anaconda3\\lib\\site-packages\\pandas\\core\\ops\\array_ops.py\u001b[0m in \u001b[0;36mna_logical_op\u001b[1;34m(x, y, op)\u001b[0m\n\u001b[0;32m    301\u001b[0m         \u001b[1;31m#  (xint or xbool) and (yint or bool)\u001b[0m\u001b[1;33m\u001b[0m\u001b[1;33m\u001b[0m\u001b[0m\n\u001b[1;32m--> 302\u001b[1;33m         \u001b[0mresult\u001b[0m \u001b[1;33m=\u001b[0m \u001b[0mop\u001b[0m\u001b[1;33m(\u001b[0m\u001b[0mx\u001b[0m\u001b[1;33m,\u001b[0m \u001b[0my\u001b[0m\u001b[1;33m)\u001b[0m\u001b[1;33m\u001b[0m\u001b[1;33m\u001b[0m\u001b[0m\n\u001b[0m\u001b[0;32m    303\u001b[0m     \u001b[1;32mexcept\u001b[0m \u001b[0mTypeError\u001b[0m\u001b[1;33m:\u001b[0m\u001b[1;33m\u001b[0m\u001b[1;33m\u001b[0m\u001b[0m\n",
      "\u001b[1;32m~\\anaconda3\\lib\\site-packages\\pandas\\core\\roperator.py\u001b[0m in \u001b[0;36mrand_\u001b[1;34m(left, right)\u001b[0m\n\u001b[0;32m     51\u001b[0m \u001b[1;32mdef\u001b[0m \u001b[0mrand_\u001b[0m\u001b[1;33m(\u001b[0m\u001b[0mleft\u001b[0m\u001b[1;33m,\u001b[0m \u001b[0mright\u001b[0m\u001b[1;33m)\u001b[0m\u001b[1;33m:\u001b[0m\u001b[1;33m\u001b[0m\u001b[1;33m\u001b[0m\u001b[0m\n\u001b[1;32m---> 52\u001b[1;33m     \u001b[1;32mreturn\u001b[0m \u001b[0moperator\u001b[0m\u001b[1;33m.\u001b[0m\u001b[0mand_\u001b[0m\u001b[1;33m(\u001b[0m\u001b[0mright\u001b[0m\u001b[1;33m,\u001b[0m \u001b[0mleft\u001b[0m\u001b[1;33m)\u001b[0m\u001b[1;33m\u001b[0m\u001b[1;33m\u001b[0m\u001b[0m\n\u001b[0m\u001b[0;32m     53\u001b[0m \u001b[1;33m\u001b[0m\u001b[0m\n",
      "\u001b[1;31mTypeError\u001b[0m: ufunc 'bitwise_and' not supported for the input types, and the inputs could not be safely coerced to any supported types according to the casting rule ''safe''",
      "\nDuring handling of the above exception, another exception occurred:\n",
      "\u001b[1;31mValueError\u001b[0m                                Traceback (most recent call last)",
      "\u001b[1;32m~\\anaconda3\\lib\\site-packages\\pandas\\core\\ops\\array_ops.py\u001b[0m in \u001b[0;36mna_logical_op\u001b[1;34m(x, y, op)\u001b[0m\n\u001b[0;32m    315\u001b[0m             \u001b[1;32mtry\u001b[0m\u001b[1;33m:\u001b[0m\u001b[1;33m\u001b[0m\u001b[1;33m\u001b[0m\u001b[0m\n\u001b[1;32m--> 316\u001b[1;33m                 \u001b[0mresult\u001b[0m \u001b[1;33m=\u001b[0m \u001b[0mlibops\u001b[0m\u001b[1;33m.\u001b[0m\u001b[0mscalar_binop\u001b[0m\u001b[1;33m(\u001b[0m\u001b[0mx\u001b[0m\u001b[1;33m,\u001b[0m \u001b[0my\u001b[0m\u001b[1;33m,\u001b[0m \u001b[0mop\u001b[0m\u001b[1;33m)\u001b[0m\u001b[1;33m\u001b[0m\u001b[1;33m\u001b[0m\u001b[0m\n\u001b[0m\u001b[0;32m    317\u001b[0m             except (\n",
      "\u001b[1;32m~\\anaconda3\\lib\\site-packages\\pandas\\_libs\\ops.pyx\u001b[0m in \u001b[0;36mpandas._libs.ops.scalar_binop\u001b[1;34m()\u001b[0m\n",
      "\u001b[1;31mValueError\u001b[0m: Buffer dtype mismatch, expected 'Python object' but got 'long'",
      "\nThe above exception was the direct cause of the following exception:\n",
      "\u001b[1;31mTypeError\u001b[0m                                 Traceback (most recent call last)",
      "\u001b[1;32m~\\AppData\\Local\\Temp/ipykernel_11904/556552379.py\u001b[0m in \u001b[0;36m<module>\u001b[1;34m\u001b[0m\n\u001b[1;32m----> 1\u001b[1;33m \u001b[0mgoal_counter\u001b[0m\u001b[1;33m(\u001b[0m\u001b[0munique_match_id\u001b[0m\u001b[1;33m)\u001b[0m\u001b[1;33m\u001b[0m\u001b[1;33m\u001b[0m\u001b[0m\n\u001b[0m",
      "\u001b[1;32m~\\AppData\\Local\\Temp/ipykernel_11904/1983922819.py\u001b[0m in \u001b[0;36mgoal_counter\u001b[1;34m(match_id_list)\u001b[0m\n\u001b[0;32m      2\u001b[0m \u001b[1;32mdef\u001b[0m \u001b[0mgoal_counter\u001b[0m\u001b[1;33m(\u001b[0m\u001b[0mmatch_id_list\u001b[0m\u001b[1;33m)\u001b[0m\u001b[1;33m:\u001b[0m\u001b[1;33m\u001b[0m\u001b[1;33m\u001b[0m\u001b[0m\n\u001b[0;32m      3\u001b[0m     \u001b[1;32mfor\u001b[0m \u001b[0mi\u001b[0m \u001b[1;32min\u001b[0m \u001b[0mmatch_id_list\u001b[0m\u001b[1;33m:\u001b[0m\u001b[1;33m\u001b[0m\u001b[1;33m\u001b[0m\u001b[0m\n\u001b[1;32m----> 4\u001b[1;33m         \u001b[1;32mif\u001b[0m \u001b[0mdf\u001b[0m\u001b[1;33m[\u001b[0m\u001b[1;34m'match_id'\u001b[0m\u001b[1;33m]\u001b[0m \u001b[1;33m==\u001b[0m \u001b[0mi\u001b[0m \u001b[1;33m&\u001b[0m \u001b[0mdf\u001b[0m\u001b[1;33m[\u001b[0m\u001b[1;34m'goal_scored'\u001b[0m\u001b[1;33m]\u001b[0m \u001b[1;33m==\u001b[0m \u001b[1;36m1\u001b[0m\u001b[1;33m:\u001b[0m\u001b[1;33m\u001b[0m\u001b[1;33m\u001b[0m\u001b[0m\n\u001b[0m\u001b[0;32m      5\u001b[0m             \u001b[0mcount\u001b[0m \u001b[1;33m+=\u001b[0m \u001b[1;36m1\u001b[0m\u001b[1;33m\u001b[0m\u001b[1;33m\u001b[0m\u001b[0m\n\u001b[0;32m      6\u001b[0m         \u001b[1;32melse\u001b[0m\u001b[1;33m:\u001b[0m\u001b[1;33m\u001b[0m\u001b[1;33m\u001b[0m\u001b[0m\n",
      "\u001b[1;32m~\\anaconda3\\lib\\site-packages\\pandas\\core\\ops\\common.py\u001b[0m in \u001b[0;36mnew_method\u001b[1;34m(self, other)\u001b[0m\n\u001b[0;32m     67\u001b[0m         \u001b[0mother\u001b[0m \u001b[1;33m=\u001b[0m \u001b[0mitem_from_zerodim\u001b[0m\u001b[1;33m(\u001b[0m\u001b[0mother\u001b[0m\u001b[1;33m)\u001b[0m\u001b[1;33m\u001b[0m\u001b[1;33m\u001b[0m\u001b[0m\n\u001b[0;32m     68\u001b[0m \u001b[1;33m\u001b[0m\u001b[0m\n\u001b[1;32m---> 69\u001b[1;33m         \u001b[1;32mreturn\u001b[0m \u001b[0mmethod\u001b[0m\u001b[1;33m(\u001b[0m\u001b[0mself\u001b[0m\u001b[1;33m,\u001b[0m \u001b[0mother\u001b[0m\u001b[1;33m)\u001b[0m\u001b[1;33m\u001b[0m\u001b[1;33m\u001b[0m\u001b[0m\n\u001b[0m\u001b[0;32m     70\u001b[0m \u001b[1;33m\u001b[0m\u001b[0m\n\u001b[0;32m     71\u001b[0m     \u001b[1;32mreturn\u001b[0m \u001b[0mnew_method\u001b[0m\u001b[1;33m\u001b[0m\u001b[1;33m\u001b[0m\u001b[0m\n",
      "\u001b[1;32m~\\anaconda3\\lib\\site-packages\\pandas\\core\\arraylike.py\u001b[0m in \u001b[0;36m__rand__\u001b[1;34m(self, other)\u001b[0m\n\u001b[0;32m     64\u001b[0m     \u001b[1;33m@\u001b[0m\u001b[0munpack_zerodim_and_defer\u001b[0m\u001b[1;33m(\u001b[0m\u001b[1;34m\"__rand__\"\u001b[0m\u001b[1;33m)\u001b[0m\u001b[1;33m\u001b[0m\u001b[1;33m\u001b[0m\u001b[0m\n\u001b[0;32m     65\u001b[0m     \u001b[1;32mdef\u001b[0m \u001b[0m__rand__\u001b[0m\u001b[1;33m(\u001b[0m\u001b[0mself\u001b[0m\u001b[1;33m,\u001b[0m \u001b[0mother\u001b[0m\u001b[1;33m)\u001b[0m\u001b[1;33m:\u001b[0m\u001b[1;33m\u001b[0m\u001b[1;33m\u001b[0m\u001b[0m\n\u001b[1;32m---> 66\u001b[1;33m         \u001b[1;32mreturn\u001b[0m \u001b[0mself\u001b[0m\u001b[1;33m.\u001b[0m\u001b[0m_logical_method\u001b[0m\u001b[1;33m(\u001b[0m\u001b[0mother\u001b[0m\u001b[1;33m,\u001b[0m \u001b[0mroperator\u001b[0m\u001b[1;33m.\u001b[0m\u001b[0mrand_\u001b[0m\u001b[1;33m)\u001b[0m\u001b[1;33m\u001b[0m\u001b[1;33m\u001b[0m\u001b[0m\n\u001b[0m\u001b[0;32m     67\u001b[0m \u001b[1;33m\u001b[0m\u001b[0m\n\u001b[0;32m     68\u001b[0m     \u001b[1;33m@\u001b[0m\u001b[0munpack_zerodim_and_defer\u001b[0m\u001b[1;33m(\u001b[0m\u001b[1;34m\"__or__\"\u001b[0m\u001b[1;33m)\u001b[0m\u001b[1;33m\u001b[0m\u001b[1;33m\u001b[0m\u001b[0m\n",
      "\u001b[1;32m~\\anaconda3\\lib\\site-packages\\pandas\\core\\series.py\u001b[0m in \u001b[0;36m_logical_method\u001b[1;34m(self, other, op)\u001b[0m\n\u001b[0;32m   5511\u001b[0m         \u001b[0mrvalues\u001b[0m \u001b[1;33m=\u001b[0m \u001b[0mextract_array\u001b[0m\u001b[1;33m(\u001b[0m\u001b[0mother\u001b[0m\u001b[1;33m,\u001b[0m \u001b[0mextract_numpy\u001b[0m\u001b[1;33m=\u001b[0m\u001b[1;32mTrue\u001b[0m\u001b[1;33m,\u001b[0m \u001b[0mextract_range\u001b[0m\u001b[1;33m=\u001b[0m\u001b[1;32mTrue\u001b[0m\u001b[1;33m)\u001b[0m\u001b[1;33m\u001b[0m\u001b[1;33m\u001b[0m\u001b[0m\n\u001b[0;32m   5512\u001b[0m \u001b[1;33m\u001b[0m\u001b[0m\n\u001b[1;32m-> 5513\u001b[1;33m         \u001b[0mres_values\u001b[0m \u001b[1;33m=\u001b[0m \u001b[0mops\u001b[0m\u001b[1;33m.\u001b[0m\u001b[0mlogical_op\u001b[0m\u001b[1;33m(\u001b[0m\u001b[0mlvalues\u001b[0m\u001b[1;33m,\u001b[0m \u001b[0mrvalues\u001b[0m\u001b[1;33m,\u001b[0m \u001b[0mop\u001b[0m\u001b[1;33m)\u001b[0m\u001b[1;33m\u001b[0m\u001b[1;33m\u001b[0m\u001b[0m\n\u001b[0m\u001b[0;32m   5514\u001b[0m         \u001b[1;32mreturn\u001b[0m \u001b[0mself\u001b[0m\u001b[1;33m.\u001b[0m\u001b[0m_construct_result\u001b[0m\u001b[1;33m(\u001b[0m\u001b[0mres_values\u001b[0m\u001b[1;33m,\u001b[0m \u001b[0mname\u001b[0m\u001b[1;33m=\u001b[0m\u001b[0mres_name\u001b[0m\u001b[1;33m)\u001b[0m\u001b[1;33m\u001b[0m\u001b[1;33m\u001b[0m\u001b[0m\n\u001b[0;32m   5515\u001b[0m \u001b[1;33m\u001b[0m\u001b[0m\n",
      "\u001b[1;32m~\\anaconda3\\lib\\site-packages\\pandas\\core\\ops\\array_ops.py\u001b[0m in \u001b[0;36mlogical_op\u001b[1;34m(left, right, op)\u001b[0m\n\u001b[0;32m    390\u001b[0m         \u001b[0mfiller\u001b[0m \u001b[1;33m=\u001b[0m \u001b[0mfill_int\u001b[0m \u001b[1;32mif\u001b[0m \u001b[0mis_self_int_dtype\u001b[0m \u001b[1;32mand\u001b[0m \u001b[0mis_other_int_dtype\u001b[0m \u001b[1;32melse\u001b[0m \u001b[0mfill_bool\u001b[0m\u001b[1;33m\u001b[0m\u001b[1;33m\u001b[0m\u001b[0m\n\u001b[0;32m    391\u001b[0m \u001b[1;33m\u001b[0m\u001b[0m\n\u001b[1;32m--> 392\u001b[1;33m         \u001b[0mres_values\u001b[0m \u001b[1;33m=\u001b[0m \u001b[0mna_logical_op\u001b[0m\u001b[1;33m(\u001b[0m\u001b[0mlvalues\u001b[0m\u001b[1;33m,\u001b[0m \u001b[0mrvalues\u001b[0m\u001b[1;33m,\u001b[0m \u001b[0mop\u001b[0m\u001b[1;33m)\u001b[0m\u001b[1;33m\u001b[0m\u001b[1;33m\u001b[0m\u001b[0m\n\u001b[0m\u001b[0;32m    393\u001b[0m         \u001b[1;31m# error: Cannot call function of unknown type\u001b[0m\u001b[1;33m\u001b[0m\u001b[1;33m\u001b[0m\u001b[0m\n\u001b[0;32m    394\u001b[0m         \u001b[0mres_values\u001b[0m \u001b[1;33m=\u001b[0m \u001b[0mfiller\u001b[0m\u001b[1;33m(\u001b[0m\u001b[0mres_values\u001b[0m\u001b[1;33m)\u001b[0m  \u001b[1;31m# type: ignore[operator]\u001b[0m\u001b[1;33m\u001b[0m\u001b[1;33m\u001b[0m\u001b[0m\n",
      "\u001b[1;32m~\\anaconda3\\lib\\site-packages\\pandas\\core\\ops\\array_ops.py\u001b[0m in \u001b[0;36mna_logical_op\u001b[1;34m(x, y, op)\u001b[0m\n\u001b[0;32m    323\u001b[0m             ) as err:\n\u001b[0;32m    324\u001b[0m                 \u001b[0mtyp\u001b[0m \u001b[1;33m=\u001b[0m \u001b[0mtype\u001b[0m\u001b[1;33m(\u001b[0m\u001b[0my\u001b[0m\u001b[1;33m)\u001b[0m\u001b[1;33m.\u001b[0m\u001b[0m__name__\u001b[0m\u001b[1;33m\u001b[0m\u001b[1;33m\u001b[0m\u001b[0m\n\u001b[1;32m--> 325\u001b[1;33m                 raise TypeError(\n\u001b[0m\u001b[0;32m    326\u001b[0m                     \u001b[1;34mf\"Cannot perform '{op.__name__}' with a dtyped [{x.dtype}] array \"\u001b[0m\u001b[1;33m\u001b[0m\u001b[1;33m\u001b[0m\u001b[0m\n\u001b[0;32m    327\u001b[0m                     \u001b[1;34mf\"and scalar of type [{typ}]\"\u001b[0m\u001b[1;33m\u001b[0m\u001b[1;33m\u001b[0m\u001b[0m\n",
      "\u001b[1;31mTypeError\u001b[0m: Cannot perform 'rand_' with a dtyped [int32] array and scalar of type [bool]"
     ]
    }
   ],
   "source": [
    "goal_counter(unique_match_id)"
   ]
  },
  {
   "cell_type": "code",
   "execution_count": null,
   "id": "e0e90ee8",
   "metadata": {},
   "outputs": [],
   "source": [
    "#NEXT need to figure out how to increment within the unique match_id"
   ]
  },
  {
   "cell_type": "code",
   "execution_count": null,
   "id": "54e06f0e",
   "metadata": {},
   "outputs": [],
   "source": [
    "df['test_home_score'] = ''"
   ]
  },
  {
   "cell_type": "code",
   "execution_count": null,
   "id": "c13834be",
   "metadata": {},
   "outputs": [],
   "source": [
    "df['home_current_score'] = ''\n",
    "df['away_current_score'] = ''"
   ]
  },
  {
   "cell_type": "code",
   "execution_count": null,
   "id": "7077141f",
   "metadata": {},
   "outputs": [],
   "source": [
    "for i in range(len(df)):\n",
    "    new_home = np.where((df['result'] == 'Goal') & (df['h_a'] == 'h') | (df['result'] == 'OwnGoal') & (df['h_a'] == 'a'), 1, 0)\n",
    "    new_away = np.where((df['result'] == 'Goal') & (df['h_a'] == 'a') | (df['result'] == 'OwnGoal') & (df['h_a'] == 'h'), 1, 0)"
   ]
  },
  {
   "cell_type": "code",
   "execution_count": null,
   "id": "5fbf4eb4",
   "metadata": {},
   "outputs": [],
   "source": [
    "for i in range(len(df)):\n",
    "    df['home_current_score'][i+1] = new_home[i]\n",
    "    df['away_current_score'][i+1] = new_away[i]\n",
    "    \n",
    "#Setting the value one after the goal scored as equal to one, because technically at the time of the goalscoring shot, the \n",
    "#score would not have changed yet -- so we want to change the one after"
   ]
  },
  {
   "cell_type": "code",
   "execution_count": null,
   "id": "28fea66e",
   "metadata": {
    "scrolled": true
   },
   "outputs": [],
   "source": [
    "df"
   ]
  },
  {
   "cell_type": "code",
   "execution_count": null,
   "id": "8ed71810",
   "metadata": {},
   "outputs": [],
   "source": [
    "test_home_list = home_score_list"
   ]
  },
  {
   "cell_type": "code",
   "execution_count": null,
   "id": "df608093",
   "metadata": {},
   "outputs": [],
   "source": [
    "test_home_list = np.where((df['result'] == 'Goal') & (df['h_a'] == 'h') | (df['result'] == 'OwnGoal') & (df['h_a'] == 'a'), 1, 0)"
   ]
  },
  {
   "cell_type": "code",
   "execution_count": null,
   "id": "32e978bf",
   "metadata": {},
   "outputs": [],
   "source": []
  }
 ],
 "metadata": {
  "kernelspec": {
   "display_name": "Python 3 (ipykernel)",
   "language": "python",
   "name": "python3"
  },
  "language_info": {
   "codemirror_mode": {
    "name": "ipython",
    "version": 3
   },
   "file_extension": ".py",
   "mimetype": "text/x-python",
   "name": "python",
   "nbconvert_exporter": "python",
   "pygments_lexer": "ipython3",
   "version": "3.9.7"
  }
 },
 "nbformat": 4,
 "nbformat_minor": 5
}
