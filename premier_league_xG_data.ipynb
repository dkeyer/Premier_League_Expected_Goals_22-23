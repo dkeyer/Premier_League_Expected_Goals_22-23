{
 "cells": [
  {
   "cell_type": "code",
   "execution_count": 1,
   "id": "98b7ac45",
   "metadata": {},
   "outputs": [],
   "source": [
    "import pandas as pd\n",
    "import numpy as np\n",
    "import seaborn as sns\n",
    "import matplotlib.pyplot as plt\n",
    "import requests\n",
    "from bs4 import BeautifulSoup\n",
    "from __future__ import print_function\n",
    "import json\n",
    "\n",
    "from datetime import date\n",
    "import datetime\n",
    "#imports"
   ]
  },
  {
   "cell_type": "markdown",
   "id": "011bb6b2",
   "metadata": {},
   "source": [
    "There are 20 teams in the PL, each plays 38 matches for a total of 760. The first game in the 2022-2023 season is number 18202, and it counts up one by one from there, so the total range will be 18,202 to 18,961. Then we will take only the completed games from there."
   ]
  },
  {
   "cell_type": "markdown",
   "id": "17cf7370",
   "metadata": {},
   "source": [
    "NEXT: Will add something to get all of the players from the match, and then count the defensive players to determine back 4 or back 5\n",
    "\n",
    "Code will be -- take all of the elements where the class \"player-position\" is DC... get a count, if it's two then the team will be in a back four, if there are 3 then it's a back five with wingbacks"
   ]
  },
  {
   "cell_type": "code",
   "execution_count": 2,
   "id": "acffa7ac",
   "metadata": {},
   "outputs": [],
   "source": [
    "# d = range(18202,18962)\n",
    "match_range = range(18202,18400)"
   ]
  },
  {
   "cell_type": "code",
   "execution_count": 3,
   "id": "c0ae3fae",
   "metadata": {},
   "outputs": [],
   "source": [
    "urls = []\n",
    "for i in match_range:\n",
    "    base_url = f'https://understat.com/match/{i}'\n",
    "    urls.append(base_url)"
   ]
  },
  {
   "cell_type": "code",
   "execution_count": 4,
   "id": "4cf2f34c",
   "metadata": {},
   "outputs": [],
   "source": [
    "all_res_data = []\n",
    "for i in urls:\n",
    "    res = requests.get(i)\n",
    "    soup = BeautifulSoup(res.content, 'lxml')\n",
    "    scripts = soup.find_all('script')\n",
    "#     positions = soup.find_all(\"span\", {\"class\": \"player-position\"})\n",
    "\n",
    "    all_res_data.append(scripts)\n",
    "    #Here we can append only the ones that have 'script'"
   ]
  },
  {
   "cell_type": "code",
   "execution_count": 5,
   "id": "8526b65b",
   "metadata": {},
   "outputs": [],
   "source": [
    "backup_all_res_data = all_res_data\n",
    "#Adding a backup unless we need it and so we don't need to scrape again"
   ]
  },
  {
   "cell_type": "code",
   "execution_count": 6,
   "id": "45e66012",
   "metadata": {},
   "outputs": [],
   "source": [
    "all_res_data = backup_all_res_data"
   ]
  },
  {
   "cell_type": "code",
   "execution_count": 7,
   "id": "d4db7cb6",
   "metadata": {},
   "outputs": [],
   "source": [
    "scripts = []\n",
    "for i in all_res_data:\n",
    "    if len(i) > 1:\n",
    "        scripts.append(i)\n",
    "    else:\n",
    "        pass\n",
    "#All of the incomplete games in all_res_data will have a length of zero, so this is how we will filter out the unplayed games\n",
    "#if necessary"
   ]
  },
  {
   "cell_type": "code",
   "execution_count": 8,
   "id": "3d467ad2",
   "metadata": {},
   "outputs": [],
   "source": [
    "script_list = []\n",
    "for i in scripts:\n",
    "    script_list.append(i[1])\n",
    "#The [1] element is the one with all of the shot data"
   ]
  },
  {
   "cell_type": "code",
   "execution_count": 9,
   "id": "cc703ba9",
   "metadata": {},
   "outputs": [],
   "source": [
    "for i in range(0, len(script_list)):\n",
    "    script_list[i] = str(script_list[i])\n",
    "#turning all of our data into strings"
   ]
  },
  {
   "cell_type": "code",
   "execution_count": 10,
   "id": "8522601d",
   "metadata": {},
   "outputs": [],
   "source": [
    "data_list = []\n",
    "\n",
    "# strip unnecessary symbols and get only JSON data \n",
    "for i in range(0, len(script_list)):\n",
    "    ind_start = script_list[i].index(\"('\")+2 \n",
    "    ind_end = script_list[i].index(\"')\") \n",
    "    json_data = script_list[i][ind_start:ind_end] \n",
    "    json_data = json_data.encode('utf8').decode('unicode_escape')\n",
    "\n",
    "#convert string to json format\n",
    "    data = json.loads(json_data)\n",
    "    data_list.append(data)"
   ]
  },
  {
   "cell_type": "code",
   "execution_count": 11,
   "id": "1b687b77",
   "metadata": {},
   "outputs": [],
   "source": [
    "all_data = []\n",
    "match_id_list = []\n",
    "x_list = []\n",
    "y_list = []\n",
    "home_score_list = []\n",
    "away_score_list = []\n",
    "player_list = []\n",
    "xG_list = []\n",
    "h_a_list = []\n",
    "situation_list = []\n",
    "result_list = []\n",
    "team_list = []\n",
    "opposing_team_list = []\n",
    "minute_list = []\n",
    "length = len(data_list)\n",
    "for i in range(length):\n",
    "    match_id = [] \n",
    "    x = []\n",
    "    y = []\n",
    "    home_score = []\n",
    "    away_score = []\n",
    "    player = []\n",
    "    xG = []\n",
    "    h_a = []\n",
    "    situation = []\n",
    "    result = []\n",
    "    team = []\n",
    "    opposing_team = []\n",
    "    minute = []\n",
    "    data_away = data_list[i]['a']\n",
    "    data_home = data_list[i]['h']\n",
    "\n",
    "    for index in range(len(data_home)):\n",
    "        for key in data_home[index]:\n",
    "            if key == 'X':\n",
    "                x.append(data_home[index][key])\n",
    "            if key == 'Y':\n",
    "                y.append(data_home[index][key])\n",
    "            if key == 'h_team':\n",
    "                team.append(data_home[index][key])\n",
    "            if key == 'a_team':\n",
    "                opposing_team.append(data_home[index][key])\n",
    "            if key == 'xG':\n",
    "                xG.append(data_home[index][key])\n",
    "            if key == 'situation':\n",
    "                situation.append(data_home[index][key])\n",
    "            if key == 'result':\n",
    "                result.append(data_home[index][key])\n",
    "            if key == 'h_goals':\n",
    "                home_score.append(data_home[index][key])\n",
    "            if key == 'a_goals':\n",
    "                away_score.append(data_home[index][key])\n",
    "            if key == 'minute':\n",
    "                minute.append(data_home[index][key]) \n",
    "            if key == 'player':\n",
    "                player.append(data_home[index][key])\n",
    "            if key == 'match_id':\n",
    "                match_id.append(data_home[index][key])\n",
    "            if key == 'h_a':\n",
    "                h_a.append(data_home[index][key])\n",
    "        \n",
    "        #NEED TO APPEND EVERYTHING TO ALL_DATA\n",
    "\n",
    "    for index in range(len(data_away)):\n",
    "        for key in data_away[index]:\n",
    "            if key == 'X':\n",
    "                x.append(data_away[index][key])\n",
    "            if key == 'Y':\n",
    "                y.append(data_away[index][key])\n",
    "            if key == 'a_team':\n",
    "                team.append(data_away[index][key])\n",
    "            if key == 'h_team':\n",
    "                opposing_team.append(data_away[index][key])\n",
    "            if key == 'xG':\n",
    "                xG.append(data_away[index][key])\n",
    "            if key == 'situation':\n",
    "                situation.append(data_away[index][key])\n",
    "            if key == 'result':\n",
    "                result.append(data_away[index][key])\n",
    "            if key == 'h_goals':\n",
    "                home_score.append(data_away[index][key])\n",
    "            if key == 'a_goals':\n",
    "                away_score.append(data_away[index][key])\n",
    "            if key == 'minute':\n",
    "                minute.append(data_away[index][key])\n",
    "            if key == 'player':\n",
    "                player.append(data_away[index][key])\n",
    "            if key == 'match_id':\n",
    "                match_id.append(data_away[index][key])\n",
    "            if key == 'h_a':\n",
    "                h_a.append(data_away[index][key]) \n",
    "                \n",
    "    match_id_list.append(match_id)\n",
    "    x_list.append(x)\n",
    "    y_list.append(y)\n",
    "    team_list.append(team)\n",
    "    opposing_team_list.append(opposing_team)\n",
    "    xG_list.append(xG)\n",
    "    situation_list.append(situation)\n",
    "    result_list.append(result)\n",
    "    home_score_list.append(home_score)\n",
    "    away_score_list.append(away_score)\n",
    "    minute_list.append(minute)\n",
    "    player_list.append(player)\n",
    "    h_a_list.append(h_a)"
   ]
  },
  {
   "cell_type": "code",
   "execution_count": 12,
   "id": "2370573a",
   "metadata": {},
   "outputs": [],
   "source": [
    "match_id_list = [val for sublist in match_id_list for val in sublist]\n",
    "x_list = [val for sublist in x_list for val in sublist]\n",
    "y_list = [val for sublist in y_list for val in sublist]\n",
    "team_list = [val for sublist in team_list for val in sublist]\n",
    "opposing_team_list = [val for sublist in opposing_team_list for val in sublist]\n",
    "xG_list = [val for sublist in xG_list for val in sublist]\n",
    "situation_list = [val for sublist in situation_list for val in sublist]\n",
    "result_list = [val for sublist in result_list for val in sublist]\n",
    "home_score_list = [val for sublist in home_score_list for val in sublist]\n",
    "away_score_list = [val for sublist in away_score_list for val in sublist]\n",
    "minute_list = [val for sublist in minute_list for val in sublist]\n",
    "player_list = [val for sublist in player_list for val in sublist]\n",
    "h_a_list = [val for sublist in h_a_list for val in sublist]\n",
    "#Flattening nested lists"
   ]
  },
  {
   "cell_type": "code",
   "execution_count": 13,
   "id": "c297ab9c",
   "metadata": {},
   "outputs": [],
   "source": [
    "col_names = ['match_id','x','y','xG','minute','situation','result','team','opposing_team','h_a','player','home_score','away_score']\n",
    "df = pd.DataFrame([match_id_list,x_list,y_list,xG_list,minute_list,situation_list,result_list,team_list,opposing_team_list,h_a_list,player_list,home_score_list,away_score_list],index=col_names)\n",
    "df = df.T\n",
    "df = df.astype({'minute':'int'})\n",
    "df = df.sort_values(by=['match_id','minute'])\n",
    "df = df.reset_index()"
   ]
  },
  {
   "cell_type": "code",
   "execution_count": 14,
   "id": "730c273e",
   "metadata": {},
   "outputs": [
    {
     "data": {
      "text/plain": [
       "index            0\n",
       "match_id         0\n",
       "x                0\n",
       "y                0\n",
       "xG               0\n",
       "minute           0\n",
       "situation        0\n",
       "result           0\n",
       "team             0\n",
       "opposing_team    0\n",
       "h_a              0\n",
       "player           0\n",
       "home_score       0\n",
       "away_score       0\n",
       "dtype: int64"
      ]
     },
     "execution_count": 14,
     "metadata": {},
     "output_type": "execute_result"
    }
   ],
   "source": [
    "df.isna().sum()\n",
    "#Checking for null values"
   ]
  },
  {
   "cell_type": "markdown",
   "id": "3edc4ba2",
   "metadata": {},
   "source": [
    "# xG"
   ]
  },
  {
   "cell_type": "code",
   "execution_count": 15,
   "id": "df608093",
   "metadata": {},
   "outputs": [],
   "source": [
    "# test_home_list = np.where((df['result'] == 'Goal') & (df['h_a'] == 'h') | (df['result'] == 'OwnGoal') & (df['h_a'] == 'a'), 1, 0)"
   ]
  },
  {
   "cell_type": "code",
   "execution_count": 16,
   "id": "5f00cc2e",
   "metadata": {},
   "outputs": [],
   "source": [
    "df['xG'] = df['xG'].astype(float)\n",
    "df['match_id'] = df['match_id'].astype(int)"
   ]
  },
  {
   "cell_type": "code",
   "execution_count": 17,
   "id": "32e978bf",
   "metadata": {},
   "outputs": [],
   "source": [
    "xg_total = df.groupby('team')['xG'].sum()\n",
    "#Count total xG for every team"
   ]
  },
  {
   "cell_type": "code",
   "execution_count": 18,
   "id": "f1942724",
   "metadata": {},
   "outputs": [],
   "source": [
    "xg_total = pd.DataFrame(data=xg_total)\n",
    "# xg_total = xg_total.reset_index(level=0)"
   ]
  },
  {
   "cell_type": "code",
   "execution_count": 19,
   "id": "31d6a1c8",
   "metadata": {},
   "outputs": [],
   "source": [
    "xg_total['xGA'] = df.groupby('opposing_team')['xG'].sum()"
   ]
  },
  {
   "cell_type": "code",
   "execution_count": 20,
   "id": "52fd1537",
   "metadata": {},
   "outputs": [],
   "source": [
    "xg_total['xG_difference'] = xg_total['xG'] - xg_total['xGA']"
   ]
  },
  {
   "cell_type": "code",
   "execution_count": 21,
   "id": "cc9365de",
   "metadata": {
    "scrolled": true
   },
   "outputs": [],
   "source": [
    "xg_total['matches_played'] = df.groupby('team')['match_id'].nunique()\n",
    "#Get number of matches played for each team"
   ]
  },
  {
   "cell_type": "code",
   "execution_count": 22,
   "id": "4fbbd38c",
   "metadata": {},
   "outputs": [],
   "source": [
    "xg_total = xg_total.reset_index(level=0)"
   ]
  },
  {
   "cell_type": "code",
   "execution_count": 23,
   "id": "00bf5eab",
   "metadata": {},
   "outputs": [],
   "source": [
    "xg_total['avg_xG_diff'] = round(xg_total['xG_difference'] / xg_total['matches_played'], 2)\n",
    "xg_total['avg_xG_for'] = round(xg_total['xG'] / xg_total['matches_played'], 2)\n",
    "xg_total['avg_xGA'] = round(xg_total['xGA'] / xg_total['matches_played'], 2)"
   ]
  },
  {
   "cell_type": "code",
   "execution_count": 24,
   "id": "70fc951a",
   "metadata": {
    "scrolled": true
   },
   "outputs": [
    {
     "data": {
      "text/plain": [
       "team              0\n",
       "xG                0\n",
       "xGA               0\n",
       "xG_difference     0\n",
       "matches_played    0\n",
       "avg_xG_diff       0\n",
       "avg_xG_for        0\n",
       "avg_xGA           0\n",
       "dtype: int64"
      ]
     },
     "execution_count": 24,
     "metadata": {},
     "output_type": "execute_result"
    }
   ],
   "source": [
    "xg_total.isna().sum()"
   ]
  },
  {
   "cell_type": "code",
   "execution_count": 25,
   "id": "02d8b914",
   "metadata": {},
   "outputs": [],
   "source": [
    "xg_total.to_excel(\"prem_xG_data.xlsx\")"
   ]
  },
  {
   "cell_type": "markdown",
   "id": "77bf52dd",
   "metadata": {},
   "source": [
    "# Non Pen xG"
   ]
  },
  {
   "cell_type": "code",
   "execution_count": 26,
   "id": "886e9e42",
   "metadata": {},
   "outputs": [],
   "source": [
    "non_pen_xg = df.groupby('team')\n",
    "non_pen_xg = non_pen_xg.apply(lambda x: x[x['situation'] != 'Penalty']['xG'].sum())\n",
    "#Getting non pen xG and adding to df\n",
    "#Not working because this groupby result does not have a name so can't go into a df"
   ]
  },
  {
   "cell_type": "code",
   "execution_count": 27,
   "id": "2f3272a2",
   "metadata": {},
   "outputs": [],
   "source": [
    "non_pen_xg = non_pen_xg.sort_values(ascending=False)\n",
    "#sort so that teams match up"
   ]
  },
  {
   "cell_type": "code",
   "execution_count": null,
   "id": "82bf0a9e",
   "metadata": {},
   "outputs": [],
   "source": [
    "non_pen_xga = "
   ]
  },
  {
   "cell_type": "code",
   "execution_count": null,
   "id": "53a096b1",
   "metadata": {},
   "outputs": [],
   "source": [
    "xg_total['xGA'] = df.groupby('opposing_team')['xG'].sum()"
   ]
  },
  {
   "cell_type": "code",
   "execution_count": 28,
   "id": "650ac7b9",
   "metadata": {},
   "outputs": [],
   "source": [
    "xg_total['non_pen'] = ''"
   ]
  },
  {
   "cell_type": "code",
   "execution_count": 29,
   "id": "bfa4daf5",
   "metadata": {},
   "outputs": [],
   "source": [
    "xg_total['non_pen_xg'] = g.values\n",
    "#Now need to match for team"
   ]
  },
  {
   "cell_type": "code",
   "execution_count": 30,
   "id": "defa3ed0",
   "metadata": {},
   "outputs": [
    {
     "data": {
      "text/html": [
       "<div>\n",
       "<style scoped>\n",
       "    .dataframe tbody tr th:only-of-type {\n",
       "        vertical-align: middle;\n",
       "    }\n",
       "\n",
       "    .dataframe tbody tr th {\n",
       "        vertical-align: top;\n",
       "    }\n",
       "\n",
       "    .dataframe thead th {\n",
       "        text-align: right;\n",
       "    }\n",
       "</style>\n",
       "<table border=\"1\" class=\"dataframe\">\n",
       "  <thead>\n",
       "    <tr style=\"text-align: right;\">\n",
       "      <th></th>\n",
       "      <th>team</th>\n",
       "      <th>xG</th>\n",
       "      <th>xGA</th>\n",
       "      <th>xG_difference</th>\n",
       "      <th>matches_played</th>\n",
       "      <th>avg_xG_diff</th>\n",
       "      <th>avg_xG_for</th>\n",
       "      <th>avg_xGA</th>\n",
       "      <th>non_pen</th>\n",
       "      <th>non_pen_xg</th>\n",
       "    </tr>\n",
       "  </thead>\n",
       "  <tbody>\n",
       "    <tr>\n",
       "      <th>0</th>\n",
       "      <td>Arsenal</td>\n",
       "      <td>16.932950</td>\n",
       "      <td>7.413862</td>\n",
       "      <td>9.519088</td>\n",
       "      <td>8</td>\n",
       "      <td>1.19</td>\n",
       "      <td>2.12</td>\n",
       "      <td>0.93</td>\n",
       "      <td></td>\n",
       "      <td>19.887952</td>\n",
       "    </tr>\n",
       "    <tr>\n",
       "      <th>1</th>\n",
       "      <td>Aston Villa</td>\n",
       "      <td>8.194168</td>\n",
       "      <td>10.962579</td>\n",
       "      <td>-2.768411</td>\n",
       "      <td>8</td>\n",
       "      <td>-0.35</td>\n",
       "      <td>1.02</td>\n",
       "      <td>1.37</td>\n",
       "      <td></td>\n",
       "      <td>16.932950</td>\n",
       "    </tr>\n",
       "    <tr>\n",
       "      <th>2</th>\n",
       "      <td>Bournemouth</td>\n",
       "      <td>4.111060</td>\n",
       "      <td>14.348897</td>\n",
       "      <td>-10.237837</td>\n",
       "      <td>8</td>\n",
       "      <td>-1.28</td>\n",
       "      <td>0.51</td>\n",
       "      <td>1.79</td>\n",
       "      <td></td>\n",
       "      <td>16.387827</td>\n",
       "    </tr>\n",
       "    <tr>\n",
       "      <th>3</th>\n",
       "      <td>Brentford</td>\n",
       "      <td>12.399633</td>\n",
       "      <td>10.729053</td>\n",
       "      <td>1.670581</td>\n",
       "      <td>8</td>\n",
       "      <td>0.21</td>\n",
       "      <td>1.55</td>\n",
       "      <td>1.34</td>\n",
       "      <td></td>\n",
       "      <td>15.854558</td>\n",
       "    </tr>\n",
       "    <tr>\n",
       "      <th>4</th>\n",
       "      <td>Brighton</td>\n",
       "      <td>13.656979</td>\n",
       "      <td>7.915632</td>\n",
       "      <td>5.741346</td>\n",
       "      <td>7</td>\n",
       "      <td>0.82</td>\n",
       "      <td>1.95</td>\n",
       "      <td>1.13</td>\n",
       "      <td></td>\n",
       "      <td>12.861284</td>\n",
       "    </tr>\n",
       "    <tr>\n",
       "      <th>5</th>\n",
       "      <td>Chelsea</td>\n",
       "      <td>9.727666</td>\n",
       "      <td>10.314740</td>\n",
       "      <td>-0.587075</td>\n",
       "      <td>7</td>\n",
       "      <td>-0.08</td>\n",
       "      <td>1.39</td>\n",
       "      <td>1.47</td>\n",
       "      <td></td>\n",
       "      <td>11.638464</td>\n",
       "    </tr>\n",
       "    <tr>\n",
       "      <th>6</th>\n",
       "      <td>Crystal Palace</td>\n",
       "      <td>8.752718</td>\n",
       "      <td>12.852809</td>\n",
       "      <td>-4.100092</td>\n",
       "      <td>7</td>\n",
       "      <td>-0.59</td>\n",
       "      <td>1.25</td>\n",
       "      <td>1.84</td>\n",
       "      <td></td>\n",
       "      <td>11.373472</td>\n",
       "    </tr>\n",
       "    <tr>\n",
       "      <th>7</th>\n",
       "      <td>Everton</td>\n",
       "      <td>10.090060</td>\n",
       "      <td>13.131903</td>\n",
       "      <td>-3.041843</td>\n",
       "      <td>8</td>\n",
       "      <td>-0.38</td>\n",
       "      <td>1.26</td>\n",
       "      <td>1.64</td>\n",
       "      <td></td>\n",
       "      <td>10.612038</td>\n",
       "    </tr>\n",
       "    <tr>\n",
       "      <th>8</th>\n",
       "      <td>Fulham</td>\n",
       "      <td>9.843347</td>\n",
       "      <td>18.857684</td>\n",
       "      <td>-9.014337</td>\n",
       "      <td>8</td>\n",
       "      <td>-1.13</td>\n",
       "      <td>1.23</td>\n",
       "      <td>2.36</td>\n",
       "      <td></td>\n",
       "      <td>10.090060</td>\n",
       "    </tr>\n",
       "    <tr>\n",
       "      <th>9</th>\n",
       "      <td>Leeds</td>\n",
       "      <td>9.857185</td>\n",
       "      <td>10.728392</td>\n",
       "      <td>-0.871207</td>\n",
       "      <td>7</td>\n",
       "      <td>-0.12</td>\n",
       "      <td>1.41</td>\n",
       "      <td>1.53</td>\n",
       "      <td></td>\n",
       "      <td>9.857185</td>\n",
       "    </tr>\n",
       "    <tr>\n",
       "      <th>10</th>\n",
       "      <td>Leicester</td>\n",
       "      <td>7.880564</td>\n",
       "      <td>14.034419</td>\n",
       "      <td>-6.153854</td>\n",
       "      <td>8</td>\n",
       "      <td>-0.77</td>\n",
       "      <td>0.99</td>\n",
       "      <td>1.75</td>\n",
       "      <td></td>\n",
       "      <td>9.267026</td>\n",
       "    </tr>\n",
       "    <tr>\n",
       "      <th>11</th>\n",
       "      <td>Liverpool</td>\n",
       "      <td>16.387827</td>\n",
       "      <td>9.552495</td>\n",
       "      <td>6.835333</td>\n",
       "      <td>7</td>\n",
       "      <td>0.98</td>\n",
       "      <td>2.34</td>\n",
       "      <td>1.36</td>\n",
       "      <td></td>\n",
       "      <td>8.966497</td>\n",
       "    </tr>\n",
       "    <tr>\n",
       "      <th>12</th>\n",
       "      <td>Manchester City</td>\n",
       "      <td>20.649121</td>\n",
       "      <td>5.768748</td>\n",
       "      <td>14.880373</td>\n",
       "      <td>8</td>\n",
       "      <td>1.86</td>\n",
       "      <td>2.58</td>\n",
       "      <td>0.72</td>\n",
       "      <td></td>\n",
       "      <td>8.321009</td>\n",
       "    </tr>\n",
       "    <tr>\n",
       "      <th>13</th>\n",
       "      <td>Manchester United</td>\n",
       "      <td>11.373207</td>\n",
       "      <td>11.124987</td>\n",
       "      <td>0.248220</td>\n",
       "      <td>7</td>\n",
       "      <td>0.04</td>\n",
       "      <td>1.62</td>\n",
       "      <td>1.59</td>\n",
       "      <td></td>\n",
       "      <td>8.194168</td>\n",
       "    </tr>\n",
       "    <tr>\n",
       "      <th>14</th>\n",
       "      <td>Newcastle United</td>\n",
       "      <td>16.615727</td>\n",
       "      <td>11.006244</td>\n",
       "      <td>5.609483</td>\n",
       "      <td>8</td>\n",
       "      <td>0.70</td>\n",
       "      <td>2.08</td>\n",
       "      <td>1.38</td>\n",
       "      <td></td>\n",
       "      <td>7.992440</td>\n",
       "    </tr>\n",
       "    <tr>\n",
       "      <th>15</th>\n",
       "      <td>Nottingham Forest</td>\n",
       "      <td>8.753609</td>\n",
       "      <td>15.193996</td>\n",
       "      <td>-6.440387</td>\n",
       "      <td>8</td>\n",
       "      <td>-0.81</td>\n",
       "      <td>1.09</td>\n",
       "      <td>1.90</td>\n",
       "      <td></td>\n",
       "      <td>7.991549</td>\n",
       "    </tr>\n",
       "    <tr>\n",
       "      <th>16</th>\n",
       "      <td>Southampton</td>\n",
       "      <td>9.267026</td>\n",
       "      <td>12.062386</td>\n",
       "      <td>-2.795360</td>\n",
       "      <td>8</td>\n",
       "      <td>-0.35</td>\n",
       "      <td>1.16</td>\n",
       "      <td>1.51</td>\n",
       "      <td></td>\n",
       "      <td>7.417690</td>\n",
       "    </tr>\n",
       "    <tr>\n",
       "      <th>17</th>\n",
       "      <td>Tottenham</td>\n",
       "      <td>14.383622</td>\n",
       "      <td>9.703817</td>\n",
       "      <td>4.679805</td>\n",
       "      <td>8</td>\n",
       "      <td>0.58</td>\n",
       "      <td>1.80</td>\n",
       "      <td>1.21</td>\n",
       "      <td></td>\n",
       "      <td>7.325280</td>\n",
       "    </tr>\n",
       "    <tr>\n",
       "      <th>18</th>\n",
       "      <td>West Ham</td>\n",
       "      <td>8.086449</td>\n",
       "      <td>9.194279</td>\n",
       "      <td>-1.107831</td>\n",
       "      <td>8</td>\n",
       "      <td>-0.14</td>\n",
       "      <td>1.01</td>\n",
       "      <td>1.15</td>\n",
       "      <td></td>\n",
       "      <td>7.119396</td>\n",
       "    </tr>\n",
       "    <tr>\n",
       "      <th>19</th>\n",
       "      <td>Wolverhampton Wanderers</td>\n",
       "      <td>7.417690</td>\n",
       "      <td>9.483685</td>\n",
       "      <td>-2.065995</td>\n",
       "      <td>8</td>\n",
       "      <td>-0.26</td>\n",
       "      <td>0.93</td>\n",
       "      <td>1.19</td>\n",
       "      <td></td>\n",
       "      <td>4.111060</td>\n",
       "    </tr>\n",
       "  </tbody>\n",
       "</table>\n",
       "</div>"
      ],
      "text/plain": [
       "                       team         xG        xGA  xG_difference  \\\n",
       "0                   Arsenal  16.932950   7.413862       9.519088   \n",
       "1               Aston Villa   8.194168  10.962579      -2.768411   \n",
       "2               Bournemouth   4.111060  14.348897     -10.237837   \n",
       "3                 Brentford  12.399633  10.729053       1.670581   \n",
       "4                  Brighton  13.656979   7.915632       5.741346   \n",
       "5                   Chelsea   9.727666  10.314740      -0.587075   \n",
       "6            Crystal Palace   8.752718  12.852809      -4.100092   \n",
       "7                   Everton  10.090060  13.131903      -3.041843   \n",
       "8                    Fulham   9.843347  18.857684      -9.014337   \n",
       "9                     Leeds   9.857185  10.728392      -0.871207   \n",
       "10                Leicester   7.880564  14.034419      -6.153854   \n",
       "11                Liverpool  16.387827   9.552495       6.835333   \n",
       "12          Manchester City  20.649121   5.768748      14.880373   \n",
       "13        Manchester United  11.373207  11.124987       0.248220   \n",
       "14         Newcastle United  16.615727  11.006244       5.609483   \n",
       "15        Nottingham Forest   8.753609  15.193996      -6.440387   \n",
       "16              Southampton   9.267026  12.062386      -2.795360   \n",
       "17                Tottenham  14.383622   9.703817       4.679805   \n",
       "18                 West Ham   8.086449   9.194279      -1.107831   \n",
       "19  Wolverhampton Wanderers   7.417690   9.483685      -2.065995   \n",
       "\n",
       "    matches_played  avg_xG_diff  avg_xG_for  avg_xGA non_pen  non_pen_xg  \n",
       "0                8         1.19        2.12     0.93           19.887952  \n",
       "1                8        -0.35        1.02     1.37           16.932950  \n",
       "2                8        -1.28        0.51     1.79           16.387827  \n",
       "3                8         0.21        1.55     1.34           15.854558  \n",
       "4                7         0.82        1.95     1.13           12.861284  \n",
       "5                7        -0.08        1.39     1.47           11.638464  \n",
       "6                7        -0.59        1.25     1.84           11.373472  \n",
       "7                8        -0.38        1.26     1.64           10.612038  \n",
       "8                8        -1.13        1.23     2.36           10.090060  \n",
       "9                7        -0.12        1.41     1.53            9.857185  \n",
       "10               8        -0.77        0.99     1.75            9.267026  \n",
       "11               7         0.98        2.34     1.36            8.966497  \n",
       "12               8         1.86        2.58     0.72            8.321009  \n",
       "13               7         0.04        1.62     1.59            8.194168  \n",
       "14               8         0.70        2.08     1.38            7.992440  \n",
       "15               8        -0.81        1.09     1.90            7.991549  \n",
       "16               8        -0.35        1.16     1.51            7.417690  \n",
       "17               8         0.58        1.80     1.21            7.325280  \n",
       "18               8        -0.14        1.01     1.15            7.119396  \n",
       "19               8        -0.26        0.93     1.19            4.111060  "
      ]
     },
     "execution_count": 30,
     "metadata": {},
     "output_type": "execute_result"
    }
   ],
   "source": [
    "xg_total"
   ]
  },
  {
   "cell_type": "code",
   "execution_count": 31,
   "id": "305380fd",
   "metadata": {},
   "outputs": [],
   "source": [
    "xg_total = xg_total.sort_values(by='avg_xG_diff', ascending=False).reset_index(drop=True)"
   ]
  },
  {
   "cell_type": "markdown",
   "id": "770725dc",
   "metadata": {},
   "source": [
    "Extra Code"
   ]
  },
  {
   "cell_type": "code",
   "execution_count": 32,
   "id": "a5898486",
   "metadata": {},
   "outputs": [],
   "source": [
    "# for i in range(len(df)):\n",
    "#     df['home_current_score'][i+1] = new_home[i]\n",
    "#     df['away_current_score'][i+1] = new_away[i]\n",
    "    \n",
    "#Setting the value one after the goal scored as equal to one, because technically at the time of the goalscoring shot, the \n",
    "#score would not have changed yet -- so we want to change the one after"
   ]
  },
  {
   "cell_type": "code",
   "execution_count": null,
   "id": "9ccb5123",
   "metadata": {},
   "outputs": [],
   "source": []
  },
  {
   "cell_type": "code",
   "execution_count": null,
   "id": "596a2b9e",
   "metadata": {},
   "outputs": [],
   "source": []
  },
  {
   "cell_type": "code",
   "execution_count": 33,
   "id": "e1a0af49",
   "metadata": {},
   "outputs": [
    {
     "ename": "KeyError",
     "evalue": "'away_goal_scored'",
     "output_type": "error",
     "traceback": [
      "\u001b[1;31m---------------------------------------------------------------------------\u001b[0m",
      "\u001b[1;31mKeyError\u001b[0m                                  Traceback (most recent call last)",
      "\u001b[1;32m~\\anaconda3\\lib\\site-packages\\pandas\\core\\indexes\\base.py\u001b[0m in \u001b[0;36mget_loc\u001b[1;34m(self, key, method, tolerance)\u001b[0m\n\u001b[0;32m   3360\u001b[0m             \u001b[1;32mtry\u001b[0m\u001b[1;33m:\u001b[0m\u001b[1;33m\u001b[0m\u001b[1;33m\u001b[0m\u001b[0m\n\u001b[1;32m-> 3361\u001b[1;33m                 \u001b[1;32mreturn\u001b[0m \u001b[0mself\u001b[0m\u001b[1;33m.\u001b[0m\u001b[0m_engine\u001b[0m\u001b[1;33m.\u001b[0m\u001b[0mget_loc\u001b[0m\u001b[1;33m(\u001b[0m\u001b[0mcasted_key\u001b[0m\u001b[1;33m)\u001b[0m\u001b[1;33m\u001b[0m\u001b[1;33m\u001b[0m\u001b[0m\n\u001b[0m\u001b[0;32m   3362\u001b[0m             \u001b[1;32mexcept\u001b[0m \u001b[0mKeyError\u001b[0m \u001b[1;32mas\u001b[0m \u001b[0merr\u001b[0m\u001b[1;33m:\u001b[0m\u001b[1;33m\u001b[0m\u001b[1;33m\u001b[0m\u001b[0m\n",
      "\u001b[1;32m~\\anaconda3\\lib\\site-packages\\pandas\\_libs\\index.pyx\u001b[0m in \u001b[0;36mpandas._libs.index.IndexEngine.get_loc\u001b[1;34m()\u001b[0m\n",
      "\u001b[1;32m~\\anaconda3\\lib\\site-packages\\pandas\\_libs\\index.pyx\u001b[0m in \u001b[0;36mpandas._libs.index.IndexEngine.get_loc\u001b[1;34m()\u001b[0m\n",
      "\u001b[1;32mpandas\\_libs\\hashtable_class_helper.pxi\u001b[0m in \u001b[0;36mpandas._libs.hashtable.PyObjectHashTable.get_item\u001b[1;34m()\u001b[0m\n",
      "\u001b[1;32mpandas\\_libs\\hashtable_class_helper.pxi\u001b[0m in \u001b[0;36mpandas._libs.hashtable.PyObjectHashTable.get_item\u001b[1;34m()\u001b[0m\n",
      "\u001b[1;31mKeyError\u001b[0m: 'away_goal_scored'",
      "\nThe above exception was the direct cause of the following exception:\n",
      "\u001b[1;31mKeyError\u001b[0m                                  Traceback (most recent call last)",
      "\u001b[1;32m~\\AppData\\Local\\Temp/ipykernel_8980/3844148072.py\u001b[0m in \u001b[0;36m<module>\u001b[1;34m\u001b[0m\n\u001b[1;32m----> 1\u001b[1;33m \u001b[0mdf\u001b[0m\u001b[1;33m[\u001b[0m\u001b[1;34m'away_score'\u001b[0m\u001b[1;33m]\u001b[0m \u001b[1;33m=\u001b[0m \u001b[1;33m(\u001b[0m\u001b[0mdf\u001b[0m\u001b[1;33m[\u001b[0m\u001b[1;34m'away_goal_scored'\u001b[0m\u001b[1;33m]\u001b[0m \u001b[1;33m==\u001b[0m \u001b[1;36m1\u001b[0m\u001b[1;33m)\u001b[0m\u001b[1;33m.\u001b[0m\u001b[0mcumsum\u001b[0m\u001b[1;33m(\u001b[0m\u001b[1;33m)\u001b[0m\u001b[1;33m\u001b[0m\u001b[1;33m\u001b[0m\u001b[0m\n\u001b[0m\u001b[0;32m      2\u001b[0m \u001b[0mdf\u001b[0m\u001b[1;33m[\u001b[0m\u001b[1;34m'home_score'\u001b[0m\u001b[1;33m]\u001b[0m \u001b[1;33m=\u001b[0m \u001b[1;33m(\u001b[0m\u001b[0mdf\u001b[0m\u001b[1;33m[\u001b[0m\u001b[1;34m'home_goal_scored'\u001b[0m\u001b[1;33m]\u001b[0m \u001b[1;33m==\u001b[0m \u001b[1;36m1\u001b[0m\u001b[1;33m)\u001b[0m\u001b[1;33m.\u001b[0m\u001b[0mcumsum\u001b[0m\u001b[1;33m(\u001b[0m\u001b[1;33m)\u001b[0m\u001b[1;33m\u001b[0m\u001b[1;33m\u001b[0m\u001b[0m\n\u001b[0;32m      3\u001b[0m \u001b[1;31m#This sums for every time a goal is scored in the entire df -- need to do it for each individual match_id\u001b[0m\u001b[1;33m\u001b[0m\u001b[1;33m\u001b[0m\u001b[0m\n",
      "\u001b[1;32m~\\anaconda3\\lib\\site-packages\\pandas\\core\\frame.py\u001b[0m in \u001b[0;36m__getitem__\u001b[1;34m(self, key)\u001b[0m\n\u001b[0;32m   3456\u001b[0m             \u001b[1;32mif\u001b[0m \u001b[0mself\u001b[0m\u001b[1;33m.\u001b[0m\u001b[0mcolumns\u001b[0m\u001b[1;33m.\u001b[0m\u001b[0mnlevels\u001b[0m \u001b[1;33m>\u001b[0m \u001b[1;36m1\u001b[0m\u001b[1;33m:\u001b[0m\u001b[1;33m\u001b[0m\u001b[1;33m\u001b[0m\u001b[0m\n\u001b[0;32m   3457\u001b[0m                 \u001b[1;32mreturn\u001b[0m \u001b[0mself\u001b[0m\u001b[1;33m.\u001b[0m\u001b[0m_getitem_multilevel\u001b[0m\u001b[1;33m(\u001b[0m\u001b[0mkey\u001b[0m\u001b[1;33m)\u001b[0m\u001b[1;33m\u001b[0m\u001b[1;33m\u001b[0m\u001b[0m\n\u001b[1;32m-> 3458\u001b[1;33m             \u001b[0mindexer\u001b[0m \u001b[1;33m=\u001b[0m \u001b[0mself\u001b[0m\u001b[1;33m.\u001b[0m\u001b[0mcolumns\u001b[0m\u001b[1;33m.\u001b[0m\u001b[0mget_loc\u001b[0m\u001b[1;33m(\u001b[0m\u001b[0mkey\u001b[0m\u001b[1;33m)\u001b[0m\u001b[1;33m\u001b[0m\u001b[1;33m\u001b[0m\u001b[0m\n\u001b[0m\u001b[0;32m   3459\u001b[0m             \u001b[1;32mif\u001b[0m \u001b[0mis_integer\u001b[0m\u001b[1;33m(\u001b[0m\u001b[0mindexer\u001b[0m\u001b[1;33m)\u001b[0m\u001b[1;33m:\u001b[0m\u001b[1;33m\u001b[0m\u001b[1;33m\u001b[0m\u001b[0m\n\u001b[0;32m   3460\u001b[0m                 \u001b[0mindexer\u001b[0m \u001b[1;33m=\u001b[0m \u001b[1;33m[\u001b[0m\u001b[0mindexer\u001b[0m\u001b[1;33m]\u001b[0m\u001b[1;33m\u001b[0m\u001b[1;33m\u001b[0m\u001b[0m\n",
      "\u001b[1;32m~\\anaconda3\\lib\\site-packages\\pandas\\core\\indexes\\base.py\u001b[0m in \u001b[0;36mget_loc\u001b[1;34m(self, key, method, tolerance)\u001b[0m\n\u001b[0;32m   3361\u001b[0m                 \u001b[1;32mreturn\u001b[0m \u001b[0mself\u001b[0m\u001b[1;33m.\u001b[0m\u001b[0m_engine\u001b[0m\u001b[1;33m.\u001b[0m\u001b[0mget_loc\u001b[0m\u001b[1;33m(\u001b[0m\u001b[0mcasted_key\u001b[0m\u001b[1;33m)\u001b[0m\u001b[1;33m\u001b[0m\u001b[1;33m\u001b[0m\u001b[0m\n\u001b[0;32m   3362\u001b[0m             \u001b[1;32mexcept\u001b[0m \u001b[0mKeyError\u001b[0m \u001b[1;32mas\u001b[0m \u001b[0merr\u001b[0m\u001b[1;33m:\u001b[0m\u001b[1;33m\u001b[0m\u001b[1;33m\u001b[0m\u001b[0m\n\u001b[1;32m-> 3363\u001b[1;33m                 \u001b[1;32mraise\u001b[0m \u001b[0mKeyError\u001b[0m\u001b[1;33m(\u001b[0m\u001b[0mkey\u001b[0m\u001b[1;33m)\u001b[0m \u001b[1;32mfrom\u001b[0m \u001b[0merr\u001b[0m\u001b[1;33m\u001b[0m\u001b[1;33m\u001b[0m\u001b[0m\n\u001b[0m\u001b[0;32m   3364\u001b[0m \u001b[1;33m\u001b[0m\u001b[0m\n\u001b[0;32m   3365\u001b[0m         \u001b[1;32mif\u001b[0m \u001b[0mis_scalar\u001b[0m\u001b[1;33m(\u001b[0m\u001b[0mkey\u001b[0m\u001b[1;33m)\u001b[0m \u001b[1;32mand\u001b[0m \u001b[0misna\u001b[0m\u001b[1;33m(\u001b[0m\u001b[0mkey\u001b[0m\u001b[1;33m)\u001b[0m \u001b[1;32mand\u001b[0m \u001b[1;32mnot\u001b[0m \u001b[0mself\u001b[0m\u001b[1;33m.\u001b[0m\u001b[0mhasnans\u001b[0m\u001b[1;33m:\u001b[0m\u001b[1;33m\u001b[0m\u001b[1;33m\u001b[0m\u001b[0m\n",
      "\u001b[1;31mKeyError\u001b[0m: 'away_goal_scored'"
     ]
    }
   ],
   "source": [
    "df['away_score'] = (df['away_goal_scored'] == 1).cumsum()\n",
    "df['home_score'] = (df['home_goal_scored'] == 1).cumsum()\n",
    "#This sums for every time a goal is scored in the entire df -- need to do it for each individual match_id"
   ]
  }
 ],
 "metadata": {
  "kernelspec": {
   "display_name": "Python 3 (ipykernel)",
   "language": "python",
   "name": "python3"
  },
  "language_info": {
   "codemirror_mode": {
    "name": "ipython",
    "version": 3
   },
   "file_extension": ".py",
   "mimetype": "text/x-python",
   "name": "python",
   "nbconvert_exporter": "python",
   "pygments_lexer": "ipython3",
   "version": "3.9.7"
  }
 },
 "nbformat": 4,
 "nbformat_minor": 5
}
