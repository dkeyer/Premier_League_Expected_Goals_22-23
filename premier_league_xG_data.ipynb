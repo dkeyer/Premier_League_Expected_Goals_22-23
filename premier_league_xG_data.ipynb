{
 "cells": [
  {
   "cell_type": "code",
   "execution_count": 490,
   "id": "98b7ac45",
   "metadata": {},
   "outputs": [],
   "source": [
    "import pandas as pd\n",
    "import numpy as np\n",
    "import seaborn as sns\n",
    "import matplotlib.pyplot as plt\n",
    "import requests\n",
    "from bs4 import BeautifulSoup\n",
    "from __future__ import print_function\n",
    "import json\n",
    "\n",
    "from datetime import date\n",
    "import datetime\n",
    "#imports"
   ]
  },
  {
   "cell_type": "markdown",
   "id": "011bb6b2",
   "metadata": {},
   "source": [
    "There are 20 teams in the PL, each plays 38 matches for a total of 760. The first game in the 2022-2023 season is number 18202, and it counts up one by one from there, so the total range will be 18,202 to 18,961. Then we will take only the completed games from there."
   ]
  },
  {
   "cell_type": "code",
   "execution_count": 491,
   "id": "acffa7ac",
   "metadata": {},
   "outputs": [],
   "source": [
    "# d = range(18202,18962)\n",
    "match_range = range(18202,18242)"
   ]
  },
  {
   "cell_type": "code",
   "execution_count": 492,
   "id": "c0ae3fae",
   "metadata": {},
   "outputs": [],
   "source": [
    "urls = []\n",
    "for i in match_range:\n",
    "    base_url = f'https://understat.com/match/{i}'\n",
    "    urls.append(base_url)"
   ]
  },
  {
   "cell_type": "code",
   "execution_count": 493,
   "id": "4cf2f34c",
   "metadata": {},
   "outputs": [],
   "source": [
    "resington = []\n",
    "all_res_data = []\n",
    "for i in urls:\n",
    "    res = requests.get(i)\n",
    "    soup = BeautifulSoup(res.content, 'lxml')\n",
    "    scripts = soup.find_all('script')\n",
    "#     for s in all_res_data:\n",
    "#         if \n",
    "    all_res_data.append(scripts)\n",
    "    resington.append(soup)\n",
    "    #Here we can append only the ones that have 'script'"
   ]
  },
  {
   "cell_type": "code",
   "execution_count": 494,
   "id": "3f13d9be",
   "metadata": {},
   "outputs": [],
   "source": [
    "backup_all_res_data = all_res_data\n",
    "#Adding a backup unless we need it and so we don't need to scrape again"
   ]
  },
  {
   "cell_type": "code",
   "execution_count": 495,
   "id": "4154cbec",
   "metadata": {},
   "outputs": [],
   "source": [
    "# all_res_data = [str(i) for i in all_res_data]"
   ]
  },
  {
   "cell_type": "code",
   "execution_count": 496,
   "id": "d4db7cb6",
   "metadata": {},
   "outputs": [],
   "source": [
    "scripts = []\n",
    "for i in all_res_data:\n",
    "    if len(i) > 1:\n",
    "        scripts.append(i)\n",
    "    else:\n",
    "        pass\n",
    "#All of the incomplete games in all_res_data will have a length of zero, so this is how we will filter out the unplayed games\n",
    "#if necessary"
   ]
  },
  {
   "cell_type": "code",
   "execution_count": 497,
   "id": "bacf2cd5",
   "metadata": {},
   "outputs": [
    {
     "data": {
      "text/plain": [
       "23"
      ]
     },
     "execution_count": 497,
     "metadata": {},
     "output_type": "execute_result"
    }
   ],
   "source": [
    "len(scripts[1])"
   ]
  },
  {
   "cell_type": "code",
   "execution_count": 498,
   "id": "3d467ad2",
   "metadata": {},
   "outputs": [],
   "source": [
    "script_list = []\n",
    "for i in scripts:\n",
    "    script_list.append(i[1])\n",
    "#The [1] element is the one with all of the shot data"
   ]
  },
  {
   "cell_type": "code",
   "execution_count": 499,
   "id": "cc703ba9",
   "metadata": {},
   "outputs": [],
   "source": [
    "for i in range(0, len(script_list)):\n",
    "    script_list[i] = str(script_list[i])\n",
    "#turning all of our data into strings"
   ]
  },
  {
   "cell_type": "code",
   "execution_count": 500,
   "id": "6526d739",
   "metadata": {},
   "outputs": [],
   "source": [
    "# res = requests.get(urls)\n",
    "# soup = BeautifulSoup(res.content, 'lxml')\n",
    "# scripts = soup.find_all('script')"
   ]
  },
  {
   "cell_type": "code",
   "execution_count": 501,
   "id": "8522601d",
   "metadata": {},
   "outputs": [],
   "source": [
    "data_list = []\n",
    "\n",
    "# strip unnecessary symbols and get only JSON data \n",
    "for i in range(0, len(script_list)):\n",
    "    ind_start = script_list[i].index(\"('\")+2 \n",
    "    ind_end = script_list[i].index(\"')\") \n",
    "    json_data = script_list[i][ind_start:ind_end] \n",
    "    json_data = json_data.encode('utf8').decode('unicode_escape')\n",
    "\n",
    "#convert string to json format\n",
    "    data = json.loads(json_data)\n",
    "    data_list.append(data)"
   ]
  },
  {
   "cell_type": "code",
   "execution_count": 502,
   "id": "cdd1ba94",
   "metadata": {},
   "outputs": [],
   "source": [
    "test_list = []\n",
    "length = len(data_list)\n",
    "for i in range(length):\n",
    "    test_list.append(data_list[i]['h'])\n",
    "# for i in range(length):\n",
    "#     data_home = data_list[i]['h']"
   ]
  },
  {
   "cell_type": "code",
   "execution_count": 503,
   "id": "1b687b77",
   "metadata": {},
   "outputs": [],
   "source": [
    "all_data = []\n",
    "match_id_list = []\n",
    "x_list = []\n",
    "y_list = []\n",
    "home_score_list = []\n",
    "away_score_list = []\n",
    "player_list = []\n",
    "xG_list = []\n",
    "h_a_list = []\n",
    "result_list = []\n",
    "team_list = []\n",
    "minute_list = []\n",
    "length = len(data_list)\n",
    "for i in range(length):\n",
    "    match_id = [] \n",
    "    x = []\n",
    "    y = []\n",
    "    home_score = []\n",
    "    away_score = []\n",
    "    player = []\n",
    "    xG = []\n",
    "    h_a = []\n",
    "    result = []\n",
    "    team = []\n",
    "    minute = []\n",
    "    data_away = data_list[i]['a']\n",
    "    data_home = data_list[i]['h']\n",
    "\n",
    "    for index in range(len(data_home)):\n",
    "        for key in data_home[index]:\n",
    "            if key == 'X':\n",
    "                x.append(data_home[index][key])\n",
    "            if key == 'Y':\n",
    "                y.append(data_home[index][key])\n",
    "            if key == 'h_team':\n",
    "                team.append(data_home[index][key])\n",
    "            if key == 'xG':\n",
    "                xG.append(data_home[index][key])\n",
    "            if key == 'result':\n",
    "                result.append(data_home[index][key])\n",
    "            if key == 'h_goals':\n",
    "                home_score.append(data_home[index][key])\n",
    "            if key == 'a_goals':\n",
    "                away_score.append(data_home[index][key])\n",
    "            if key == 'minute':\n",
    "                minute.append(data_home[index][key]) \n",
    "            if key == 'player':\n",
    "                player.append(data_home[index][key])\n",
    "            if key == 'match_id':\n",
    "                match_id.append(data_home[index][key])\n",
    "            if key == 'h_a':\n",
    "                h_a.append(data_home[index][key])\n",
    "        \n",
    "        #NEED TO APPEND EVERYTHING TO ALL_DATA\n",
    "\n",
    "    for index in range(len(data_away)):\n",
    "        for key in data_away[index]:\n",
    "            if key == 'X':\n",
    "                x.append(data_away[index][key])\n",
    "            if key == 'Y':\n",
    "                y.append(data_away[index][key])\n",
    "            if key == 'a_team':\n",
    "                team.append(data_away[index][key])\n",
    "            if key == 'xG':\n",
    "                xG.append(data_away[index][key])\n",
    "            if key == 'result':\n",
    "                result.append(data_away[index][key])\n",
    "            if key == 'h_goals':\n",
    "                home_score.append(data_away[index][key])\n",
    "            if key == 'a_goals':\n",
    "                away_score.append(data_away[index][key])\n",
    "            if key == 'minute':\n",
    "                minute.append(data_away[index][key])\n",
    "            if key == 'player':\n",
    "                player.append(data_away[index][key])\n",
    "            if key == 'match_id':\n",
    "                match_id.append(data_away[index][key])\n",
    "            if key == 'h_a':\n",
    "                h_a.append(data_away[index][key]) \n",
    "                \n",
    "    match_id_list.append(match_id)\n",
    "    x_list.append(x)\n",
    "    y_list.append(y)\n",
    "    team_list.append(team)\n",
    "    xG_list.append(xG)\n",
    "    result_list.append(result)\n",
    "    home_score_list.append(home_score)\n",
    "    away_score_list.append(away_score)\n",
    "    minute_list.append(minute)\n",
    "    player_list.append(player)\n",
    "    h_a_list.append(h_a)"
   ]
  },
  {
   "cell_type": "code",
   "execution_count": 504,
   "id": "1d283548",
   "metadata": {
    "scrolled": false
   },
   "outputs": [
    {
     "data": {
      "text/plain": [
       "['18202',\n",
       " '18202',\n",
       " '18202',\n",
       " '18202',\n",
       " '18202',\n",
       " '18202',\n",
       " '18202',\n",
       " '18202',\n",
       " '18202',\n",
       " '18202',\n",
       " '18202',\n",
       " '18202',\n",
       " '18202',\n",
       " '18202',\n",
       " '18202',\n",
       " '18202',\n",
       " '18202',\n",
       " '18202',\n",
       " '18202',\n",
       " '18202',\n",
       " '18202']"
      ]
     },
     "execution_count": 504,
     "metadata": {},
     "output_type": "execute_result"
    }
   ],
   "source": [
    "match_id_list[0]"
   ]
  },
  {
   "cell_type": "code",
   "execution_count": 505,
   "id": "92ab56e3",
   "metadata": {},
   "outputs": [
    {
     "data": {
      "text/plain": [
       "str"
      ]
     },
     "execution_count": 505,
     "metadata": {},
     "output_type": "execute_result"
    }
   ],
   "source": [
    "type(team_list[0][0])"
   ]
  },
  {
   "cell_type": "code",
   "execution_count": 506,
   "id": "d5f9f3f0",
   "metadata": {},
   "outputs": [],
   "source": [
    "match_id_list = [val for sublist in match_id_list for val in sublist]\n",
    "x_list = [val for sublist in x_list for val in sublist]\n",
    "y_list = [val for sublist in y_list for val in sublist]\n",
    "team_list = [val for sublist in team_list for val in sublist]\n",
    "xG_list = [val for sublist in xG_list for val in sublist]\n",
    "result_list = [val for sublist in result_list for val in sublist]\n",
    "home_score_list = [val for sublist in home_score_list for val in sublist]\n",
    "away_score_list = [val for sublist in away_score_list for val in sublist]\n",
    "minute_list = [val for sublist in minute_list for val in sublist]\n",
    "player_list = [val for sublist in player_list for val in sublist]\n",
    "h_a_list = [val for sublist in h_a_list for val in sublist]\n",
    "\n",
    "#Repeat for all\n",
    "#Flattening nested lists"
   ]
  },
  {
   "cell_type": "code",
   "execution_count": 513,
   "id": "c297ab9c",
   "metadata": {},
   "outputs": [],
   "source": [
    "col_names = ['match_id','x','y','xG','minute','result','team','h_a','player','home_score','away_score']\n",
    "df = pd.DataFrame([match_id_list,x_list,y_list,xG_list,minute_list,result_list,team_list,h_a_list,player_list,home_score_list,away_score_list],index=col_names)\n",
    "# df = pd.DataFrame([all_data[0],all_data[1],all_data[2],all_data[3],all_data[4],all_data[5],all_data[6],all_data[7],all_data[8],all_data[9],all_data[10]],index=col_names)\n",
    "df = df.T\n",
    "df = df.astype({'minute':'int'})\n",
    "df = df.sort_values(by=['match_id','minute'])"
   ]
  },
  {
   "cell_type": "code",
   "execution_count": 510,
   "id": "cbed8c97",
   "metadata": {},
   "outputs": [],
   "source": [
    "df['away_score'] = 0\n",
    "df['home_score'] = 0"
   ]
  },
  {
   "cell_type": "markdown",
   "id": "ea963629",
   "metadata": {},
   "source": [
    "Up next, need to figure out how to "
   ]
  },
  {
   "cell_type": "code",
   "execution_count": 511,
   "id": "af6993b5",
   "metadata": {},
   "outputs": [
    {
     "data": {
      "text/html": [
       "<div>\n",
       "<style scoped>\n",
       "    .dataframe tbody tr th:only-of-type {\n",
       "        vertical-align: middle;\n",
       "    }\n",
       "\n",
       "    .dataframe tbody tr th {\n",
       "        vertical-align: top;\n",
       "    }\n",
       "\n",
       "    .dataframe thead th {\n",
       "        text-align: right;\n",
       "    }\n",
       "</style>\n",
       "<table border=\"1\" class=\"dataframe\">\n",
       "  <thead>\n",
       "    <tr style=\"text-align: right;\">\n",
       "      <th></th>\n",
       "      <th>match_id</th>\n",
       "      <th>x</th>\n",
       "      <th>y</th>\n",
       "      <th>xG</th>\n",
       "      <th>minute</th>\n",
       "      <th>result</th>\n",
       "      <th>team</th>\n",
       "      <th>h_a</th>\n",
       "      <th>player</th>\n",
       "      <th>home_score</th>\n",
       "      <th>away_score</th>\n",
       "    </tr>\n",
       "  </thead>\n",
       "  <tbody>\n",
       "    <tr>\n",
       "      <th>0</th>\n",
       "      <td>18202</td>\n",
       "      <td>0.92</td>\n",
       "      <td>0.5120000076293946</td>\n",
       "      <td>0.3935762047767639</td>\n",
       "      <td>41</td>\n",
       "      <td>SavedShot</td>\n",
       "      <td>Crystal Palace</td>\n",
       "      <td>h</td>\n",
       "      <td>Odsonne Edouard</td>\n",
       "      <td>0</td>\n",
       "      <td>0</td>\n",
       "    </tr>\n",
       "    <tr>\n",
       "      <th>1</th>\n",
       "      <td>18202</td>\n",
       "      <td>0.850999984741211</td>\n",
       "      <td>0.345</td>\n",
       "      <td>0.05573191121220589</td>\n",
       "      <td>45</td>\n",
       "      <td>BlockedShot</td>\n",
       "      <td>Crystal Palace</td>\n",
       "      <td>h</td>\n",
       "      <td>Odsonne Edouard</td>\n",
       "      <td>0</td>\n",
       "      <td>0</td>\n",
       "    </tr>\n",
       "    <tr>\n",
       "      <th>2</th>\n",
       "      <td>18202</td>\n",
       "      <td>0.9209999847412109</td>\n",
       "      <td>0.3659999847412109</td>\n",
       "      <td>0.06706040352582932</td>\n",
       "      <td>45</td>\n",
       "      <td>BlockedShot</td>\n",
       "      <td>Crystal Palace</td>\n",
       "      <td>h</td>\n",
       "      <td>Odsonne Edouard</td>\n",
       "      <td>0</td>\n",
       "      <td>0</td>\n",
       "    </tr>\n",
       "    <tr>\n",
       "      <th>3</th>\n",
       "      <td>18202</td>\n",
       "      <td>0.765</td>\n",
       "      <td>0.4879999923706055</td>\n",
       "      <td>0.0250832661986351</td>\n",
       "      <td>46</td>\n",
       "      <td>BlockedShot</td>\n",
       "      <td>Crystal Palace</td>\n",
       "      <td>h</td>\n",
       "      <td>Jeffrey Schlupp</td>\n",
       "      <td>0</td>\n",
       "      <td>0</td>\n",
       "    </tr>\n",
       "    <tr>\n",
       "      <th>4</th>\n",
       "      <td>18202</td>\n",
       "      <td>0.9109999847412109</td>\n",
       "      <td>0.5890000152587891</td>\n",
       "      <td>0.3831236958503723</td>\n",
       "      <td>51</td>\n",
       "      <td>SavedShot</td>\n",
       "      <td>Crystal Palace</td>\n",
       "      <td>h</td>\n",
       "      <td>Eberechi Eze</td>\n",
       "      <td>0</td>\n",
       "      <td>0</td>\n",
       "    </tr>\n",
       "    <tr>\n",
       "      <th>...</th>\n",
       "      <td>...</td>\n",
       "      <td>...</td>\n",
       "      <td>...</td>\n",
       "      <td>...</td>\n",
       "      <td>...</td>\n",
       "      <td>...</td>\n",
       "      <td>...</td>\n",
       "      <td>...</td>\n",
       "      <td>...</td>\n",
       "      <td>...</td>\n",
       "      <td>...</td>\n",
       "    </tr>\n",
       "    <tr>\n",
       "      <th>1036</th>\n",
       "      <td>18241</td>\n",
       "      <td>0.355</td>\n",
       "      <td>0.5420000076293945</td>\n",
       "      <td>0.006248930003494024</td>\n",
       "      <td>77</td>\n",
       "      <td>SavedShot</td>\n",
       "      <td>Tottenham</td>\n",
       "      <td>a</td>\n",
       "      <td>Harry Kane</td>\n",
       "      <td>0</td>\n",
       "      <td>0</td>\n",
       "    </tr>\n",
       "    <tr>\n",
       "      <th>1037</th>\n",
       "      <td>18241</td>\n",
       "      <td>0.960999984741211</td>\n",
       "      <td>0.42400001525878905</td>\n",
       "      <td>0.14894242584705353</td>\n",
       "      <td>78</td>\n",
       "      <td>MissedShots</td>\n",
       "      <td>Tottenham</td>\n",
       "      <td>a</td>\n",
       "      <td>Richarlison</td>\n",
       "      <td>0</td>\n",
       "      <td>0</td>\n",
       "    </tr>\n",
       "    <tr>\n",
       "      <th>1038</th>\n",
       "      <td>18241</td>\n",
       "      <td>0.9490000152587891</td>\n",
       "      <td>0.45799999237060546</td>\n",
       "      <td>0.5086269974708557</td>\n",
       "      <td>80</td>\n",
       "      <td>Goal</td>\n",
       "      <td>Tottenham</td>\n",
       "      <td>a</td>\n",
       "      <td>Harry Kane</td>\n",
       "      <td>0</td>\n",
       "      <td>0</td>\n",
       "    </tr>\n",
       "    <tr>\n",
       "      <th>1039</th>\n",
       "      <td>18241</td>\n",
       "      <td>0.9069999694824219</td>\n",
       "      <td>0.5670000076293945</td>\n",
       "      <td>0.13697484135627747</td>\n",
       "      <td>91</td>\n",
       "      <td>SavedShot</td>\n",
       "      <td>Tottenham</td>\n",
       "      <td>a</td>\n",
       "      <td>Richarlison</td>\n",
       "      <td>0</td>\n",
       "      <td>0</td>\n",
       "    </tr>\n",
       "    <tr>\n",
       "      <th>1040</th>\n",
       "      <td>18241</td>\n",
       "      <td>0.9209999847412109</td>\n",
       "      <td>0.41</td>\n",
       "      <td>0.11410751938819885</td>\n",
       "      <td>91</td>\n",
       "      <td>BlockedShot</td>\n",
       "      <td>Tottenham</td>\n",
       "      <td>a</td>\n",
       "      <td>Djed Spence</td>\n",
       "      <td>0</td>\n",
       "      <td>0</td>\n",
       "    </tr>\n",
       "  </tbody>\n",
       "</table>\n",
       "<p>1041 rows × 11 columns</p>\n",
       "</div>"
      ],
      "text/plain": [
       "     match_id                   x                    y                    xG  \\\n",
       "0       18202                0.92   0.5120000076293946    0.3935762047767639   \n",
       "1       18202   0.850999984741211                0.345   0.05573191121220589   \n",
       "2       18202  0.9209999847412109   0.3659999847412109   0.06706040352582932   \n",
       "3       18202               0.765   0.4879999923706055    0.0250832661986351   \n",
       "4       18202  0.9109999847412109   0.5890000152587891    0.3831236958503723   \n",
       "...       ...                 ...                  ...                   ...   \n",
       "1036    18241               0.355   0.5420000076293945  0.006248930003494024   \n",
       "1037    18241   0.960999984741211  0.42400001525878905   0.14894242584705353   \n",
       "1038    18241  0.9490000152587891  0.45799999237060546    0.5086269974708557   \n",
       "1039    18241  0.9069999694824219   0.5670000076293945   0.13697484135627747   \n",
       "1040    18241  0.9209999847412109                 0.41   0.11410751938819885   \n",
       "\n",
       "     minute       result            team h_a           player  home_score  \\\n",
       "0        41    SavedShot  Crystal Palace   h  Odsonne Edouard           0   \n",
       "1        45  BlockedShot  Crystal Palace   h  Odsonne Edouard           0   \n",
       "2        45  BlockedShot  Crystal Palace   h  Odsonne Edouard           0   \n",
       "3        46  BlockedShot  Crystal Palace   h  Jeffrey Schlupp           0   \n",
       "4        51    SavedShot  Crystal Palace   h     Eberechi Eze           0   \n",
       "...     ...          ...             ...  ..              ...         ...   \n",
       "1036     77    SavedShot       Tottenham   a       Harry Kane           0   \n",
       "1037     78  MissedShots       Tottenham   a      Richarlison           0   \n",
       "1038     80         Goal       Tottenham   a       Harry Kane           0   \n",
       "1039     91    SavedShot       Tottenham   a      Richarlison           0   \n",
       "1040     91  BlockedShot       Tottenham   a      Djed Spence           0   \n",
       "\n",
       "      away_score  \n",
       "0              0  \n",
       "1              0  \n",
       "2              0  \n",
       "3              0  \n",
       "4              0  \n",
       "...          ...  \n",
       "1036           0  \n",
       "1037           0  \n",
       "1038           0  \n",
       "1039           0  \n",
       "1040           0  \n",
       "\n",
       "[1041 rows x 11 columns]"
      ]
     },
     "execution_count": 511,
     "metadata": {},
     "output_type": "execute_result"
    }
   ],
   "source": [
    "df"
   ]
  },
  {
   "cell_type": "code",
   "execution_count": 512,
   "id": "64cac4ae",
   "metadata": {},
   "outputs": [],
   "source": [
    "df.loc[df['result'] == 'Goal', 'away_score'] = 10"
   ]
  },
  {
   "cell_type": "code",
   "execution_count": null,
   "id": "453cbe2b",
   "metadata": {},
   "outputs": [],
   "source": []
  },
  {
   "cell_type": "code",
   "execution_count": null,
   "id": "70b3f2fb",
   "metadata": {},
   "outputs": [],
   "source": []
  }
 ],
 "metadata": {
  "kernelspec": {
   "display_name": "Python 3 (ipykernel)",
   "language": "python",
   "name": "python3"
  },
  "language_info": {
   "codemirror_mode": {
    "name": "ipython",
    "version": 3
   },
   "file_extension": ".py",
   "mimetype": "text/x-python",
   "name": "python",
   "nbconvert_exporter": "python",
   "pygments_lexer": "ipython3",
   "version": "3.9.7"
  }
 },
 "nbformat": 4,
 "nbformat_minor": 5
}
