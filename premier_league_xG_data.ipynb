{
 "cells": [
  {
   "cell_type": "code",
   "execution_count": 426,
   "id": "98b7ac45",
   "metadata": {},
   "outputs": [],
   "source": [
    "import pandas as pd\n",
    "import numpy as np\n",
    "import seaborn as sns\n",
    "import matplotlib.pyplot as plt\n",
    "import requests\n",
    "from bs4 import BeautifulSoup\n",
    "from __future__ import print_function\n",
    "import json\n",
    "\n",
    "from datetime import date\n",
    "import datetime\n",
    "#imports"
   ]
  },
  {
   "cell_type": "markdown",
   "id": "011bb6b2",
   "metadata": {},
   "source": [
    "There are 20 teams in the PL, each plays 38 matches for a total of 760. The first game in the 2022-2023 season is number 18202, and it counts up one by one from there, so the total range will be 18,202 to 18,961. Then we will take only the completed games from there."
   ]
  },
  {
   "cell_type": "code",
   "execution_count": 427,
   "id": "acffa7ac",
   "metadata": {},
   "outputs": [],
   "source": [
    "# d = range(18202,18962)\n",
    "match_range = range(18202,18300)"
   ]
  },
  {
   "cell_type": "code",
   "execution_count": 428,
   "id": "c0ae3fae",
   "metadata": {},
   "outputs": [],
   "source": [
    "urls = []\n",
    "for i in match_range:\n",
    "    base_url = f'https://understat.com/match/{i}'\n",
    "    urls.append(base_url)"
   ]
  },
  {
   "cell_type": "code",
   "execution_count": 429,
   "id": "4cf2f34c",
   "metadata": {},
   "outputs": [],
   "source": [
    "all_res_data = []\n",
    "for i in urls:\n",
    "    res = requests.get(i)\n",
    "    soup = BeautifulSoup(res.content, 'lxml')\n",
    "    scripts = soup.find_all('script')\n",
    "\n",
    "    all_res_data.append(scripts)\n",
    "    #Here we can append only the ones that have 'script'"
   ]
  },
  {
   "cell_type": "code",
   "execution_count": 430,
   "id": "8526b65b",
   "metadata": {},
   "outputs": [],
   "source": [
    "backup_all_res_data = all_res_data\n",
    "#Adding a backup unless we need it and so we don't need to scrape again"
   ]
  },
  {
   "cell_type": "code",
   "execution_count": 431,
   "id": "45e66012",
   "metadata": {},
   "outputs": [],
   "source": [
    "all_res_data = backup_all_res_data"
   ]
  },
  {
   "cell_type": "code",
   "execution_count": 432,
   "id": "d4db7cb6",
   "metadata": {},
   "outputs": [],
   "source": [
    "scripts = []\n",
    "for i in all_res_data:\n",
    "    if len(i) > 1:\n",
    "        scripts.append(i)\n",
    "    else:\n",
    "        pass\n",
    "#All of the incomplete games in all_res_data will have a length of zero, so this is how we will filter out the unplayed games\n",
    "#if necessary"
   ]
  },
  {
   "cell_type": "code",
   "execution_count": 433,
   "id": "3d467ad2",
   "metadata": {},
   "outputs": [],
   "source": [
    "script_list = []\n",
    "for i in scripts:\n",
    "    script_list.append(i[1])\n",
    "#The [1] element is the one with all of the shot data"
   ]
  },
  {
   "cell_type": "code",
   "execution_count": 434,
   "id": "cc703ba9",
   "metadata": {},
   "outputs": [],
   "source": [
    "for i in range(0, len(script_list)):\n",
    "    script_list[i] = str(script_list[i])\n",
    "#turning all of our data into strings"
   ]
  },
  {
   "cell_type": "code",
   "execution_count": 435,
   "id": "8522601d",
   "metadata": {},
   "outputs": [],
   "source": [
    "data_list = []\n",
    "\n",
    "# strip unnecessary symbols and get only JSON data \n",
    "for i in range(0, len(script_list)):\n",
    "    ind_start = script_list[i].index(\"('\")+2 \n",
    "    ind_end = script_list[i].index(\"')\") \n",
    "    json_data = script_list[i][ind_start:ind_end] \n",
    "    json_data = json_data.encode('utf8').decode('unicode_escape')\n",
    "\n",
    "#convert string to json format\n",
    "    data = json.loads(json_data)\n",
    "    data_list.append(data)"
   ]
  },
  {
   "cell_type": "code",
   "execution_count": 436,
   "id": "1b687b77",
   "metadata": {},
   "outputs": [],
   "source": [
    "all_data = []\n",
    "match_id_list = []\n",
    "x_list = []\n",
    "y_list = []\n",
    "home_score_list = []\n",
    "away_score_list = []\n",
    "player_list = []\n",
    "xG_list = []\n",
    "h_a_list = []\n",
    "result_list = []\n",
    "team_list = []\n",
    "opposing_team_list = []\n",
    "minute_list = []\n",
    "length = len(data_list)\n",
    "for i in range(length):\n",
    "    match_id = [] \n",
    "    x = []\n",
    "    y = []\n",
    "    home_score = []\n",
    "    away_score = []\n",
    "    player = []\n",
    "    xG = []\n",
    "    h_a = []\n",
    "    result = []\n",
    "    team = []\n",
    "    opposing_team = []\n",
    "    minute = []\n",
    "    data_away = data_list[i]['a']\n",
    "    data_home = data_list[i]['h']\n",
    "\n",
    "    for index in range(len(data_home)):\n",
    "        for key in data_home[index]:\n",
    "            if key == 'X':\n",
    "                x.append(data_home[index][key])\n",
    "            if key == 'Y':\n",
    "                y.append(data_home[index][key])\n",
    "            if key == 'h_team':\n",
    "                team.append(data_home[index][key])\n",
    "            if key == 'a_team':\n",
    "                opposing_team.append(data_home[index][key])\n",
    "            if key == 'xG':\n",
    "                xG.append(data_home[index][key])\n",
    "            if key == 'result':\n",
    "                result.append(data_home[index][key])\n",
    "            if key == 'h_goals':\n",
    "                home_score.append(data_home[index][key])\n",
    "            if key == 'a_goals':\n",
    "                away_score.append(data_home[index][key])\n",
    "            if key == 'minute':\n",
    "                minute.append(data_home[index][key]) \n",
    "            if key == 'player':\n",
    "                player.append(data_home[index][key])\n",
    "            if key == 'match_id':\n",
    "                match_id.append(data_home[index][key])\n",
    "            if key == 'h_a':\n",
    "                h_a.append(data_home[index][key])\n",
    "        \n",
    "        #NEED TO APPEND EVERYTHING TO ALL_DATA\n",
    "\n",
    "    for index in range(len(data_away)):\n",
    "        for key in data_away[index]:\n",
    "            if key == 'X':\n",
    "                x.append(data_away[index][key])\n",
    "            if key == 'Y':\n",
    "                y.append(data_away[index][key])\n",
    "            if key == 'a_team':\n",
    "                team.append(data_away[index][key])\n",
    "            if key == 'h_team':\n",
    "                opposing_team.append(data_away[index][key])\n",
    "            if key == 'xG':\n",
    "                xG.append(data_away[index][key])\n",
    "            if key == 'result':\n",
    "                result.append(data_away[index][key])\n",
    "            if key == 'h_goals':\n",
    "                home_score.append(data_away[index][key])\n",
    "            if key == 'a_goals':\n",
    "                away_score.append(data_away[index][key])\n",
    "            if key == 'minute':\n",
    "                minute.append(data_away[index][key])\n",
    "            if key == 'player':\n",
    "                player.append(data_away[index][key])\n",
    "            if key == 'match_id':\n",
    "                match_id.append(data_away[index][key])\n",
    "            if key == 'h_a':\n",
    "                h_a.append(data_away[index][key]) \n",
    "                \n",
    "    match_id_list.append(match_id)\n",
    "    x_list.append(x)\n",
    "    y_list.append(y)\n",
    "    team_list.append(team)\n",
    "    opposing_team_list.append(opposing_team)\n",
    "    xG_list.append(xG)\n",
    "    result_list.append(result)\n",
    "    home_score_list.append(home_score)\n",
    "    away_score_list.append(away_score)\n",
    "    minute_list.append(minute)\n",
    "    player_list.append(player)\n",
    "    h_a_list.append(h_a)"
   ]
  },
  {
   "cell_type": "code",
   "execution_count": 437,
   "id": "2370573a",
   "metadata": {},
   "outputs": [],
   "source": [
    "match_id_list = [val for sublist in match_id_list for val in sublist]\n",
    "x_list = [val for sublist in x_list for val in sublist]\n",
    "y_list = [val for sublist in y_list for val in sublist]\n",
    "team_list = [val for sublist in team_list for val in sublist]\n",
    "opposing_team_list = [val for sublist in opposing_team_list for val in sublist]\n",
    "xG_list = [val for sublist in xG_list for val in sublist]\n",
    "result_list = [val for sublist in result_list for val in sublist]\n",
    "home_score_list = [val for sublist in home_score_list for val in sublist]\n",
    "away_score_list = [val for sublist in away_score_list for val in sublist]\n",
    "minute_list = [val for sublist in minute_list for val in sublist]\n",
    "player_list = [val for sublist in player_list for val in sublist]\n",
    "h_a_list = [val for sublist in h_a_list for val in sublist]\n",
    "\n",
    "#Flattening nested lists"
   ]
  },
  {
   "cell_type": "code",
   "execution_count": 438,
   "id": "c297ab9c",
   "metadata": {},
   "outputs": [],
   "source": [
    "col_names = ['match_id','x','y','xG','minute','result','team','opposing_team','h_a','player','home_score','away_score']\n",
    "df = pd.DataFrame([match_id_list,x_list,y_list,xG_list,minute_list,result_list,team_list,opposing_team_list,h_a_list,player_list,home_score_list,away_score_list],index=col_names)\n",
    "# df = pd.DataFrame([all_data[0],all_data[1],all_data[2],all_data[3],all_data[4],all_data[5],all_data[6],all_data[7],all_data[8],all_data[9],all_data[10]],index=col_names)\n",
    "df = df.T\n",
    "df = df.astype({'minute':'int'})\n",
    "df = df.sort_values(by=['match_id','minute'])\n",
    "df = df.reset_index()"
   ]
  },
  {
   "cell_type": "code",
   "execution_count": 439,
   "id": "cbed8c97",
   "metadata": {},
   "outputs": [],
   "source": [
    "df['away_score'] = 0\n",
    "df['home_score'] = 0"
   ]
  },
  {
   "cell_type": "markdown",
   "id": "c4e0d820",
   "metadata": {},
   "source": [
    "Up next, need to figure out how to add score once we see goal, and keep it there for all of the subsequent rows for that game"
   ]
  },
  {
   "cell_type": "code",
   "execution_count": 440,
   "id": "152237f7",
   "metadata": {},
   "outputs": [],
   "source": [
    "df['home_goal_scored'] = ''\n",
    "df['away_goal_scored'] = ''"
   ]
  },
  {
   "cell_type": "code",
   "execution_count": 441,
   "id": "3b1b2bd8",
   "metadata": {},
   "outputs": [],
   "source": [
    "df['home_goal_scored'] = np.where((df['result'] == 'Goal') & (df['h_a'] == 'h') | (df['result'] == 'OwnGoal') & (df['h_a'] == 'a'), 1, 0)\n",
    "df['away_goal_scored'] = np.where((df['result'] == 'Goal') & (df['h_a'] == 'a') | (df['result'] == 'OwnGoal') & (df['h_a'] == 'h'), 1, 0)"
   ]
  },
  {
   "cell_type": "code",
   "execution_count": 442,
   "id": "4c40e1f4",
   "metadata": {},
   "outputs": [],
   "source": [
    "away_count = 0"
   ]
  },
  {
   "cell_type": "code",
   "execution_count": 443,
   "id": "37774ad9",
   "metadata": {},
   "outputs": [],
   "source": [
    "# df['home_score'] = np.where((df['result'] == 'Goal') & (df['h_a'] == 'h') | (df['result'] == 'OwnGoal') & (df['h_a'] == 'a'), 1, 0)\n",
    "# df['away_score'] = np.where((df['result'] == 'Goal') & (df['h_a'] == 'a') | (df['result'] == 'OwnGoal') & (df['h_a'] == 'h'), 1, 0)\n",
    "# #Increment the score for each goal or own goal"
   ]
  },
  {
   "cell_type": "code",
   "execution_count": 444,
   "id": "120e0e35",
   "metadata": {},
   "outputs": [],
   "source": [
    "unique_match_id = df['match_id'].unique()"
   ]
  },
  {
   "cell_type": "code",
   "execution_count": 445,
   "id": "6efe68e7",
   "metadata": {},
   "outputs": [],
   "source": [
    "df['away_score'] = (df['away_goal_scored'] == 1).cumsum()\n",
    "df['home_score'] = (df['home_goal_scored'] == 1).cumsum()\n",
    "#This sums for every time a goal is scored in the entire df -- need to do it for each individual match_id"
   ]
  },
  {
   "cell_type": "code",
   "execution_count": 446,
   "id": "da3ea38c",
   "metadata": {},
   "outputs": [],
   "source": [
    "#NOW NEED TO ITERATE THROUGH EACH MATCH ID AND SUM THEM THAT WAY"
   ]
  },
  {
   "cell_type": "code",
   "execution_count": 447,
   "id": "c13834be",
   "metadata": {},
   "outputs": [],
   "source": [
    "df['home_current_score'] = ''\n",
    "df['away_current_score'] = ''"
   ]
  },
  {
   "cell_type": "code",
   "execution_count": 448,
   "id": "7077141f",
   "metadata": {},
   "outputs": [],
   "source": [
    "for i in range(len(df)):\n",
    "    new_home = np.where((df['result'] == 'Goal') & (df['h_a'] == 'h') | (df['result'] == 'OwnGoal') & (df['h_a'] == 'a'), 1, 0)\n",
    "    new_away = np.where((df['result'] == 'Goal') & (df['h_a'] == 'a') | (df['result'] == 'OwnGoal') & (df['h_a'] == 'h'), 1, 0)"
   ]
  },
  {
   "cell_type": "code",
   "execution_count": 449,
   "id": "5fbf4eb4",
   "metadata": {},
   "outputs": [
    {
     "name": "stderr",
     "output_type": "stream",
     "text": [
      "C:\\Users\\User\\AppData\\Local\\Temp/ipykernel_11904/917744379.py:2: SettingWithCopyWarning: \n",
      "A value is trying to be set on a copy of a slice from a DataFrame\n",
      "\n",
      "See the caveats in the documentation: https://pandas.pydata.org/pandas-docs/stable/user_guide/indexing.html#returning-a-view-versus-a-copy\n",
      "  df['home_current_score'][i+1] = new_home[i]\n",
      "C:\\Users\\User\\AppData\\Local\\Temp/ipykernel_11904/917744379.py:3: SettingWithCopyWarning: \n",
      "A value is trying to be set on a copy of a slice from a DataFrame\n",
      "\n",
      "See the caveats in the documentation: https://pandas.pydata.org/pandas-docs/stable/user_guide/indexing.html#returning-a-view-versus-a-copy\n",
      "  df['away_current_score'][i+1] = new_away[i]\n"
     ]
    }
   ],
   "source": [
    "for i in range(len(df)):\n",
    "    df['home_current_score'][i+1] = new_home[i]\n",
    "    df['away_current_score'][i+1] = new_away[i]\n",
    "    \n",
    "#Setting the value one after the goal scored as equal to one, because technically at the time of the goalscoring shot, the \n",
    "#score would not have changed yet -- so we want to change the one after"
   ]
  },
  {
   "cell_type": "code",
   "execution_count": 450,
   "id": "28fea66e",
   "metadata": {
    "scrolled": true
   },
   "outputs": [
    {
     "data": {
      "text/html": [
       "<div>\n",
       "<style scoped>\n",
       "    .dataframe tbody tr th:only-of-type {\n",
       "        vertical-align: middle;\n",
       "    }\n",
       "\n",
       "    .dataframe tbody tr th {\n",
       "        vertical-align: top;\n",
       "    }\n",
       "\n",
       "    .dataframe thead th {\n",
       "        text-align: right;\n",
       "    }\n",
       "</style>\n",
       "<table border=\"1\" class=\"dataframe\">\n",
       "  <thead>\n",
       "    <tr style=\"text-align: right;\">\n",
       "      <th></th>\n",
       "      <th>index</th>\n",
       "      <th>match_id</th>\n",
       "      <th>x</th>\n",
       "      <th>y</th>\n",
       "      <th>xG</th>\n",
       "      <th>minute</th>\n",
       "      <th>result</th>\n",
       "      <th>team</th>\n",
       "      <th>opposing_team</th>\n",
       "      <th>h_a</th>\n",
       "      <th>player</th>\n",
       "      <th>home_score</th>\n",
       "      <th>away_score</th>\n",
       "      <th>home_goal_scored</th>\n",
       "      <th>away_goal_scored</th>\n",
       "      <th>home_current_score</th>\n",
       "      <th>away_current_score</th>\n",
       "    </tr>\n",
       "  </thead>\n",
       "  <tbody>\n",
       "    <tr>\n",
       "      <th>0</th>\n",
       "      <td>11</td>\n",
       "      <td>18202</td>\n",
       "      <td>0.8830000305175781</td>\n",
       "      <td>0.5070000076293946</td>\n",
       "      <td>0.18183407187461853</td>\n",
       "      <td>3</td>\n",
       "      <td>BlockedShot</td>\n",
       "      <td>Arsenal</td>\n",
       "      <td>Crystal Palace</td>\n",
       "      <td>a</td>\n",
       "      <td>Gabriel Jesus</td>\n",
       "      <td>0</td>\n",
       "      <td>0</td>\n",
       "      <td>0</td>\n",
       "      <td>0</td>\n",
       "      <td></td>\n",
       "      <td></td>\n",
       "    </tr>\n",
       "    <tr>\n",
       "      <th>1</th>\n",
       "      <td>12</td>\n",
       "      <td>18202</td>\n",
       "      <td>0.935</td>\n",
       "      <td>0.6120000076293945</td>\n",
       "      <td>0.3404459059238434</td>\n",
       "      <td>3</td>\n",
       "      <td>MissedShots</td>\n",
       "      <td>Arsenal</td>\n",
       "      <td>Crystal Palace</td>\n",
       "      <td>a</td>\n",
       "      <td>Gabriel Martinelli</td>\n",
       "      <td>0</td>\n",
       "      <td>0</td>\n",
       "      <td>0</td>\n",
       "      <td>0</td>\n",
       "      <td>0</td>\n",
       "      <td>0</td>\n",
       "    </tr>\n",
       "    <tr>\n",
       "      <th>2</th>\n",
       "      <td>13</td>\n",
       "      <td>18202</td>\n",
       "      <td>0.875</td>\n",
       "      <td>0.710999984741211</td>\n",
       "      <td>0.04480058327317238</td>\n",
       "      <td>7</td>\n",
       "      <td>SavedShot</td>\n",
       "      <td>Arsenal</td>\n",
       "      <td>Crystal Palace</td>\n",
       "      <td>a</td>\n",
       "      <td>Oleksandr Zinchenko</td>\n",
       "      <td>0</td>\n",
       "      <td>0</td>\n",
       "      <td>0</td>\n",
       "      <td>0</td>\n",
       "      <td>0</td>\n",
       "      <td>0</td>\n",
       "    </tr>\n",
       "    <tr>\n",
       "      <th>3</th>\n",
       "      <td>14</td>\n",
       "      <td>18202</td>\n",
       "      <td>0.8169999694824219</td>\n",
       "      <td>0.5640000152587891</td>\n",
       "      <td>0.04902607202529907</td>\n",
       "      <td>8</td>\n",
       "      <td>BlockedShot</td>\n",
       "      <td>Arsenal</td>\n",
       "      <td>Crystal Palace</td>\n",
       "      <td>a</td>\n",
       "      <td>Thomas Partey</td>\n",
       "      <td>0</td>\n",
       "      <td>0</td>\n",
       "      <td>0</td>\n",
       "      <td>0</td>\n",
       "      <td>0</td>\n",
       "      <td>0</td>\n",
       "    </tr>\n",
       "    <tr>\n",
       "      <th>4</th>\n",
       "      <td>15</td>\n",
       "      <td>18202</td>\n",
       "      <td>0.975</td>\n",
       "      <td>0.46900001525878904</td>\n",
       "      <td>0.5384948253631592</td>\n",
       "      <td>19</td>\n",
       "      <td>Goal</td>\n",
       "      <td>Arsenal</td>\n",
       "      <td>Crystal Palace</td>\n",
       "      <td>a</td>\n",
       "      <td>Gabriel Martinelli</td>\n",
       "      <td>0</td>\n",
       "      <td>1</td>\n",
       "      <td>0</td>\n",
       "      <td>1</td>\n",
       "      <td>0</td>\n",
       "      <td>0</td>\n",
       "    </tr>\n",
       "    <tr>\n",
       "      <th>...</th>\n",
       "      <td>...</td>\n",
       "      <td>...</td>\n",
       "      <td>...</td>\n",
       "      <td>...</td>\n",
       "      <td>...</td>\n",
       "      <td>...</td>\n",
       "      <td>...</td>\n",
       "      <td>...</td>\n",
       "      <td>...</td>\n",
       "      <td>...</td>\n",
       "      <td>...</td>\n",
       "      <td>...</td>\n",
       "      <td>...</td>\n",
       "      <td>...</td>\n",
       "      <td>...</td>\n",
       "      <td>...</td>\n",
       "      <td>...</td>\n",
       "    </tr>\n",
       "    <tr>\n",
       "      <th>1530</th>\n",
       "      <td>1531</td>\n",
       "      <td>18261</td>\n",
       "      <td>0.7390000152587891</td>\n",
       "      <td>0.41200000762939454</td>\n",
       "      <td>0.05270746350288391</td>\n",
       "      <td>82</td>\n",
       "      <td>BlockedShot</td>\n",
       "      <td>Arsenal</td>\n",
       "      <td>Manchester United</td>\n",
       "      <td>a</td>\n",
       "      <td>Granit Xhaka</td>\n",
       "      <td>110</td>\n",
       "      <td>65</td>\n",
       "      <td>0</td>\n",
       "      <td>0</td>\n",
       "      <td>1</td>\n",
       "      <td>0</td>\n",
       "    </tr>\n",
       "    <tr>\n",
       "      <th>1531</th>\n",
       "      <td>1532</td>\n",
       "      <td>18261</td>\n",
       "      <td>0.825999984741211</td>\n",
       "      <td>0.539000015258789</td>\n",
       "      <td>0.0732697993516922</td>\n",
       "      <td>85</td>\n",
       "      <td>MissedShots</td>\n",
       "      <td>Arsenal</td>\n",
       "      <td>Manchester United</td>\n",
       "      <td>a</td>\n",
       "      <td>Fábio Vieira</td>\n",
       "      <td>110</td>\n",
       "      <td>65</td>\n",
       "      <td>0</td>\n",
       "      <td>0</td>\n",
       "      <td>0</td>\n",
       "      <td>0</td>\n",
       "    </tr>\n",
       "    <tr>\n",
       "      <th>1532</th>\n",
       "      <td>1533</td>\n",
       "      <td>18261</td>\n",
       "      <td>0.8130000305175781</td>\n",
       "      <td>0.514000015258789</td>\n",
       "      <td>0.07163623720407486</td>\n",
       "      <td>91</td>\n",
       "      <td>MissedShots</td>\n",
       "      <td>Arsenal</td>\n",
       "      <td>Manchester United</td>\n",
       "      <td>a</td>\n",
       "      <td>Emile Smith-Rowe</td>\n",
       "      <td>110</td>\n",
       "      <td>65</td>\n",
       "      <td>0</td>\n",
       "      <td>0</td>\n",
       "      <td>0</td>\n",
       "      <td>0</td>\n",
       "    </tr>\n",
       "    <tr>\n",
       "      <th>1533</th>\n",
       "      <td>1518</td>\n",
       "      <td>18261</td>\n",
       "      <td>0.925</td>\n",
       "      <td>0.48700000762939455</td>\n",
       "      <td>0.05266885459423065</td>\n",
       "      <td>93</td>\n",
       "      <td>BlockedShot</td>\n",
       "      <td>Manchester United</td>\n",
       "      <td>Arsenal</td>\n",
       "      <td>h</td>\n",
       "      <td>Cristiano Ronaldo</td>\n",
       "      <td>110</td>\n",
       "      <td>65</td>\n",
       "      <td>0</td>\n",
       "      <td>0</td>\n",
       "      <td>0</td>\n",
       "      <td>0</td>\n",
       "    </tr>\n",
       "    <tr>\n",
       "      <th>1534</th>\n",
       "      <td>1534</td>\n",
       "      <td>18261</td>\n",
       "      <td>0.735</td>\n",
       "      <td>0.63</td>\n",
       "      <td>0.012163028120994568</td>\n",
       "      <td>93</td>\n",
       "      <td>SavedShot</td>\n",
       "      <td>Arsenal</td>\n",
       "      <td>Manchester United</td>\n",
       "      <td>a</td>\n",
       "      <td>Fábio Vieira</td>\n",
       "      <td>110</td>\n",
       "      <td>65</td>\n",
       "      <td>0</td>\n",
       "      <td>0</td>\n",
       "      <td>0</td>\n",
       "      <td>0</td>\n",
       "    </tr>\n",
       "  </tbody>\n",
       "</table>\n",
       "<p>1535 rows × 17 columns</p>\n",
       "</div>"
      ],
      "text/plain": [
       "      index match_id                   x                    y  \\\n",
       "0        11    18202  0.8830000305175781   0.5070000076293946   \n",
       "1        12    18202               0.935   0.6120000076293945   \n",
       "2        13    18202               0.875    0.710999984741211   \n",
       "3        14    18202  0.8169999694824219   0.5640000152587891   \n",
       "4        15    18202               0.975  0.46900001525878904   \n",
       "...     ...      ...                 ...                  ...   \n",
       "1530   1531    18261  0.7390000152587891  0.41200000762939454   \n",
       "1531   1532    18261   0.825999984741211    0.539000015258789   \n",
       "1532   1533    18261  0.8130000305175781    0.514000015258789   \n",
       "1533   1518    18261               0.925  0.48700000762939455   \n",
       "1534   1534    18261               0.735                 0.63   \n",
       "\n",
       "                        xG  minute       result               team  \\\n",
       "0      0.18183407187461853       3  BlockedShot            Arsenal   \n",
       "1       0.3404459059238434       3  MissedShots            Arsenal   \n",
       "2      0.04480058327317238       7    SavedShot            Arsenal   \n",
       "3      0.04902607202529907       8  BlockedShot            Arsenal   \n",
       "4       0.5384948253631592      19         Goal            Arsenal   \n",
       "...                    ...     ...          ...                ...   \n",
       "1530   0.05270746350288391      82  BlockedShot            Arsenal   \n",
       "1531    0.0732697993516922      85  MissedShots            Arsenal   \n",
       "1532   0.07163623720407486      91  MissedShots            Arsenal   \n",
       "1533   0.05266885459423065      93  BlockedShot  Manchester United   \n",
       "1534  0.012163028120994568      93    SavedShot            Arsenal   \n",
       "\n",
       "          opposing_team h_a               player  home_score  away_score  \\\n",
       "0        Crystal Palace   a        Gabriel Jesus           0           0   \n",
       "1        Crystal Palace   a   Gabriel Martinelli           0           0   \n",
       "2        Crystal Palace   a  Oleksandr Zinchenko           0           0   \n",
       "3        Crystal Palace   a        Thomas Partey           0           0   \n",
       "4        Crystal Palace   a   Gabriel Martinelli           0           1   \n",
       "...                 ...  ..                  ...         ...         ...   \n",
       "1530  Manchester United   a         Granit Xhaka         110          65   \n",
       "1531  Manchester United   a         Fábio Vieira         110          65   \n",
       "1532  Manchester United   a     Emile Smith-Rowe         110          65   \n",
       "1533            Arsenal   h    Cristiano Ronaldo         110          65   \n",
       "1534  Manchester United   a         Fábio Vieira         110          65   \n",
       "\n",
       "      home_goal_scored  away_goal_scored home_current_score away_current_score  \n",
       "0                    0                 0                                        \n",
       "1                    0                 0                  0                  0  \n",
       "2                    0                 0                  0                  0  \n",
       "3                    0                 0                  0                  0  \n",
       "4                    0                 1                  0                  0  \n",
       "...                ...               ...                ...                ...  \n",
       "1530                 0                 0                  1                  0  \n",
       "1531                 0                 0                  0                  0  \n",
       "1532                 0                 0                  0                  0  \n",
       "1533                 0                 0                  0                  0  \n",
       "1534                 0                 0                  0                  0  \n",
       "\n",
       "[1535 rows x 17 columns]"
      ]
     },
     "execution_count": 450,
     "metadata": {},
     "output_type": "execute_result"
    }
   ],
   "source": [
    "df"
   ]
  },
  {
   "cell_type": "code",
   "execution_count": 451,
   "id": "8ed71810",
   "metadata": {},
   "outputs": [],
   "source": [
    "test_home_list = home_score_list"
   ]
  },
  {
   "cell_type": "code",
   "execution_count": 452,
   "id": "df608093",
   "metadata": {},
   "outputs": [],
   "source": [
    "test_home_list = np.where((df['result'] == 'Goal') & (df['h_a'] == 'h') | (df['result'] == 'OwnGoal') & (df['h_a'] == 'a'), 1, 0)"
   ]
  },
  {
   "cell_type": "code",
   "execution_count": 453,
   "id": "a0d09897",
   "metadata": {},
   "outputs": [],
   "source": [
    "df['xG'] = df['xG'].astype(float)"
   ]
  },
  {
   "cell_type": "code",
   "execution_count": 454,
   "id": "32e978bf",
   "metadata": {},
   "outputs": [],
   "source": [
    "xg_total = df.groupby('team')['xG'].sum()\n",
    "#Count total xG for every team"
   ]
  },
  {
   "cell_type": "code",
   "execution_count": 455,
   "id": "095944be",
   "metadata": {},
   "outputs": [],
   "source": [
    "#how to count xga?"
   ]
  },
  {
   "cell_type": "code",
   "execution_count": 456,
   "id": "79a32b1d",
   "metadata": {
    "scrolled": false
   },
   "outputs": [
    {
     "data": {
      "text/plain": [
       "team\n",
       "Arsenal                     8.893193\n",
       "Aston Villa                 4.264243\n",
       "Bournemouth                 1.108907\n",
       "Brentford                   6.407425\n",
       "Brighton                    6.806062\n",
       "Chelsea                     6.204253\n",
       "Crystal Palace              6.344293\n",
       "Everton                     5.077466\n",
       "Fulham                      6.345974\n",
       "Leeds                       6.717046\n",
       "Leicester                   3.352765\n",
       "Liverpool                  10.966730\n",
       "Manchester City            10.398971\n",
       "Manchester United           6.470684\n",
       "Newcastle United            6.224634\n",
       "Nottingham Forest           4.038296\n",
       "Southampton                 4.400333\n",
       "Tottenham                   7.135378\n",
       "West Ham                    3.445547\n",
       "Wolverhampton Wanderers     3.897856\n",
       "Name: xG, dtype: float64"
      ]
     },
     "execution_count": 456,
     "metadata": {},
     "output_type": "execute_result"
    }
   ],
   "source": [
    "xg_df"
   ]
  },
  {
   "cell_type": "code",
   "execution_count": 457,
   "id": "f1942724",
   "metadata": {},
   "outputs": [],
   "source": [
    "xg_total = pd.DataFrame(data=xg_total)"
   ]
  },
  {
   "cell_type": "code",
   "execution_count": 458,
   "id": "31d6a1c8",
   "metadata": {},
   "outputs": [],
   "source": [
    "xg_total['xGA'] = df.groupby('opposing_team')['xG'].sum()"
   ]
  },
  {
   "cell_type": "code",
   "execution_count": 460,
   "id": "07bf3ec7",
   "metadata": {},
   "outputs": [],
   "source": [
    "xg_total['xG_difference'] = xg_total['xG'] - xg_total['xGA']"
   ]
  },
  {
   "cell_type": "code",
   "execution_count": 462,
   "id": "3d4ebf25",
   "metadata": {},
   "outputs": [
    {
     "ename": "TypeError",
     "evalue": "sort_values() missing 1 required positional argument: 'by'",
     "output_type": "error",
     "traceback": [
      "\u001b[1;31m---------------------------------------------------------------------------\u001b[0m",
      "\u001b[1;31mTypeError\u001b[0m                                 Traceback (most recent call last)",
      "\u001b[1;32m~\\AppData\\Local\\Temp/ipykernel_11904/3744660911.py\u001b[0m in \u001b[0;36m<module>\u001b[1;34m\u001b[0m\n\u001b[1;32m----> 1\u001b[1;33m \u001b[0mxg_total\u001b[0m\u001b[1;33m.\u001b[0m\u001b[0msort_values\u001b[0m\u001b[1;33m(\u001b[0m\u001b[1;33m)\u001b[0m\u001b[1;33m\u001b[0m\u001b[1;33m\u001b[0m\u001b[0m\n\u001b[0m",
      "\u001b[1;32m~\\anaconda3\\lib\\site-packages\\pandas\\util\\_decorators.py\u001b[0m in \u001b[0;36mwrapper\u001b[1;34m(*args, **kwargs)\u001b[0m\n\u001b[0;32m    309\u001b[0m                     \u001b[0mstacklevel\u001b[0m\u001b[1;33m=\u001b[0m\u001b[0mstacklevel\u001b[0m\u001b[1;33m,\u001b[0m\u001b[1;33m\u001b[0m\u001b[1;33m\u001b[0m\u001b[0m\n\u001b[0;32m    310\u001b[0m                 )\n\u001b[1;32m--> 311\u001b[1;33m             \u001b[1;32mreturn\u001b[0m \u001b[0mfunc\u001b[0m\u001b[1;33m(\u001b[0m\u001b[1;33m*\u001b[0m\u001b[0margs\u001b[0m\u001b[1;33m,\u001b[0m \u001b[1;33m**\u001b[0m\u001b[0mkwargs\u001b[0m\u001b[1;33m)\u001b[0m\u001b[1;33m\u001b[0m\u001b[1;33m\u001b[0m\u001b[0m\n\u001b[0m\u001b[0;32m    312\u001b[0m \u001b[1;33m\u001b[0m\u001b[0m\n\u001b[0;32m    313\u001b[0m         \u001b[1;32mreturn\u001b[0m \u001b[0mwrapper\u001b[0m\u001b[1;33m\u001b[0m\u001b[1;33m\u001b[0m\u001b[0m\n",
      "\u001b[1;31mTypeError\u001b[0m: sort_values() missing 1 required positional argument: 'by'"
     ]
    }
   ],
   "source": [
    "xg_total.sort_values(by)"
   ]
  },
  {
   "cell_type": "code",
   "execution_count": null,
   "id": "c0f2c1e9",
   "metadata": {},
   "outputs": [],
   "source": []
  }
 ],
 "metadata": {
  "kernelspec": {
   "display_name": "Python 3 (ipykernel)",
   "language": "python",
   "name": "python3"
  },
  "language_info": {
   "codemirror_mode": {
    "name": "ipython",
    "version": 3
   },
   "file_extension": ".py",
   "mimetype": "text/x-python",
   "name": "python",
   "nbconvert_exporter": "python",
   "pygments_lexer": "ipython3",
   "version": "3.9.7"
  }
 },
 "nbformat": 4,
 "nbformat_minor": 5
}
