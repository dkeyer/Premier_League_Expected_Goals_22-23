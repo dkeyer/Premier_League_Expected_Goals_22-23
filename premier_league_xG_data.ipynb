{
 "cells": [
  {
   "cell_type": "code",
   "execution_count": 225,
   "id": "98b7ac45",
   "metadata": {},
   "outputs": [],
   "source": [
    "import pandas as pd\n",
    "import numpy as np\n",
    "import seaborn as sns\n",
    "import matplotlib.pyplot as plt\n",
    "import requests\n",
    "from bs4 import BeautifulSoup\n",
    "from __future__ import print_function\n",
    "import json\n",
    "\n",
    "from datetime import date\n",
    "import datetime\n",
    "#imports"
   ]
  },
  {
   "cell_type": "markdown",
   "id": "011bb6b2",
   "metadata": {},
   "source": [
    "There are 20 teams in the PL, each plays 38 matches for a total of 760. The first game in the 2022-2023 season is number 18202, and it counts up one by one from there, so the total range will be 18,202 to 18,961. Then we will take only the completed games from there."
   ]
  },
  {
   "cell_type": "code",
   "execution_count": 226,
   "id": "acffa7ac",
   "metadata": {},
   "outputs": [],
   "source": [
    "# d = range(18202,18962)\n",
    "match_range = range(18202,18242)"
   ]
  },
  {
   "cell_type": "code",
   "execution_count": 227,
   "id": "50ae3670",
   "metadata": {},
   "outputs": [
    {
     "data": {
      "text/plain": [
       "40"
      ]
     },
     "execution_count": 227,
     "metadata": {},
     "output_type": "execute_result"
    }
   ],
   "source": [
    "len(match_range)"
   ]
  },
  {
   "cell_type": "code",
   "execution_count": 228,
   "id": "c0ae3fae",
   "metadata": {},
   "outputs": [],
   "source": [
    "urls = []\n",
    "for i in match_range:\n",
    "    base_url = f'https://understat.com/match/{i}'\n",
    "    urls.append(base_url)"
   ]
  },
  {
   "cell_type": "code",
   "execution_count": 229,
   "id": "4cf2f34c",
   "metadata": {},
   "outputs": [],
   "source": [
    "resington = []\n",
    "all_res_data = []\n",
    "for i in urls:\n",
    "    res = requests.get(i)\n",
    "    soup = BeautifulSoup(res.content, 'lxml')\n",
    "    scripts = soup.find_all('script')\n",
    "#     for s in all_res_data:\n",
    "#         if \n",
    "    all_res_data.append(scripts)\n",
    "    resington.append(soup)\n",
    "    #Here we can append only the ones that have 'script'"
   ]
  },
  {
   "cell_type": "code",
   "execution_count": 230,
   "id": "5b15db71",
   "metadata": {},
   "outputs": [],
   "source": [
    "backup_all_res_data = all_res_data\n",
    "#Adding a backup unless we need it and so we don't need to scrape again"
   ]
  },
  {
   "cell_type": "code",
   "execution_count": 231,
   "id": "4154cbec",
   "metadata": {},
   "outputs": [],
   "source": [
    "# all_res_data = [str(i) for i in all_res_data]"
   ]
  },
  {
   "cell_type": "code",
   "execution_count": 232,
   "id": "d4db7cb6",
   "metadata": {},
   "outputs": [],
   "source": [
    "scripts = []\n",
    "for i in all_res_data:\n",
    "    if len(i) > 1:\n",
    "        scripts.append(i)\n",
    "    else:\n",
    "        pass\n",
    "#All of the incomplete games in all_res_data will have a length of zero, so this is how we will filter out the unplayed games\n",
    "#if necessary"
   ]
  },
  {
   "cell_type": "code",
   "execution_count": 233,
   "id": "45c68c47",
   "metadata": {},
   "outputs": [
    {
     "data": {
      "text/plain": [
       "23"
      ]
     },
     "execution_count": 233,
     "metadata": {},
     "output_type": "execute_result"
    }
   ],
   "source": [
    "len(scripts[1])"
   ]
  },
  {
   "cell_type": "code",
   "execution_count": 234,
   "id": "3d467ad2",
   "metadata": {},
   "outputs": [],
   "source": [
    "script_list = []\n",
    "for i in scripts:\n",
    "    script_list.append(i[1])\n",
    "#The [1] element is the one with all of the shot data"
   ]
  },
  {
   "cell_type": "code",
   "execution_count": 235,
   "id": "cc703ba9",
   "metadata": {},
   "outputs": [],
   "source": [
    "for i in range(0, len(script_list)):\n",
    "    script_list[i] = str(script_list[i])\n",
    "#turning all of our data into strings"
   ]
  },
  {
   "cell_type": "code",
   "execution_count": 236,
   "id": "6526d739",
   "metadata": {},
   "outputs": [],
   "source": [
    "# res = requests.get(urls)\n",
    "# soup = BeautifulSoup(res.content, 'lxml')\n",
    "# scripts = soup.find_all('script')"
   ]
  },
  {
   "cell_type": "code",
   "execution_count": 237,
   "id": "8522601d",
   "metadata": {},
   "outputs": [],
   "source": [
    "data_list = []\n",
    "\n",
    "# strip unnecessary symbols and get only JSON data \n",
    "for i in range(0, len(script_list)):\n",
    "    ind_start = script_list[i].index(\"('\")+2 \n",
    "    ind_end = script_list[i].index(\"')\") \n",
    "    json_data = script_list[i][ind_start:ind_end] \n",
    "    json_data = json_data.encode('utf8').decode('unicode_escape')\n",
    "\n",
    "#convert string to json format\n",
    "    data = json.loads(json_data)\n",
    "    data_list.append(data)"
   ]
  },
  {
   "cell_type": "code",
   "execution_count": 238,
   "id": "1b687b77",
   "metadata": {},
   "outputs": [],
   "source": [
    "all_data = []\n",
    "for i in range(0, len(data_list)):    \n",
    "    match_id = [] \n",
    "    x = []\n",
    "    y = []\n",
    "    home_score = []\n",
    "    away_score = []\n",
    "    player = []\n",
    "    xG = []\n",
    "    h_a = []\n",
    "    result = []\n",
    "    team = []\n",
    "    minute = []\n",
    "    data_away = data_list[i]['a']\n",
    "    data_home = data_list[i]['h']\n",
    "\n",
    "    for index in range(len(data_home)):\n",
    "        for key in data_home[index]:\n",
    "            if key == 'X':\n",
    "                x.append(data_home[index][key])\n",
    "            if key == 'Y':\n",
    "                y.append(data_home[index][key])\n",
    "            if key == 'h_team':\n",
    "                team.append(data_home[index][key])\n",
    "            if key == 'xG':\n",
    "                xG.append(data_home[index][key])\n",
    "            if key == 'result':\n",
    "                result.append(data_home[index][key])\n",
    "            if key == 'h_goals':\n",
    "                home_score.append(data_home[index][key])\n",
    "            if key == 'a_goals':\n",
    "                away_score.append(data_home[index][key])\n",
    "            if key == 'minute':\n",
    "                minute.append(data_home[index][key]) \n",
    "            if key == 'player':\n",
    "                player.append(data_home[index][key])\n",
    "            if key == 'match_id':\n",
    "                match_id.append(data_home[index][key])\n",
    "            if key == 'h_a':\n",
    "                h_a.append(data_home[index][key])\n",
    "        \n",
    "        all_data.append(match_id)\n",
    "        all_data.append(x)\n",
    "        all_data.append(y)\n",
    "        all_data.append(team)\n",
    "        all_data.append(xG)\n",
    "        all_data.append(result)\n",
    "        all_data.append(home_score)\n",
    "        all_data.append(away_score)\n",
    "        all_data.append(minute)\n",
    "        all_data.append(player)\n",
    "        all_data.append(h_a)\n",
    "        #NEED TO APPEND EVERYTHING TO ALL_DATA\n",
    "\n",
    "    for index in range(len(data_away)):\n",
    "        for key in data_away[index]:\n",
    "            if key == 'X':\n",
    "                x.append(data_away[index][key])\n",
    "            if key == 'Y':\n",
    "                y.append(data_away[index][key])\n",
    "            if key == 'a_team':\n",
    "                team.append(data_away[index][key])\n",
    "            if key == 'xG':\n",
    "                xG.append(data_away[index][key])\n",
    "            if key == 'result':\n",
    "                result.append(data_away[index][key])\n",
    "            if key == 'h_goals':\n",
    "                home_score.append(data_away[index][key])\n",
    "            if key == 'a_goals':\n",
    "                away_score.append(data_away[index][key])\n",
    "            if key == 'minute':\n",
    "                minute.append(data_away[index][key])\n",
    "            if key == 'player':\n",
    "                player.append(data_away[index][key])\n",
    "            if key == 'match_id':\n",
    "                match_id.append(data_away[index][key])\n",
    "            if key == 'h_a':\n",
    "                h_a.append(data_away[index][key]) \n",
    "                \n",
    "        all_data.append(match_id)\n",
    "        all_data.append(x)\n",
    "        all_data.append(y)\n",
    "        all_data.append(team)\n",
    "        all_data.append(xG)\n",
    "        all_data.append(result)\n",
    "        all_data.append(home_score)\n",
    "        all_data.append(away_score)\n",
    "        all_data.append(minute)\n",
    "        all_data.append(player)\n",
    "        all_data.append(h_a)"
   ]
  },
  {
   "cell_type": "markdown",
   "id": "927149a0",
   "metadata": {},
   "source": [
    "NEED TO APPEND it with h_a or whatever so that I can access it"
   ]
  },
  {
   "cell_type": "code",
   "execution_count": 239,
   "id": "2ad601d7",
   "metadata": {},
   "outputs": [
    {
     "data": {
      "text/plain": [
       "['18202',\n",
       " '18202',\n",
       " '18202',\n",
       " '18202',\n",
       " '18202',\n",
       " '18202',\n",
       " '18202',\n",
       " '18202',\n",
       " '18202',\n",
       " '18202',\n",
       " '18202',\n",
       " '18202',\n",
       " '18202',\n",
       " '18202',\n",
       " '18202',\n",
       " '18202',\n",
       " '18202',\n",
       " '18202',\n",
       " '18202',\n",
       " '18202',\n",
       " '18202']"
      ]
     },
     "execution_count": 239,
     "metadata": {},
     "output_type": "execute_result"
    }
   ],
   "source": [
    "all_data[0]"
   ]
  },
  {
   "cell_type": "code",
   "execution_count": 240,
   "id": "c297ab9c",
   "metadata": {},
   "outputs": [],
   "source": [
    "col_names = ['match_id','x','y','xG','minute','result','team','h_a','player','home_score','away_score']\n",
    "# df = pd.DataFrame([match_id,x,y,xG,minute,result,team,h_a,player,home_score,away_score],index=col_names)\n",
    "df = pd.DataFrame([all_data[0],all_data[1],all_data[2],all_data[3],all_data[4],all_data[5],all_data[6],all_data[7],all_data[8],all_data[9],all_data[10]],index=col_names)\n",
    "df = df.T\n",
    "# df = df.astype({'minute':'int'})\n",
    "df = df.sort_values(by=['match_id','minute'])"
   ]
  },
  {
   "cell_type": "code",
   "execution_count": 241,
   "id": "6bf748ee",
   "metadata": {},
   "outputs": [
    {
     "data": {
      "text/plain": [
       "21"
      ]
     },
     "execution_count": 241,
     "metadata": {},
     "output_type": "execute_result"
    }
   ],
   "source": [
    "len(df)"
   ]
  },
  {
   "cell_type": "code",
   "execution_count": 242,
   "id": "cbed8c97",
   "metadata": {},
   "outputs": [],
   "source": [
    "df['away_score'] = 0\n",
    "df['home_score'] = 0"
   ]
  },
  {
   "cell_type": "code",
   "execution_count": 243,
   "id": "94774fb6",
   "metadata": {},
   "outputs": [
    {
     "data": {
      "text/plain": [
       "21"
      ]
     },
     "execution_count": 243,
     "metadata": {},
     "output_type": "execute_result"
    }
   ],
   "source": [
    "len(df)"
   ]
  },
  {
   "cell_type": "code",
   "execution_count": 244,
   "id": "64cac4ae",
   "metadata": {},
   "outputs": [],
   "source": [
    "df.loc[df['result'] == 'Goal', 'away_score'] = 10"
   ]
  },
  {
   "cell_type": "code",
   "execution_count": null,
   "id": "efaa7acc",
   "metadata": {},
   "outputs": [],
   "source": []
  },
  {
   "cell_type": "code",
   "execution_count": null,
   "id": "5ee7cd88",
   "metadata": {},
   "outputs": [],
   "source": []
  }
 ],
 "metadata": {
  "kernelspec": {
   "display_name": "Python 3 (ipykernel)",
   "language": "python",
   "name": "python3"
  },
  "language_info": {
   "codemirror_mode": {
    "name": "ipython",
    "version": 3
   },
   "file_extension": ".py",
   "mimetype": "text/x-python",
   "name": "python",
   "nbconvert_exporter": "python",
   "pygments_lexer": "ipython3",
   "version": "3.9.7"
  }
 },
 "nbformat": 4,
 "nbformat_minor": 5
}
