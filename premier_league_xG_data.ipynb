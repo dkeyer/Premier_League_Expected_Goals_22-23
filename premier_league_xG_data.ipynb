{
 "cells": [
  {
   "cell_type": "code",
   "execution_count": 426,
   "id": "98b7ac45",
   "metadata": {},
   "outputs": [],
   "source": [
    "import pandas as pd\n",
    "import numpy as np\n",
    "import seaborn as sns\n",
    "import matplotlib.pyplot as plt\n",
    "import requests\n",
    "from bs4 import BeautifulSoup\n",
    "from __future__ import print_function\n",
    "import json\n",
    "\n",
    "from datetime import date\n",
    "import datetime\n",
    "#imports"
   ]
  },
  {
   "cell_type": "markdown",
   "id": "011bb6b2",
   "metadata": {},
   "source": [
    "There are 20 teams in the PL, each plays 38 matches for a total of 760. The first game in the 2022-2023 season is number 18202, and it counts up one by one from there, so the total range will be 18,202 to 18,961. Then we will take only the completed games from there."
   ]
  },
  {
   "cell_type": "code",
   "execution_count": 427,
   "id": "acffa7ac",
   "metadata": {},
   "outputs": [],
   "source": [
    "# d = range(18202,18962)\n",
    "match_range = range(18202,18300)"
   ]
  },
  {
   "cell_type": "code",
   "execution_count": 428,
   "id": "c0ae3fae",
   "metadata": {},
   "outputs": [],
   "source": [
    "urls = []\n",
    "for i in match_range:\n",
    "    base_url = f'https://understat.com/match/{i}'\n",
    "    urls.append(base_url)"
   ]
  },
  {
   "cell_type": "code",
   "execution_count": 429,
   "id": "4cf2f34c",
   "metadata": {},
   "outputs": [],
   "source": [
    "all_res_data = []\n",
    "for i in urls:\n",
    "    res = requests.get(i)\n",
    "    soup = BeautifulSoup(res.content, 'lxml')\n",
    "    scripts = soup.find_all('script')\n",
    "\n",
    "    all_res_data.append(scripts)\n",
    "    #Here we can append only the ones that have 'script'"
   ]
  },
  {
   "cell_type": "code",
   "execution_count": 600,
   "id": "8526b65b",
   "metadata": {},
   "outputs": [],
   "source": [
    "backup_all_res_data = all_res_data\n",
    "#Adding a backup unless we need it and so we don't need to scrape again"
   ]
  },
  {
   "cell_type": "code",
   "execution_count": 601,
   "id": "45e66012",
   "metadata": {},
   "outputs": [],
   "source": [
    "all_res_data = backup_all_res_data"
   ]
  },
  {
   "cell_type": "code",
   "execution_count": 602,
   "id": "d4db7cb6",
   "metadata": {},
   "outputs": [],
   "source": [
    "scripts = []\n",
    "for i in all_res_data:\n",
    "    if len(i) > 1:\n",
    "        scripts.append(i)\n",
    "    else:\n",
    "        pass\n",
    "#All of the incomplete games in all_res_data will have a length of zero, so this is how we will filter out the unplayed games\n",
    "#if necessary"
   ]
  },
  {
   "cell_type": "code",
   "execution_count": 603,
   "id": "3d467ad2",
   "metadata": {},
   "outputs": [],
   "source": [
    "script_list = []\n",
    "for i in scripts:\n",
    "    script_list.append(i[1])\n",
    "#The [1] element is the one with all of the shot data"
   ]
  },
  {
   "cell_type": "code",
   "execution_count": 604,
   "id": "cc703ba9",
   "metadata": {},
   "outputs": [],
   "source": [
    "for i in range(0, len(script_list)):\n",
    "    script_list[i] = str(script_list[i])\n",
    "#turning all of our data into strings"
   ]
  },
  {
   "cell_type": "code",
   "execution_count": 605,
   "id": "8522601d",
   "metadata": {},
   "outputs": [],
   "source": [
    "data_list = []\n",
    "\n",
    "# strip unnecessary symbols and get only JSON data \n",
    "for i in range(0, len(script_list)):\n",
    "    ind_start = script_list[i].index(\"('\")+2 \n",
    "    ind_end = script_list[i].index(\"')\") \n",
    "    json_data = script_list[i][ind_start:ind_end] \n",
    "    json_data = json_data.encode('utf8').decode('unicode_escape')\n",
    "\n",
    "#convert string to json format\n",
    "    data = json.loads(json_data)\n",
    "    data_list.append(data)"
   ]
  },
  {
   "cell_type": "code",
   "execution_count": 606,
   "id": "1b687b77",
   "metadata": {},
   "outputs": [],
   "source": [
    "all_data = []\n",
    "match_id_list = []\n",
    "x_list = []\n",
    "y_list = []\n",
    "home_score_list = []\n",
    "away_score_list = []\n",
    "player_list = []\n",
    "xG_list = []\n",
    "h_a_list = []\n",
    "result_list = []\n",
    "team_list = []\n",
    "opposing_team_list = []\n",
    "minute_list = []\n",
    "length = len(data_list)\n",
    "for i in range(length):\n",
    "    match_id = [] \n",
    "    x = []\n",
    "    y = []\n",
    "    home_score = []\n",
    "    away_score = []\n",
    "    player = []\n",
    "    xG = []\n",
    "    h_a = []\n",
    "    result = []\n",
    "    team = []\n",
    "    opposing_team = []\n",
    "    minute = []\n",
    "    data_away = data_list[i]['a']\n",
    "    data_home = data_list[i]['h']\n",
    "\n",
    "    for index in range(len(data_home)):\n",
    "        for key in data_home[index]:\n",
    "            if key == 'X':\n",
    "                x.append(data_home[index][key])\n",
    "            if key == 'Y':\n",
    "                y.append(data_home[index][key])\n",
    "            if key == 'h_team':\n",
    "                team.append(data_home[index][key])\n",
    "            if key == 'a_team':\n",
    "                opposing_team.append(data_home[index][key])\n",
    "            if key == 'xG':\n",
    "                xG.append(data_home[index][key])\n",
    "            if key == 'result':\n",
    "                result.append(data_home[index][key])\n",
    "            if key == 'h_goals':\n",
    "                home_score.append(data_home[index][key])\n",
    "            if key == 'a_goals':\n",
    "                away_score.append(data_home[index][key])\n",
    "            if key == 'minute':\n",
    "                minute.append(data_home[index][key]) \n",
    "            if key == 'player':\n",
    "                player.append(data_home[index][key])\n",
    "            if key == 'match_id':\n",
    "                match_id.append(data_home[index][key])\n",
    "            if key == 'h_a':\n",
    "                h_a.append(data_home[index][key])\n",
    "        \n",
    "        #NEED TO APPEND EVERYTHING TO ALL_DATA\n",
    "\n",
    "    for index in range(len(data_away)):\n",
    "        for key in data_away[index]:\n",
    "            if key == 'X':\n",
    "                x.append(data_away[index][key])\n",
    "            if key == 'Y':\n",
    "                y.append(data_away[index][key])\n",
    "            if key == 'a_team':\n",
    "                team.append(data_away[index][key])\n",
    "            if key == 'h_team':\n",
    "                opposing_team.append(data_away[index][key])\n",
    "            if key == 'xG':\n",
    "                xG.append(data_away[index][key])\n",
    "            if key == 'result':\n",
    "                result.append(data_away[index][key])\n",
    "            if key == 'h_goals':\n",
    "                home_score.append(data_away[index][key])\n",
    "            if key == 'a_goals':\n",
    "                away_score.append(data_away[index][key])\n",
    "            if key == 'minute':\n",
    "                minute.append(data_away[index][key])\n",
    "            if key == 'player':\n",
    "                player.append(data_away[index][key])\n",
    "            if key == 'match_id':\n",
    "                match_id.append(data_away[index][key])\n",
    "            if key == 'h_a':\n",
    "                h_a.append(data_away[index][key]) \n",
    "                \n",
    "    match_id_list.append(match_id)\n",
    "    x_list.append(x)\n",
    "    y_list.append(y)\n",
    "    team_list.append(team)\n",
    "    opposing_team_list.append(opposing_team)\n",
    "    xG_list.append(xG)\n",
    "    result_list.append(result)\n",
    "    home_score_list.append(home_score)\n",
    "    away_score_list.append(away_score)\n",
    "    minute_list.append(minute)\n",
    "    player_list.append(player)\n",
    "    h_a_list.append(h_a)"
   ]
  },
  {
   "cell_type": "code",
   "execution_count": 607,
   "id": "2370573a",
   "metadata": {},
   "outputs": [],
   "source": [
    "match_id_list = [val for sublist in match_id_list for val in sublist]\n",
    "x_list = [val for sublist in x_list for val in sublist]\n",
    "y_list = [val for sublist in y_list for val in sublist]\n",
    "team_list = [val for sublist in team_list for val in sublist]\n",
    "opposing_team_list = [val for sublist in opposing_team_list for val in sublist]\n",
    "xG_list = [val for sublist in xG_list for val in sublist]\n",
    "result_list = [val for sublist in result_list for val in sublist]\n",
    "home_score_list = [val for sublist in home_score_list for val in sublist]\n",
    "away_score_list = [val for sublist in away_score_list for val in sublist]\n",
    "minute_list = [val for sublist in minute_list for val in sublist]\n",
    "player_list = [val for sublist in player_list for val in sublist]\n",
    "h_a_list = [val for sublist in h_a_list for val in sublist]\n",
    "\n",
    "#Flattening nested lists"
   ]
  },
  {
   "cell_type": "code",
   "execution_count": 608,
   "id": "c297ab9c",
   "metadata": {},
   "outputs": [],
   "source": [
    "col_names = ['match_id','x','y','xG','minute','result','team','opposing_team','h_a','player','home_score','away_score']\n",
    "df = pd.DataFrame([match_id_list,x_list,y_list,xG_list,minute_list,result_list,team_list,opposing_team_list,h_a_list,player_list,home_score_list,away_score_list],index=col_names)\n",
    "# df = pd.DataFrame([all_data[0],all_data[1],all_data[2],all_data[3],all_data[4],all_data[5],all_data[6],all_data[7],all_data[8],all_data[9],all_data[10]],index=col_names)\n",
    "df = df.T\n",
    "df = df.astype({'minute':'int'})\n",
    "df = df.sort_values(by=['match_id','minute'])\n",
    "df = df.reset_index()"
   ]
  },
  {
   "cell_type": "code",
   "execution_count": 609,
   "id": "cbed8c97",
   "metadata": {},
   "outputs": [],
   "source": [
    "df['away_score'] = 0\n",
    "df['home_score'] = 0"
   ]
  },
  {
   "cell_type": "markdown",
   "id": "c4e0d820",
   "metadata": {},
   "source": [
    "Up next, need to figure out how to add score once we see goal, and keep it there for all of the subsequent rows for that game"
   ]
  },
  {
   "cell_type": "code",
   "execution_count": 610,
   "id": "152237f7",
   "metadata": {},
   "outputs": [],
   "source": [
    "df['home_goal_scored'] = ''\n",
    "df['away_goal_scored'] = ''"
   ]
  },
  {
   "cell_type": "code",
   "execution_count": 611,
   "id": "3b1b2bd8",
   "metadata": {},
   "outputs": [],
   "source": [
    "df['home_goal_scored'] = np.where((df['result'] == 'Goal') & (df['h_a'] == 'h') | (df['result'] == 'OwnGoal') & (df['h_a'] == 'a'), 1, 0)\n",
    "df['away_goal_scored'] = np.where((df['result'] == 'Goal') & (df['h_a'] == 'a') | (df['result'] == 'OwnGoal') & (df['h_a'] == 'h'), 1, 0)"
   ]
  },
  {
   "cell_type": "code",
   "execution_count": 612,
   "id": "4c40e1f4",
   "metadata": {},
   "outputs": [],
   "source": [
    "away_count = 0"
   ]
  },
  {
   "cell_type": "code",
   "execution_count": 613,
   "id": "37774ad9",
   "metadata": {},
   "outputs": [],
   "source": [
    "# df['home_score'] = np.where((df['result'] == 'Goal') & (df['h_a'] == 'h') | (df['result'] == 'OwnGoal') & (df['h_a'] == 'a'), 1, 0)\n",
    "# df['away_score'] = np.where((df['result'] == 'Goal') & (df['h_a'] == 'a') | (df['result'] == 'OwnGoal') & (df['h_a'] == 'h'), 1, 0)\n",
    "# #Increment the score for each goal or own goal"
   ]
  },
  {
   "cell_type": "code",
   "execution_count": 614,
   "id": "120e0e35",
   "metadata": {},
   "outputs": [],
   "source": [
    "unique_match_id = df['match_id'].unique()"
   ]
  },
  {
   "cell_type": "code",
   "execution_count": 615,
   "id": "6efe68e7",
   "metadata": {},
   "outputs": [],
   "source": [
    "df['away_score'] = (df['away_goal_scored'] == 1).cumsum()\n",
    "df['home_score'] = (df['home_goal_scored'] == 1).cumsum()\n",
    "#This sums for every time a goal is scored in the entire df -- need to do it for each individual match_id"
   ]
  },
  {
   "cell_type": "code",
   "execution_count": 616,
   "id": "c13834be",
   "metadata": {},
   "outputs": [],
   "source": [
    "df['home_current_score'] = ''\n",
    "df['away_current_score'] = ''"
   ]
  },
  {
   "cell_type": "code",
   "execution_count": 617,
   "id": "7077141f",
   "metadata": {},
   "outputs": [],
   "source": [
    "for i in range(len(df)):\n",
    "    new_home = np.where((df['result'] == 'Goal') & (df['h_a'] == 'h') | (df['result'] == 'OwnGoal') & (df['h_a'] == 'a'), 1, 0)\n",
    "    new_away = np.where((df['result'] == 'Goal') & (df['h_a'] == 'a') | (df['result'] == 'OwnGoal') & (df['h_a'] == 'h'), 1, 0)"
   ]
  },
  {
   "cell_type": "code",
   "execution_count": 618,
   "id": "5fbf4eb4",
   "metadata": {},
   "outputs": [
    {
     "name": "stderr",
     "output_type": "stream",
     "text": [
      "C:\\Users\\User\\AppData\\Local\\Temp/ipykernel_11904/917744379.py:2: SettingWithCopyWarning: \n",
      "A value is trying to be set on a copy of a slice from a DataFrame\n",
      "\n",
      "See the caveats in the documentation: https://pandas.pydata.org/pandas-docs/stable/user_guide/indexing.html#returning-a-view-versus-a-copy\n",
      "  df['home_current_score'][i+1] = new_home[i]\n",
      "C:\\Users\\User\\AppData\\Local\\Temp/ipykernel_11904/917744379.py:3: SettingWithCopyWarning: \n",
      "A value is trying to be set on a copy of a slice from a DataFrame\n",
      "\n",
      "See the caveats in the documentation: https://pandas.pydata.org/pandas-docs/stable/user_guide/indexing.html#returning-a-view-versus-a-copy\n",
      "  df['away_current_score'][i+1] = new_away[i]\n"
     ]
    }
   ],
   "source": [
    "for i in range(len(df)):\n",
    "    df['home_current_score'][i+1] = new_home[i]\n",
    "    df['away_current_score'][i+1] = new_away[i]\n",
    "    \n",
    "#Setting the value one after the goal scored as equal to one, because technically at the time of the goalscoring shot, the \n",
    "#score would not have changed yet -- so we want to change the one after"
   ]
  },
  {
   "cell_type": "code",
   "execution_count": 619,
   "id": "df608093",
   "metadata": {},
   "outputs": [],
   "source": [
    "test_home_list = np.where((df['result'] == 'Goal') & (df['h_a'] == 'h') | (df['result'] == 'OwnGoal') & (df['h_a'] == 'a'), 1, 0)"
   ]
  },
  {
   "cell_type": "code",
   "execution_count": 642,
   "id": "7c7a35ec",
   "metadata": {},
   "outputs": [],
   "source": [
    "df['xG'] = df['xG'].astype(float)\n",
    "df['match_id'] = df['match_id'].astype(int)"
   ]
  },
  {
   "cell_type": "code",
   "execution_count": 643,
   "id": "32e978bf",
   "metadata": {},
   "outputs": [],
   "source": [
    "xg_total = df.groupby('team')['xG'].sum()\n",
    "#Count total xG for every team"
   ]
  },
  {
   "cell_type": "code",
   "execution_count": 644,
   "id": "f1942724",
   "metadata": {},
   "outputs": [],
   "source": [
    "xg_total = pd.DataFrame(data=xg_total)\n",
    "# xg_total = xg_total.reset_index(level=0)"
   ]
  },
  {
   "cell_type": "code",
   "execution_count": 645,
   "id": "31d6a1c8",
   "metadata": {},
   "outputs": [],
   "source": [
    "xg_total['xGA'] = df.groupby('opposing_team')['xG'].sum()"
   ]
  },
  {
   "cell_type": "code",
   "execution_count": 646,
   "id": "b29a65f4",
   "metadata": {},
   "outputs": [],
   "source": [
    "xg_total['xG_difference'] = xg_total['xG'] - xg_total['xGA']"
   ]
  },
  {
   "cell_type": "code",
   "execution_count": 648,
   "id": "8db8bd7a",
   "metadata": {
    "scrolled": true
   },
   "outputs": [],
   "source": [
    "xg_total['matches_played'] = df.groupby('team')['match_id'].nunique()\n",
    "#Get number of matches played for each team"
   ]
  },
  {
   "cell_type": "code",
   "execution_count": 649,
   "id": "94da47f7",
   "metadata": {},
   "outputs": [],
   "source": [
    "xg_total = xg_total.reset_index(level=0)"
   ]
  },
  {
   "cell_type": "code",
   "execution_count": 650,
   "id": "d67796d2",
   "metadata": {},
   "outputs": [],
   "source": [
    "xg_total['avg_xG_diff'] = round(xg_total['xG_difference'] / xg_total['matches_played'], 2)"
   ]
  },
  {
   "cell_type": "code",
   "execution_count": 653,
   "id": "c1642918",
   "metadata": {},
   "outputs": [],
   "source": [
    "xg_total = xg_total.sort_values(by='avg_xG_diff', ascending=False).reset_index(drop=True)"
   ]
  },
  {
   "cell_type": "code",
   "execution_count": null,
   "id": "bd00b944",
   "metadata": {},
   "outputs": [],
   "source": []
  },
  {
   "cell_type": "code",
   "execution_count": null,
   "id": "2f85a25b",
   "metadata": {},
   "outputs": [],
   "source": []
  },
  {
   "cell_type": "code",
   "execution_count": null,
   "id": "c0b058a4",
   "metadata": {},
   "outputs": [],
   "source": []
  }
 ],
 "metadata": {
  "kernelspec": {
   "display_name": "Python 3 (ipykernel)",
   "language": "python",
   "name": "python3"
  },
  "language_info": {
   "codemirror_mode": {
    "name": "ipython",
    "version": 3
   },
   "file_extension": ".py",
   "mimetype": "text/x-python",
   "name": "python",
   "nbconvert_exporter": "python",
   "pygments_lexer": "ipython3",
   "version": "3.9.7"
  }
 },
 "nbformat": 4,
 "nbformat_minor": 5
}
